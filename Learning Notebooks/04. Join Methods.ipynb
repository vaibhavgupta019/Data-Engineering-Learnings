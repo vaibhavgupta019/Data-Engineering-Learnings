{
 "cells": [
  {
   "cell_type": "code",
   "execution_count": 0,
   "metadata": {
    "application/vnd.databricks.v1+cell": {
     "cellMetadata": {
      "byteLimit": 2048000,
      "rowLimit": 10000
     },
     "inputWidgets": {},
     "nuid": "f7a9e05f-27b5-43dc-a7e9-08d0adf63180",
     "showTitle": true,
     "title": "Create Employee dataframe"
    }
   },
   "outputs": [],
   "source": [
    "employee_data = [(10,\"Raj\",\"1999\",\"100\",\"M\",2000),\n",
    "                 (20,\"Rahul\",\"2002\",\"200\",\"M\",8000),\n",
    "                 (30,\"Raghav\",\"2010\",\"100\",\"\",6000),\n",
    "                 (40,\"Raja\",\"2004\",\"100\",\"F\",7000),\n",
    "                 (50,\"Rama\",\"2008\",\"400\",\"F\",1000),\n",
    "                 (60,\"Rasul\",\"2014\",\"500\",\"M\",5000)\n",
    "]\n",
    "\n",
    "employee_schema = [\"employee_id\",\"name\",\"doj\",\"employee_dept_id\",\"gender\",\"salary\"]\n",
    "\n",
    "employeeDF= spark.createDataFrame(data = employee_data, schema= employee_schema)\n"
   ]
  },
  {
   "cell_type": "code",
   "execution_count": 0,
   "metadata": {
    "application/vnd.databricks.v1+cell": {
     "cellMetadata": {
      "byteLimit": 2048000,
      "rowLimit": 10000
     },
     "inputWidgets": {},
     "nuid": "de912ac2-ac5d-4174-a3d9-580d0f98a9d8",
     "showTitle": true,
     "title": "Create Department Dataframe"
    }
   },
   "outputs": [],
   "source": [
    "department_data = [(\"HR\",100),\n",
    "                   (\"Supply\",200),\n",
    "                   (\"Sales\",300),\n",
    "                   (\"Stock\",400)\n",
    "]\n",
    "\n",
    "department_schema = [\"dept_name\",\"dept_id\"]\n",
    "\n",
    "departmentDF = spark.createDataFrame(data = department_data, schema = department_schema)"
   ]
  },
  {
   "cell_type": "code",
   "execution_count": 0,
   "metadata": {
    "application/vnd.databricks.v1+cell": {
     "cellMetadata": {
      "byteLimit": 2048000,
      "rowLimit": 10000
     },
     "inputWidgets": {},
     "nuid": "fa1d967b-4802-46a3-bdea-56de6fd6177b",
     "showTitle": false,
     "title": ""
    }
   },
   "outputs": [
    {
     "output_type": "display_data",
     "data": {
      "text/html": [
       "<style scoped>\n",
       "  .table-result-container {\n",
       "    max-height: 300px;\n",
       "    overflow: auto;\n",
       "  }\n",
       "  table, th, td {\n",
       "    border: 1px solid black;\n",
       "    border-collapse: collapse;\n",
       "  }\n",
       "  th, td {\n",
       "    padding: 5px;\n",
       "  }\n",
       "  th {\n",
       "    text-align: left;\n",
       "  }\n",
       "</style><div class='table-result-container'><table class='table-result'><thead style='background-color: white'><tr><th>employee_id</th><th>name</th><th>doj</th><th>employee_dept_id</th><th>gender</th><th>salary</th></tr></thead><tbody><tr><td>10</td><td>Raj</td><td>1999</td><td>100</td><td>M</td><td>2000</td></tr><tr><td>20</td><td>Rahul</td><td>2002</td><td>200</td><td>M</td><td>8000</td></tr><tr><td>30</td><td>Raghav</td><td>2010</td><td>100</td><td></td><td>6000</td></tr><tr><td>40</td><td>Raja</td><td>2004</td><td>100</td><td>F</td><td>7000</td></tr><tr><td>50</td><td>Rama</td><td>2008</td><td>400</td><td>F</td><td>1000</td></tr><tr><td>60</td><td>Rasul</td><td>2014</td><td>500</td><td>M</td><td>5000</td></tr></tbody></table></div>"
      ]
     },
     "metadata": {
      "application/vnd.databricks.v1+output": {
       "addedWidgets": {},
       "aggData": [],
       "aggError": "",
       "aggOverflow": false,
       "aggSchema": [],
       "aggSeriesLimitReached": false,
       "aggType": "",
       "arguments": {},
       "columnCustomDisplayInfos": {},
       "data": [
        [
         10,
         "Raj",
         "1999",
         "100",
         "M",
         2000
        ],
        [
         20,
         "Rahul",
         "2002",
         "200",
         "M",
         8000
        ],
        [
         30,
         "Raghav",
         "2010",
         "100",
         "",
         6000
        ],
        [
         40,
         "Raja",
         "2004",
         "100",
         "F",
         7000
        ],
        [
         50,
         "Rama",
         "2008",
         "400",
         "F",
         1000
        ],
        [
         60,
         "Rasul",
         "2014",
         "500",
         "M",
         5000
        ]
       ],
       "datasetInfos": [],
       "dbfsResultPath": null,
       "isJsonSchema": true,
       "metadata": {},
       "overflow": false,
       "plotOptions": {
        "customPlotOptions": {},
        "displayType": "table",
        "pivotAggregation": null,
        "pivotColumns": null,
        "xColumns": null,
        "yColumns": null
       },
       "removedWidgets": [],
       "schema": [
        {
         "metadata": "{}",
         "name": "employee_id",
         "type": "\"long\""
        },
        {
         "metadata": "{}",
         "name": "name",
         "type": "\"string\""
        },
        {
         "metadata": "{}",
         "name": "doj",
         "type": "\"string\""
        },
        {
         "metadata": "{}",
         "name": "employee_dept_id",
         "type": "\"string\""
        },
        {
         "metadata": "{}",
         "name": "gender",
         "type": "\"string\""
        },
        {
         "metadata": "{}",
         "name": "salary",
         "type": "\"long\""
        }
       ],
       "type": "table"
      }
     },
     "output_type": "display_data"
    },
    {
     "output_type": "display_data",
     "data": {
      "text/html": [
       "<style scoped>\n",
       "  .table-result-container {\n",
       "    max-height: 300px;\n",
       "    overflow: auto;\n",
       "  }\n",
       "  table, th, td {\n",
       "    border: 1px solid black;\n",
       "    border-collapse: collapse;\n",
       "  }\n",
       "  th, td {\n",
       "    padding: 5px;\n",
       "  }\n",
       "  th {\n",
       "    text-align: left;\n",
       "  }\n",
       "</style><div class='table-result-container'><table class='table-result'><thead style='background-color: white'><tr><th>dept_name</th><th>dept_id</th></tr></thead><tbody><tr><td>HR</td><td>100</td></tr><tr><td>Supply</td><td>200</td></tr><tr><td>Sales</td><td>300</td></tr><tr><td>Stock</td><td>400</td></tr></tbody></table></div>"
      ]
     },
     "metadata": {
      "application/vnd.databricks.v1+output": {
       "addedWidgets": {},
       "aggData": [],
       "aggError": "",
       "aggOverflow": false,
       "aggSchema": [],
       "aggSeriesLimitReached": false,
       "aggType": "",
       "arguments": {},
       "columnCustomDisplayInfos": {},
       "data": [
        [
         "HR",
         100
        ],
        [
         "Supply",
         200
        ],
        [
         "Sales",
         300
        ],
        [
         "Stock",
         400
        ]
       ],
       "datasetInfos": [],
       "dbfsResultPath": null,
       "isJsonSchema": true,
       "metadata": {},
       "overflow": false,
       "plotOptions": {
        "customPlotOptions": {},
        "displayType": "table",
        "pivotAggregation": null,
        "pivotColumns": null,
        "xColumns": null,
        "yColumns": null
       },
       "removedWidgets": [],
       "schema": [
        {
         "metadata": "{}",
         "name": "dept_name",
         "type": "\"string\""
        },
        {
         "metadata": "{}",
         "name": "dept_id",
         "type": "\"long\""
        }
       ],
       "type": "table"
      }
     },
     "output_type": "display_data"
    }
   ],
   "source": [
    "display(employeeDF)\n",
    "\n",
    "display(departmentDF)"
   ]
  },
  {
   "cell_type": "code",
   "execution_count": 0,
   "metadata": {
    "application/vnd.databricks.v1+cell": {
     "cellMetadata": {
      "byteLimit": 2048000,
      "rowLimit": 10000
     },
     "inputWidgets": {},
     "nuid": "b53e30c8-d07e-4b6f-8a2e-49d1908ec88c",
     "showTitle": true,
     "title": "Inner Join"
    }
   },
   "outputs": [
    {
     "output_type": "stream",
     "name": "stdout",
     "output_type": "stream",
     "text": [
      "+-----------+------+----+----------------+------+------+---------+-------+\n|employee_id|  name| doj|employee_dept_id|gender|salary|dept_name|dept_id|\n+-----------+------+----+----------------+------+------+---------+-------+\n|         10|   Raj|1999|             100|     M|  2000|       HR|    100|\n|         30|Raghav|2010|             100|      |  6000|       HR|    100|\n|         40|  Raja|2004|             100|     F|  7000|       HR|    100|\n|         20| Rahul|2002|             200|     M|  8000|   Supply|    200|\n|         50|  Rama|2008|             400|     F|  1000|    Stock|    400|\n+-----------+------+----+----------------+------+------+---------+-------+\n\n"
     ]
    }
   ],
   "source": [
    "df_innerjoin = employeeDF.join(departmentDF,employeeDF.employee_dept_id == departmentDF.dept_id, \"inner\").show()"
   ]
  },
  {
   "cell_type": "code",
   "execution_count": 0,
   "metadata": {
    "application/vnd.databricks.v1+cell": {
     "cellMetadata": {
      "byteLimit": 2048000,
      "rowLimit": 10000
     },
     "inputWidgets": {},
     "nuid": "4fedf2ea-d6ae-4ee0-a638-73ebb988c53d",
     "showTitle": true,
     "title": "Full Outer Join"
    }
   },
   "outputs": [
    {
     "output_type": "stream",
     "name": "stdout",
     "output_type": "stream",
     "text": [
      "+-----------+------+----+----------------+------+------+---------+-------+\n|employee_id|  name| doj|employee_dept_id|gender|salary|dept_name|dept_id|\n+-----------+------+----+----------------+------+------+---------+-------+\n|         10|   Raj|1999|             100|     M|  2000|       HR|    100|\n|         30|Raghav|2010|             100|      |  6000|       HR|    100|\n|         40|  Raja|2004|             100|     F|  7000|       HR|    100|\n|         20| Rahul|2002|             200|     M|  8000|   Supply|    200|\n|       NULL|  NULL|NULL|            NULL|  NULL|  NULL|    Sales|    300|\n|         50|  Rama|2008|             400|     F|  1000|    Stock|    400|\n|         60| Rasul|2014|             500|     M|  5000|     NULL|   NULL|\n+-----------+------+----+----------------+------+------+---------+-------+\n\n"
     ]
    }
   ],
   "source": [
    "df_outerjoin = employeeDF.join(departmentDF,employeeDF.employee_dept_id == departmentDF.dept_id, \"full\").show()"
   ]
  },
  {
   "cell_type": "code",
   "execution_count": 0,
   "metadata": {
    "application/vnd.databricks.v1+cell": {
     "cellMetadata": {
      "byteLimit": 2048000,
      "rowLimit": 10000
     },
     "inputWidgets": {},
     "nuid": "330063b3-d563-4ed1-9705-bbccab80f71a",
     "showTitle": true,
     "title": "Left Outer Join"
    }
   },
   "outputs": [
    {
     "output_type": "stream",
     "name": "stdout",
     "output_type": "stream",
     "text": [
      "+-----------+------+----+----------------+------+------+---------+-------+\n|employee_id|  name| doj|employee_dept_id|gender|salary|dept_name|dept_id|\n+-----------+------+----+----------------+------+------+---------+-------+\n|         10|   Raj|1999|             100|     M|  2000|       HR|    100|\n|         20| Rahul|2002|             200|     M|  8000|   Supply|    200|\n|         30|Raghav|2010|             100|      |  6000|       HR|    100|\n|         40|  Raja|2004|             100|     F|  7000|       HR|    100|\n|         50|  Rama|2008|             400|     F|  1000|    Stock|    400|\n|         60| Rasul|2014|             500|     M|  5000|     NULL|   NULL|\n+-----------+------+----+----------------+------+------+---------+-------+\n\n"
     ]
    }
   ],
   "source": [
    "df_leftjoin = employeeDF.join(departmentDF,employeeDF.employee_dept_id == departmentDF.dept_id, \"left\").show()"
   ]
  },
  {
   "cell_type": "code",
   "execution_count": 0,
   "metadata": {
    "application/vnd.databricks.v1+cell": {
     "cellMetadata": {
      "byteLimit": 2048000,
      "rowLimit": 10000
     },
     "inputWidgets": {},
     "nuid": "a4933913-425f-452a-a772-2aa29d40bcb5",
     "showTitle": true,
     "title": "Right Outer Join"
    }
   },
   "outputs": [
    {
     "output_type": "stream",
     "name": "stdout",
     "output_type": "stream",
     "text": [
      "+-----------+------+----+----------------+------+------+---------+-------+\n|employee_id|  name| doj|employee_dept_id|gender|salary|dept_name|dept_id|\n+-----------+------+----+----------------+------+------+---------+-------+\n|         40|  Raja|2004|             100|     F|  7000|       HR|    100|\n|         30|Raghav|2010|             100|      |  6000|       HR|    100|\n|         10|   Raj|1999|             100|     M|  2000|       HR|    100|\n|         20| Rahul|2002|             200|     M|  8000|   Supply|    200|\n|       NULL|  NULL|NULL|            NULL|  NULL|  NULL|    Sales|    300|\n|         50|  Rama|2008|             400|     F|  1000|    Stock|    400|\n+-----------+------+----+----------------+------+------+---------+-------+\n\n"
     ]
    }
   ],
   "source": [
    "df_rightjoin = employeeDF.join(departmentDF,employeeDF.employee_dept_id == departmentDF.dept_id, \"right\").show()"
   ]
  },
  {
   "cell_type": "code",
   "execution_count": 0,
   "metadata": {
    "application/vnd.databricks.v1+cell": {
     "cellMetadata": {
      "byteLimit": 2048000,
      "rowLimit": 10000
     },
     "inputWidgets": {},
     "nuid": "a48eb551-dc5f-4cc1-bb19-3f3d237aea5a",
     "showTitle": true,
     "title": "Left Semi Join"
    }
   },
   "outputs": [
    {
     "output_type": "stream",
     "name": "stdout",
     "output_type": "stream",
     "text": [
      "+-----------+------+----+----------------+------+------+\n|employee_id|  name| doj|employee_dept_id|gender|salary|\n+-----------+------+----+----------------+------+------+\n|         10|   Raj|1999|             100|     M|  2000|\n|         30|Raghav|2010|             100|      |  6000|\n|         40|  Raja|2004|             100|     F|  7000|\n|         20| Rahul|2002|             200|     M|  8000|\n|         50|  Rama|2008|             400|     F|  1000|\n+-----------+------+----+----------------+------+------+\n\n"
     ]
    }
   ],
   "source": [
    "df_leftSemiJoin = employeeDF.join(departmentDF,employeeDF.employee_dept_id == departmentDF.dept_id, \"semi\").show()"
   ]
  },
  {
   "cell_type": "code",
   "execution_count": 0,
   "metadata": {
    "application/vnd.databricks.v1+cell": {
     "cellMetadata": {
      "byteLimit": 2048000,
      "rowLimit": 10000
     },
     "inputWidgets": {},
     "nuid": "4c5ccf13-183f-4626-adb6-b1e14986f95a",
     "showTitle": true,
     "title": "Left Anti Join"
    }
   },
   "outputs": [
    {
     "output_type": "stream",
     "name": "stdout",
     "output_type": "stream",
     "text": [
      "+-----------+-----+----+----------------+------+------+\n|employee_id| name| doj|employee_dept_id|gender|salary|\n+-----------+-----+----+----------------+------+------+\n|         60|Rasul|2014|             500|     M|  5000|\n+-----------+-----+----+----------------+------+------+\n\n"
     ]
    }
   ],
   "source": [
    "df_leftAntiJoin = employeeDF.join(departmentDF,employeeDF.employee_dept_id == departmentDF.dept_id, \"anti\").show()"
   ]
  }
 ],
 "metadata": {
  "application/vnd.databricks.v1+notebook": {
   "dashboards": [],
   "environmentMetadata": null,
   "language": "python",
   "notebookMetadata": {
    "pythonIndentUnit": 4
   },
   "notebookName": "04. Join Methods",
   "widgets": {}
  }
 },
 "nbformat": 4,
 "nbformat_minor": 0
}
