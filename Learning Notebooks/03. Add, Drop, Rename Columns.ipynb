{
 "cells": [
  {
   "cell_type": "code",
   "execution_count": 0,
   "metadata": {
    "application/vnd.databricks.v1+cell": {
     "cellMetadata": {
      "byteLimit": 2048000,
      "rowLimit": 10000
     },
     "inputWidgets": {},
     "nuid": "3534bc5f-67d9-48f9-ad1d-a29a172ef144",
     "showTitle": true,
     "title": "Create DataFrame"
    }
   },
   "outputs": [
    {
     "output_type": "display_data",
     "data": {
      "text/html": [
       "<style scoped>\n",
       "  .table-result-container {\n",
       "    max-height: 300px;\n",
       "    overflow: auto;\n",
       "  }\n",
       "  table, th, td {\n",
       "    border: 1px solid black;\n",
       "    border-collapse: collapse;\n",
       "  }\n",
       "  th, td {\n",
       "    padding: 5px;\n",
       "  }\n",
       "  th {\n",
       "    text-align: left;\n",
       "  }\n",
       "</style><div class='table-result-container'><table class='table-result'><thead style='background-color: white'><tr><th>employee_id</th><th>first_name</th><th>last_name</th><th>doj</th><th>employee_dept_id</th><th>gender</th><th>salary</th></tr></thead><tbody><tr><td>10</td><td>Raj</td><td>Kumar</td><td>1999</td><td>100</td><td>M</td><td>2000</td></tr><tr><td>20</td><td>Rashi</td><td>Rajan</td><td>2002</td><td>200</td><td>F</td><td>8000</td></tr><tr><td>30</td><td>Raghav</td><td>Manish</td><td>2010</td><td>100</td><td>null</td><td>6000</td></tr><tr><td>40</td><td>Rinki</td><td>Singh</td><td>2004</td><td>100</td><td>F</td><td>7000</td></tr><tr><td>50</td><td>Rama</td><td>Krish</td><td>2008</td><td>400</td><td>M</td><td>1000</td></tr><tr><td>60</td><td>Rasul</td><td>Kutty</td><td>2014</td><td>500</td><td>M</td><td>5000</td></tr><tr><td>70</td><td>Kumar</td><td>Chand</td><td>2004</td><td>600</td><td>M</td><td>5000</td></tr></tbody></table></div>"
      ]
     },
     "metadata": {
      "application/vnd.databricks.v1+output": {
       "addedWidgets": {},
       "aggData": [],
       "aggError": "",
       "aggOverflow": false,
       "aggSchema": [],
       "aggSeriesLimitReached": false,
       "aggType": "",
       "arguments": {},
       "columnCustomDisplayInfos": {},
       "data": [
        [
         10,
         "Raj",
         "Kumar",
         "1999",
         "100",
         "M",
         2000
        ],
        [
         20,
         "Rashi",
         "Rajan",
         "2002",
         "200",
         "F",
         8000
        ],
        [
         30,
         "Raghav",
         "Manish",
         "2010",
         "100",
         null,
         6000
        ],
        [
         40,
         "Rinki",
         "Singh",
         "2004",
         "100",
         "F",
         7000
        ],
        [
         50,
         "Rama",
         "Krish",
         "2008",
         "400",
         "M",
         1000
        ],
        [
         60,
         "Rasul",
         "Kutty",
         "2014",
         "500",
         "M",
         5000
        ],
        [
         70,
         "Kumar",
         "Chand",
         "2004",
         "600",
         "M",
         5000
        ]
       ],
       "datasetInfos": [],
       "dbfsResultPath": null,
       "isJsonSchema": true,
       "metadata": {},
       "overflow": false,
       "plotOptions": {
        "customPlotOptions": {},
        "displayType": "table",
        "pivotAggregation": null,
        "pivotColumns": null,
        "xColumns": null,
        "yColumns": null
       },
       "removedWidgets": [],
       "schema": [
        {
         "metadata": "{}",
         "name": "employee_id",
         "type": "\"long\""
        },
        {
         "metadata": "{}",
         "name": "first_name",
         "type": "\"string\""
        },
        {
         "metadata": "{}",
         "name": "last_name",
         "type": "\"string\""
        },
        {
         "metadata": "{}",
         "name": "doj",
         "type": "\"string\""
        },
        {
         "metadata": "{}",
         "name": "employee_dept_id",
         "type": "\"string\""
        },
        {
         "metadata": "{}",
         "name": "gender",
         "type": "\"string\""
        },
        {
         "metadata": "{}",
         "name": "salary",
         "type": "\"long\""
        }
       ],
       "type": "table"
      }
     },
     "output_type": "display_data"
    }
   ],
   "source": [
    "employee_data = [(10,\"Raj\",\"Kumar\",\"1999\",\"100\",\"M\",2000),\n",
    "                 (20,\"Rashi\",\"Rajan\",\"2002\",\"200\",\"F\",8000),\n",
    "                 (30,\"Raghav\",\"Manish\",\"2010\",\"100\",None,6000),\n",
    "                 (40,\"Rinki\",\"Singh\",\"2004\",\"100\",\"F\",7000),\n",
    "                 (50,\"Rama\",\"Krish\",\"2008\",\"400\",\"M\",1000),\n",
    "                 (60,\"Rasul\",\"Kutty\",\"2014\",\"500\",\"M\",5000),\n",
    "                 (70,\"Kumar\",\"Chand\",\"2004\",\"600\",\"M\",5000)\n",
    "]\n",
    "\n",
    "employee_schema = [\"employee_id\",\"first_name\",\"last_name\",\"doj\",\"employee_dept_id\",\"gender\",\"salary\"]\n",
    "\n",
    "empDF= spark.createDataFrame(data = employee_data, schema= employee_schema)\n",
    "\n",
    "display(empDF)"
   ]
  },
  {
   "cell_type": "code",
   "execution_count": 0,
   "metadata": {
    "application/vnd.databricks.v1+cell": {
     "cellMetadata": {
      "byteLimit": 2048000,
      "rowLimit": 10000
     },
     "inputWidgets": {},
     "nuid": "34c3dd78-e01f-4838-963d-bbbc1636eb23",
     "showTitle": true,
     "title": "Add new column using constant literal"
    }
   },
   "outputs": [
    {
     "output_type": "stream",
     "name": "stdout",
     "output_type": "stream",
     "text": [
      "+-----------+----------+---------+----+----------------+------+------+--------+\n|employee_id|first_name|last_name| doj|employee_dept_id|gender|salary|Location|\n+-----------+----------+---------+----+----------------+------+------+--------+\n|         10|       Raj|    Kumar|1999|             100|     M|  2000|  Mumbai|\n|         20|     Rashi|    Rajan|2002|             200|     F|  8000|  Mumbai|\n|         30|    Raghav|   Manish|2010|             100|  NULL|  6000|  Mumbai|\n|         40|     Rinki|    Singh|2004|             100|     F|  7000|  Mumbai|\n|         50|      Rama|    Krish|2008|             400|     M|  1000|  Mumbai|\n|         60|     Rasul|    Kutty|2014|             500|     M|  5000|  Mumbai|\n|         70|     Kumar|    Chand|2004|             600|     M|  5000|  Mumbai|\n+-----------+----------+---------+----+----------------+------+------+--------+\n\n"
     ]
    }
   ],
   "source": [
    "from pyspark.sql.functions import lit\n",
    "\n",
    "empDF_AddColumn = empDF.withColumn(\"Location\",lit(\"Mumbai\")).show()"
   ]
  },
  {
   "cell_type": "code",
   "execution_count": 0,
   "metadata": {
    "application/vnd.databricks.v1+cell": {
     "cellMetadata": {
      "byteLimit": 2048000,
      "rowLimit": 10000
     },
     "inputWidgets": {},
     "nuid": "b043c79d-9918-4fad-8d3b-498d7254b94c",
     "showTitle": true,
     "title": "Add new column by calculation"
    }
   },
   "outputs": [
    {
     "output_type": "display_data",
     "data": {
      "text/html": [
       "<style scoped>\n",
       "  .table-result-container {\n",
       "    max-height: 300px;\n",
       "    overflow: auto;\n",
       "  }\n",
       "  table, th, td {\n",
       "    border: 1px solid black;\n",
       "    border-collapse: collapse;\n",
       "  }\n",
       "  th, td {\n",
       "    padding: 5px;\n",
       "  }\n",
       "  th {\n",
       "    text-align: left;\n",
       "  }\n",
       "</style><div class='table-result-container'><table class='table-result'><thead style='background-color: white'><tr><th>employee_id</th><th>first_name</th><th>last_name</th><th>doj</th><th>employee_dept_id</th><th>gender</th><th>salary</th><th>Bonus</th><th>Name</th></tr></thead><tbody><tr><td>10</td><td>Raj</td><td>Kumar</td><td>1999</td><td>100</td><td>M</td><td>2000</td><td>200.0</td><td>Raj Kumar</td></tr><tr><td>20</td><td>Rashi</td><td>Rajan</td><td>2002</td><td>200</td><td>F</td><td>8000</td><td>800.0</td><td>Rashi Rajan</td></tr><tr><td>30</td><td>Raghav</td><td>Manish</td><td>2010</td><td>100</td><td>null</td><td>6000</td><td>600.0</td><td>Raghav Manish</td></tr><tr><td>40</td><td>Rinki</td><td>Singh</td><td>2004</td><td>100</td><td>F</td><td>7000</td><td>700.0</td><td>Rinki Singh</td></tr><tr><td>50</td><td>Rama</td><td>Krish</td><td>2008</td><td>400</td><td>M</td><td>1000</td><td>100.0</td><td>Rama Krish</td></tr><tr><td>60</td><td>Rasul</td><td>Kutty</td><td>2014</td><td>500</td><td>M</td><td>5000</td><td>500.0</td><td>Rasul Kutty</td></tr><tr><td>70</td><td>Kumar</td><td>Chand</td><td>2004</td><td>600</td><td>M</td><td>5000</td><td>500.0</td><td>Kumar Chand</td></tr></tbody></table></div>"
      ]
     },
     "metadata": {
      "application/vnd.databricks.v1+output": {
       "addedWidgets": {},
       "aggData": [],
       "aggError": "",
       "aggOverflow": false,
       "aggSchema": [],
       "aggSeriesLimitReached": false,
       "aggType": "",
       "arguments": {},
       "columnCustomDisplayInfos": {},
       "data": [
        [
         10,
         "Raj",
         "Kumar",
         "1999",
         "100",
         "M",
         2000,
         200.0,
         "Raj Kumar"
        ],
        [
         20,
         "Rashi",
         "Rajan",
         "2002",
         "200",
         "F",
         8000,
         800.0,
         "Rashi Rajan"
        ],
        [
         30,
         "Raghav",
         "Manish",
         "2010",
         "100",
         null,
         6000,
         600.0,
         "Raghav Manish"
        ],
        [
         40,
         "Rinki",
         "Singh",
         "2004",
         "100",
         "F",
         7000,
         700.0,
         "Rinki Singh"
        ],
        [
         50,
         "Rama",
         "Krish",
         "2008",
         "400",
         "M",
         1000,
         100.0,
         "Rama Krish"
        ],
        [
         60,
         "Rasul",
         "Kutty",
         "2014",
         "500",
         "M",
         5000,
         500.0,
         "Rasul Kutty"
        ],
        [
         70,
         "Kumar",
         "Chand",
         "2004",
         "600",
         "M",
         5000,
         500.0,
         "Kumar Chand"
        ]
       ],
       "datasetInfos": [],
       "dbfsResultPath": null,
       "isJsonSchema": true,
       "metadata": {},
       "overflow": false,
       "plotOptions": {
        "customPlotOptions": {},
        "displayType": "table",
        "pivotAggregation": null,
        "pivotColumns": null,
        "xColumns": null,
        "yColumns": null
       },
       "removedWidgets": [],
       "schema": [
        {
         "metadata": "{}",
         "name": "employee_id",
         "type": "\"long\""
        },
        {
         "metadata": "{}",
         "name": "first_name",
         "type": "\"string\""
        },
        {
         "metadata": "{}",
         "name": "last_name",
         "type": "\"string\""
        },
        {
         "metadata": "{}",
         "name": "doj",
         "type": "\"string\""
        },
        {
         "metadata": "{}",
         "name": "employee_dept_id",
         "type": "\"string\""
        },
        {
         "metadata": "{}",
         "name": "gender",
         "type": "\"string\""
        },
        {
         "metadata": "{}",
         "name": "salary",
         "type": "\"long\""
        },
        {
         "metadata": "{}",
         "name": "Bonus",
         "type": "\"double\""
        },
        {
         "metadata": "{}",
         "name": "Name",
         "type": "\"string\""
        }
       ],
       "type": "table"
      }
     },
     "output_type": "display_data"
    }
   ],
   "source": [
    "from pyspark.sql.functions import concat, lit\n",
    "\n",
    "empDF_AddColumn = empDF.withColumn(\"Bonus\",empDF.salary*0.1).withColumn(\"Name\",concat(\"first_name\",lit(\" \"),\"last_name\"))\n",
    "display(empDF_AddColumn)"
   ]
  },
  {
   "cell_type": "code",
   "execution_count": 0,
   "metadata": {
    "application/vnd.databricks.v1+cell": {
     "cellMetadata": {
      "byteLimit": 2048000,
      "rowLimit": 10000
     },
     "inputWidgets": {},
     "nuid": "5f1c211c-67eb-45b6-8080-7a81cef372c1",
     "showTitle": true,
     "title": "Rename a column"
    }
   },
   "outputs": [
    {
     "output_type": "stream",
     "name": "stdout",
     "output_type": "stream",
     "text": [
      "+-----------+----------+---------+---------------+----------------+------+------+-----+-------------+\n|employee_id|first_name|last_name|Date_of_Joining|employee_dept_id|gender|salary|Bonus|    Full_Name|\n+-----------+----------+---------+---------------+----------------+------+------+-----+-------------+\n|         10|       Raj|    Kumar|           1999|             100|     M|  2000|200.0|    Raj Kumar|\n|         20|     Rashi|    Rajan|           2002|             200|     F|  8000|800.0|  Rashi Rajan|\n|         30|    Raghav|   Manish|           2010|             100|  NULL|  6000|600.0|Raghav Manish|\n|         40|     Rinki|    Singh|           2004|             100|     F|  7000|700.0|  Rinki Singh|\n|         50|      Rama|    Krish|           2008|             400|     M|  1000|100.0|   Rama Krish|\n|         60|     Rasul|    Kutty|           2014|             500|     M|  5000|500.0|  Rasul Kutty|\n|         70|     Kumar|    Chand|           2004|             600|     M|  5000|500.0|  Kumar Chand|\n+-----------+----------+---------+---------------+----------------+------+------+-----+-------------+\n\n"
     ]
    }
   ],
   "source": [
    "empDF_RenameColumn = empDF_AddColumn.withColumnRenamed(\"Name\",\"Full_Name\").withColumnRenamed(\"doj\",\"Date_of_Joining\").show()"
   ]
  },
  {
   "cell_type": "code",
   "execution_count": 0,
   "metadata": {
    "application/vnd.databricks.v1+cell": {
     "cellMetadata": {
      "byteLimit": 2048000,
      "rowLimit": 10000
     },
     "inputWidgets": {},
     "nuid": "c4095416-28b6-49c0-aec1-3abe0ceb2bc8",
     "showTitle": true,
     "title": "Drop a column"
    }
   },
   "outputs": [
    {
     "output_type": "stream",
     "name": "stdout",
     "output_type": "stream",
     "text": [
      "+-----------+----------+---------+----+----------------+------+------+\n|employee_id|first_name|last_name| doj|employee_dept_id|gender|salary|\n+-----------+----------+---------+----+----------------+------+------+\n|         10|       Raj|    Kumar|1999|             100|     M|  2000|\n|         20|     Rashi|    Rajan|2002|             200|     F|  8000|\n|         30|    Raghav|   Manish|2010|             100|  NULL|  6000|\n|         40|     Rinki|    Singh|2004|             100|     F|  7000|\n|         50|      Rama|    Krish|2008|             400|     M|  1000|\n|         60|     Rasul|    Kutty|2014|             500|     M|  5000|\n|         70|     Kumar|    Chand|2004|             600|     M|  5000|\n+-----------+----------+---------+----+----------------+------+------+\n\n"
     ]
    }
   ],
   "source": [
    "empDF_DropColumn = empDF_AddColumn.drop(\"name\").drop(\"Bonus\").show()"
   ]
  }
 ],
 "metadata": {
  "application/vnd.databricks.v1+notebook": {
   "dashboards": [],
   "environmentMetadata": null,
   "language": "python",
   "notebookMetadata": {
    "pythonIndentUnit": 4
   },
   "notebookName": "03. Add, Drop, Rename Columns",
   "widgets": {}
  }
 },
 "nbformat": 4,
 "nbformat_minor": 0
}
