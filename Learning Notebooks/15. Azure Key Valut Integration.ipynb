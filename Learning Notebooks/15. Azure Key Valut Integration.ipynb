{
 "cells": [
  {
   "cell_type": "markdown",
   "metadata": {
    "application/vnd.databricks.v1+cell": {
     "cellMetadata": {},
     "inputWidgets": {},
     "nuid": "ed8c664f-e1ba-403f-8036-2d1432cbff80",
     "showTitle": false,
     "title": ""
    }
   },
   "source": [
    "####Azure Key Vault Setup\n",
    "\n",
    "* Login to Azure Portal\n",
    "* Spin the service - Azure Key Vault\n",
    "* Note down DNS name and Resource ID\n",
    "* Create a secret"
   ]
  },
  {
   "cell_type": "markdown",
   "metadata": {
    "application/vnd.databricks.v1+cell": {
     "cellMetadata": {},
     "inputWidgets": {},
     "nuid": "eb364e26-21b9-41eb-9f24-066f71efa80f",
     "showTitle": false,
     "title": ""
    }
   },
   "source": [
    "####Databricks Scoped Credentials\n",
    "\n",
    "* https://community.cloud.databricks.com/?o=<workspace_id\\>#secrets/createScope\n",
    "* Name the scoped credential\n",
    "* Input DNS name (Vault URI) and Resource ID\n",
    "* Create scoped credential"
   ]
  },
  {
   "cell_type": "markdown",
   "metadata": {
    "application/vnd.databricks.v1+cell": {
     "cellMetadata": {},
     "inputWidgets": {},
     "nuid": "8ee175cf-3b51-43b7-b100-065fd78c2ae1",
     "showTitle": false,
     "title": ""
    }
   },
   "source": [
    "####Retrieve the key using PySpark\n",
    "\n",
    "dbutils.secrets.get(scope = \"\\<scope_name\\>\", key = \"\\<key_name\\>\")"
   ]
  },
  {
   "cell_type": "code",
   "execution_count": 0,
   "metadata": {
    "application/vnd.databricks.v1+cell": {
     "cellMetadata": {},
     "inputWidgets": {},
     "nuid": "fd17d75e-0f7f-4a3b-8f67-2e60c16bf2a8",
     "showTitle": false,
     "title": ""
    }
   },
   "outputs": [],
   "source": [
    "jdbcHostname = dbutils.secrets.get(scope = \"<scope name>\", key = \"<key name>\")\n",
    "jdbcPort = 1433\n",
    "jdbcDatabase = dbutils.secrets.get(scope = \"<scope name>\", key = \"<key name>\")\n",
    "jbdcUsername = dbutils.secrets.get(scope = \"<scope name>\", key = \"<key name>\")\n",
    "jdbcPassword = dbutils.secrets.get(scope = \"<scope name>\", key = \"<key name>\")\n",
    "jdbcDriver = \"com.microsoft.sqlserver.jdbc.SQLServerDriver\"\n",
    "\n",
    "jdbcUrl = f\"jdbc:sqlserver://{jdbcHostname}:{jdbcPort};databaseName={jdbcDatabase};user={jdbcUsername};password={jdbcPassword}\""
   ]
  }
 ],
 "metadata": {
  "application/vnd.databricks.v1+notebook": {
   "dashboards": [],
   "environmentMetadata": null,
   "language": "python",
   "notebookMetadata": {
    "pythonIndentUnit": 4
   },
   "notebookName": "15. Azure Key Valut Integration",
   "widgets": {}
  }
 },
 "nbformat": 4,
 "nbformat_minor": 0
}
