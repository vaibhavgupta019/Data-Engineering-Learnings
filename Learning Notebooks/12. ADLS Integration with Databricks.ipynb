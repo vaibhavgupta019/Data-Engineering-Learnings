{
 "cells": [
  {
   "cell_type": "markdown",
   "metadata": {
    "application/vnd.databricks.v1+cell": {
     "cellMetadata": {},
     "inputWidgets": {},
     "nuid": "d1962c64-d6d3-4749-af14-a48a0821eed3",
     "showTitle": false,
     "title": ""
    }
   },
   "source": [
    "####Methods of ADLS Integration with Databricks\n",
    "* Using a Service Principal\n",
    "* Using Azure Active Directory credentials known as a credential passthrough\n",
    "* Using ADLS access key directly\n",
    "* Creating Mount Pont using ADLS Access Key"
   ]
  },
  {
   "cell_type": "code",
   "execution_count": 0,
   "metadata": {
    "application/vnd.databricks.v1+cell": {
     "cellMetadata": {},
     "inputWidgets": {},
     "nuid": "bbbd4197-1ac7-4c51-906c-2833c066790d",
     "showTitle": true,
     "title": "Method 1: Using ADLS access key directly"
    }
   },
   "outputs": [],
   "source": [
    "spark.config.set(\n",
    "    \"fs.azure.account.key.<storage account>.dfs.core.windows.net\",\n",
    "    \"<access key>\"\n",
    ")"
   ]
  },
  {
   "cell_type": "code",
   "execution_count": 0,
   "metadata": {
    "application/vnd.databricks.v1+cell": {
     "cellMetadata": {},
     "inputWidgets": {},
     "nuid": "d95fbe95-3767-49e6-a033-227c6d6d3c6e",
     "showTitle": false,
     "title": ""
    }
   },
   "outputs": [],
   "source": [
    "dbutils.fs.ls(\"abfss://<container name>@<storage account>.dfs.core.windows.net/\")"
   ]
  },
  {
   "cell_type": "code",
   "execution_count": 0,
   "metadata": {
    "application/vnd.databricks.v1+cell": {
     "cellMetadata": {},
     "inputWidgets": {},
     "nuid": "2d8f4471-8084-4ff9-a00f-427baeda2d76",
     "showTitle": false,
     "title": ""
    }
   },
   "outputs": [],
   "source": [
    "#set the data lake file location\n",
    "file_location = \"abfss://<container name>@<storage account>.dfs.core.windows.net/\"\n",
    "\n",
    "#read in the data to dataframe df\n",
    "df = spark.read.format(\"csv\")\\\n",
    "    .option(\"inferSchema\",\"true\")\\\n",
    "    .option(\"header\",\"true\")\\\n",
    "    .option(\"delimiter\",\",\")\\\n",
    "    .load(file_path)\n",
    "\n",
    "#display the dataframe\n",
    "display(df)"
   ]
  },
  {
   "cell_type": "code",
   "execution_count": 0,
   "metadata": {
    "application/vnd.databricks.v1+cell": {
     "cellMetadata": {},
     "inputWidgets": {},
     "nuid": "789eaa0d-5ab1-48ee-b1e6-9fe845f31bed",
     "showTitle": true,
     "title": "Method 2: Creating Mount Point using ADLS Access Key"
    }
   },
   "outputs": [],
   "source": [
    "dbutils.fs.mount(\n",
    "    source = \"wasbs://<container name>@<storage account>.blob.core.windows.net\",\n",
    "    mount_point = \"/mnt/<mount name>\",\n",
    "    extra_configs = (\"fs.azure.account.key.<storage account>.blob.core.windows.net\":\"<access key>\")\n",
    ")"
   ]
  },
  {
   "cell_type": "code",
   "execution_count": 0,
   "metadata": {
    "application/vnd.databricks.v1+cell": {
     "cellMetadata": {},
     "inputWidgets": {},
     "nuid": "0f20a999-4522-48e0-b405-4e0c20f0d717",
     "showTitle": false,
     "title": ""
    }
   },
   "outputs": [],
   "source": [
    "dbutils.fs.ls(\"<mount_point>\")"
   ]
  },
  {
   "cell_type": "code",
   "execution_count": 0,
   "metadata": {
    "application/vnd.databricks.v1+cell": {
     "cellMetadata": {},
     "inputWidgets": {},
     "nuid": "f871ae48-e5a5-4933-b374-df570cb306e6",
     "showTitle": false,
     "title": ""
    }
   },
   "outputs": [],
   "source": [
    "dbutils.fs.mounts()"
   ]
  },
  {
   "cell_type": "code",
   "execution_count": 0,
   "metadata": {
    "application/vnd.databricks.v1+cell": {
     "cellMetadata": {},
     "inputWidgets": {},
     "nuid": "d2857247-bfae-4bbd-8637-f57d6e4239ec",
     "showTitle": false,
     "title": ""
    }
   },
   "outputs": [],
   "source": [
    "dbutils.fs.unmount(\"<mount_point>\")"
   ]
  }
 ],
 "metadata": {
  "application/vnd.databricks.v1+notebook": {
   "dashboards": [],
   "environmentMetadata": null,
   "language": "python",
   "notebookMetadata": {
    "pythonIndentUnit": 4
   },
   "notebookName": "12. ADLS Integration with Databricks",
   "widgets": {}
  }
 },
 "nbformat": 4,
 "nbformat_minor": 0
}
