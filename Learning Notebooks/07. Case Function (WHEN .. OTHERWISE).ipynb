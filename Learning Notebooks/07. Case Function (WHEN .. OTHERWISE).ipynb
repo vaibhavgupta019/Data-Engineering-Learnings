{
 "cells": [
  {
   "cell_type": "code",
   "execution_count": 0,
   "metadata": {
    "application/vnd.databricks.v1+cell": {
     "cellMetadata": {
      "byteLimit": 2048000,
      "rowLimit": 10000
     },
     "inputWidgets": {},
     "nuid": "9371aac7-46b7-482d-8dac-283d5e5e4a8d",
     "showTitle": true,
     "title": "Create sample DataFrame"
    }
   },
   "outputs": [
    {
     "output_type": "display_data",
     "data": {
      "text/html": [
       "<style scoped>\n",
       "  .table-result-container {\n",
       "    max-height: 300px;\n",
       "    overflow: auto;\n",
       "  }\n",
       "  table, th, td {\n",
       "    border: 1px solid black;\n",
       "    border-collapse: collapse;\n",
       "  }\n",
       "  th, td {\n",
       "    padding: 5px;\n",
       "  }\n",
       "  th {\n",
       "    text-align: left;\n",
       "  }\n",
       "</style><div class='table-result-container'><table class='table-result'><thead style='background-color: white'><tr><th>Name</th><th>Subject</th><th>Mark</th><th>Status</th><th>Attendance</th></tr></thead><tbody><tr><td>Raja</td><td>Science</td><td>80</td><td>P</td><td>90</td></tr><tr><td>Rakesh</td><td>Maths</td><td>90</td><td>P</td><td>70</td></tr><tr><td>Rama</td><td>English</td><td>20</td><td>F</td><td>80</td></tr><tr><td>Ramesh</td><td>Science</td><td>45</td><td>F</td><td>75</td></tr><tr><td>Rajesh</td><td>Maths</td><td>30</td><td>F</td><td>50</td></tr><tr><td>Raghav</td><td>Maths</td><td>null</td><td>NA</td><td>70</td></tr></tbody></table></div>"
      ]
     },
     "metadata": {
      "application/vnd.databricks.v1+output": {
       "addedWidgets": {},
       "aggData": [],
       "aggError": "",
       "aggOverflow": false,
       "aggSchema": [],
       "aggSeriesLimitReached": false,
       "aggType": "",
       "arguments": {},
       "columnCustomDisplayInfos": {},
       "data": [
        [
         "Raja",
         "Science",
         80,
         "P",
         90
        ],
        [
         "Rakesh",
         "Maths",
         90,
         "P",
         70
        ],
        [
         "Rama",
         "English",
         20,
         "F",
         80
        ],
        [
         "Ramesh",
         "Science",
         45,
         "F",
         75
        ],
        [
         "Rajesh",
         "Maths",
         30,
         "F",
         50
        ],
        [
         "Raghav",
         "Maths",
         null,
         "NA",
         70
        ]
       ],
       "datasetInfos": [],
       "dbfsResultPath": null,
       "isJsonSchema": true,
       "metadata": {},
       "overflow": false,
       "plotOptions": {
        "customPlotOptions": {},
        "displayType": "table",
        "pivotAggregation": null,
        "pivotColumns": null,
        "xColumns": null,
        "yColumns": null
       },
       "removedWidgets": [],
       "schema": [
        {
         "metadata": "{}",
         "name": "Name",
         "type": "\"string\""
        },
        {
         "metadata": "{}",
         "name": "Subject",
         "type": "\"string\""
        },
        {
         "metadata": "{}",
         "name": "Mark",
         "type": "\"long\""
        },
        {
         "metadata": "{}",
         "name": "Status",
         "type": "\"string\""
        },
        {
         "metadata": "{}",
         "name": "Attendance",
         "type": "\"long\""
        }
       ],
       "type": "table"
      }
     },
     "output_type": "display_data"
    }
   ],
   "source": [
    "data_student = [\n",
    "    (\"Raja\",\"Science\",80,\"P\",90),\n",
    "    (\"Rakesh\",\"Maths\",90,\"P\",70),\n",
    "    (\"Rama\",\"English\",20,\"F\",80),\n",
    "    (\"Ramesh\",\"Science\",45,\"F\",75),\n",
    "    (\"Rajesh\",\"Maths\",30,\"F\",50),\n",
    "    (\"Raghav\",\"Maths\",None,\"NA\",70)\n",
    "]\n",
    "\n",
    "Schema = [\"Name\", \"Subject\", \"Mark\", \"Status\", \"Attendance\"]\n",
    "\n",
    "df = spark.createDataFrame(data = data_student, schema = Schema)\n",
    "\n",
    "display(df)"
   ]
  },
  {
   "cell_type": "code",
   "execution_count": 0,
   "metadata": {
    "application/vnd.databricks.v1+cell": {
     "cellMetadata": {
      "byteLimit": 2048000,
      "rowLimit": 10000
     },
     "inputWidgets": {},
     "nuid": "ab916553-9792-42dd-96e5-ce1befb5bb37",
     "showTitle": true,
     "title": "Update the existing column"
    }
   },
   "outputs": [
    {
     "output_type": "display_data",
     "data": {
      "text/html": [
       "<style scoped>\n",
       "  .table-result-container {\n",
       "    max-height: 300px;\n",
       "    overflow: auto;\n",
       "  }\n",
       "  table, th, td {\n",
       "    border: 1px solid black;\n",
       "    border-collapse: collapse;\n",
       "  }\n",
       "  th, td {\n",
       "    padding: 5px;\n",
       "  }\n",
       "  th {\n",
       "    text-align: left;\n",
       "  }\n",
       "</style><div class='table-result-container'><table class='table-result'><thead style='background-color: white'><tr><th>Name</th><th>Subject</th><th>Mark</th><th>Status</th><th>Attendance</th></tr></thead><tbody><tr><td>Raja</td><td>Science</td><td>80</td><td>Pass</td><td>90</td></tr><tr><td>Rakesh</td><td>Maths</td><td>90</td><td>Pass</td><td>70</td></tr><tr><td>Rama</td><td>English</td><td>20</td><td>Fail</td><td>80</td></tr><tr><td>Ramesh</td><td>Science</td><td>45</td><td>Fail</td><td>75</td></tr><tr><td>Rajesh</td><td>Maths</td><td>30</td><td>Fail</td><td>50</td></tr><tr><td>Raghav</td><td>Maths</td><td>null</td><td>Absentee</td><td>70</td></tr></tbody></table></div>"
      ]
     },
     "metadata": {
      "application/vnd.databricks.v1+output": {
       "addedWidgets": {},
       "aggData": [],
       "aggError": "",
       "aggOverflow": false,
       "aggSchema": [],
       "aggSeriesLimitReached": false,
       "aggType": "",
       "arguments": {},
       "columnCustomDisplayInfos": {},
       "data": [
        [
         "Raja",
         "Science",
         80,
         "Pass",
         90
        ],
        [
         "Rakesh",
         "Maths",
         90,
         "Pass",
         70
        ],
        [
         "Rama",
         "English",
         20,
         "Fail",
         80
        ],
        [
         "Ramesh",
         "Science",
         45,
         "Fail",
         75
        ],
        [
         "Rajesh",
         "Maths",
         30,
         "Fail",
         50
        ],
        [
         "Raghav",
         "Maths",
         null,
         "Absentee",
         70
        ]
       ],
       "datasetInfos": [],
       "dbfsResultPath": null,
       "isJsonSchema": true,
       "metadata": {},
       "overflow": false,
       "plotOptions": {
        "customPlotOptions": {},
        "displayType": "table",
        "pivotAggregation": null,
        "pivotColumns": null,
        "xColumns": null,
        "yColumns": null
       },
       "removedWidgets": [],
       "schema": [
        {
         "metadata": "{}",
         "name": "Name",
         "type": "\"string\""
        },
        {
         "metadata": "{}",
         "name": "Subject",
         "type": "\"string\""
        },
        {
         "metadata": "{}",
         "name": "Mark",
         "type": "\"long\""
        },
        {
         "metadata": "{}",
         "name": "Status",
         "type": "\"string\""
        },
        {
         "metadata": "{}",
         "name": "Attendance",
         "type": "\"long\""
        }
       ],
       "type": "table"
      }
     },
     "output_type": "display_data"
    }
   ],
   "source": [
    "from pyspark.sql.functions import when\n",
    "\n",
    "df1 = df.withColumn(\"Status\",when(df.Mark >= 50, \"Pass\")\n",
    "                    .when(df.Mark < 50, \"Fail\")\n",
    "                    .otherwise(\"Absentee\")\n",
    "                    )\n",
    "\n",
    "display(df1)"
   ]
  },
  {
   "cell_type": "code",
   "execution_count": 0,
   "metadata": {
    "application/vnd.databricks.v1+cell": {
     "cellMetadata": {
      "byteLimit": 2048000,
      "rowLimit": 10000
     },
     "inputWidgets": {},
     "nuid": "04b43346-b756-47df-83d8-0aa2dfca9149",
     "showTitle": true,
     "title": "Create a new column"
    }
   },
   "outputs": [
    {
     "output_type": "display_data",
     "data": {
      "text/html": [
       "<style scoped>\n",
       "  .table-result-container {\n",
       "    max-height: 300px;\n",
       "    overflow: auto;\n",
       "  }\n",
       "  table, th, td {\n",
       "    border: 1px solid black;\n",
       "    border-collapse: collapse;\n",
       "  }\n",
       "  th, td {\n",
       "    padding: 5px;\n",
       "  }\n",
       "  th {\n",
       "    text-align: left;\n",
       "  }\n",
       "</style><div class='table-result-container'><table class='table-result'><thead style='background-color: white'><tr><th>Name</th><th>Subject</th><th>Mark</th><th>Status</th><th>Attendance</th><th>New_Status</th></tr></thead><tbody><tr><td>Raja</td><td>Science</td><td>80</td><td>P</td><td>90</td><td>Pass</td></tr><tr><td>Rakesh</td><td>Maths</td><td>90</td><td>P</td><td>70</td><td>Pass</td></tr><tr><td>Rama</td><td>English</td><td>20</td><td>F</td><td>80</td><td>Fail</td></tr><tr><td>Ramesh</td><td>Science</td><td>45</td><td>F</td><td>75</td><td>Fail</td></tr><tr><td>Rajesh</td><td>Maths</td><td>30</td><td>F</td><td>50</td><td>Fail</td></tr><tr><td>Raghav</td><td>Maths</td><td>null</td><td>NA</td><td>70</td><td>Absentee</td></tr></tbody></table></div>"
      ]
     },
     "metadata": {
      "application/vnd.databricks.v1+output": {
       "addedWidgets": {},
       "aggData": [],
       "aggError": "",
       "aggOverflow": false,
       "aggSchema": [],
       "aggSeriesLimitReached": false,
       "aggType": "",
       "arguments": {},
       "columnCustomDisplayInfos": {},
       "data": [
        [
         "Raja",
         "Science",
         80,
         "P",
         90,
         "Pass"
        ],
        [
         "Rakesh",
         "Maths",
         90,
         "P",
         70,
         "Pass"
        ],
        [
         "Rama",
         "English",
         20,
         "F",
         80,
         "Fail"
        ],
        [
         "Ramesh",
         "Science",
         45,
         "F",
         75,
         "Fail"
        ],
        [
         "Rajesh",
         "Maths",
         30,
         "F",
         50,
         "Fail"
        ],
        [
         "Raghav",
         "Maths",
         null,
         "NA",
         70,
         "Absentee"
        ]
       ],
       "datasetInfos": [],
       "dbfsResultPath": null,
       "isJsonSchema": true,
       "metadata": {},
       "overflow": false,
       "plotOptions": {
        "customPlotOptions": {},
        "displayType": "table",
        "pivotAggregation": null,
        "pivotColumns": null,
        "xColumns": null,
        "yColumns": null
       },
       "removedWidgets": [],
       "schema": [
        {
         "metadata": "{}",
         "name": "Name",
         "type": "\"string\""
        },
        {
         "metadata": "{}",
         "name": "Subject",
         "type": "\"string\""
        },
        {
         "metadata": "{}",
         "name": "Mark",
         "type": "\"long\""
        },
        {
         "metadata": "{}",
         "name": "Status",
         "type": "\"string\""
        },
        {
         "metadata": "{}",
         "name": "Attendance",
         "type": "\"long\""
        },
        {
         "metadata": "{}",
         "name": "New_Status",
         "type": "\"string\""
        }
       ],
       "type": "table"
      }
     },
     "output_type": "display_data"
    }
   ],
   "source": [
    "from pyspark.sql.functions import when\n",
    "\n",
    "df2 = df.withColumn(\"New_Status\",when(df.Mark >= 50, \"Pass\")\n",
    "                    .when(df.Mark < 50, \"Fail\")\n",
    "                    .otherwise(\"Absentee\")\n",
    "                    )\n",
    "\n",
    "display(df2)"
   ]
  },
  {
   "cell_type": "code",
   "execution_count": 0,
   "metadata": {
    "application/vnd.databricks.v1+cell": {
     "cellMetadata": {
      "byteLimit": 2048000,
      "rowLimit": 10000
     },
     "inputWidgets": {},
     "nuid": "c403dffe-ea8f-4440-960f-3cb7c4ffd5c3",
     "showTitle": true,
     "title": "Another Syntax method"
    }
   },
   "outputs": [
    {
     "output_type": "display_data",
     "data": {
      "text/html": [
       "<style scoped>\n",
       "  .table-result-container {\n",
       "    max-height: 300px;\n",
       "    overflow: auto;\n",
       "  }\n",
       "  table, th, td {\n",
       "    border: 1px solid black;\n",
       "    border-collapse: collapse;\n",
       "  }\n",
       "  th, td {\n",
       "    padding: 5px;\n",
       "  }\n",
       "  th {\n",
       "    text-align: left;\n",
       "  }\n",
       "</style><div class='table-result-container'><table class='table-result'><thead style='background-color: white'><tr><th>Name</th><th>Subject</th><th>Mark</th><th>Status</th><th>Attendance</th><th>New Status</th></tr></thead><tbody><tr><td>Raja</td><td>Science</td><td>80</td><td>P</td><td>90</td><td>Pass</td></tr><tr><td>Rakesh</td><td>Maths</td><td>90</td><td>P</td><td>70</td><td>Pass</td></tr><tr><td>Rama</td><td>English</td><td>20</td><td>F</td><td>80</td><td>Fail</td></tr><tr><td>Ramesh</td><td>Science</td><td>45</td><td>F</td><td>75</td><td>Fail</td></tr><tr><td>Rajesh</td><td>Maths</td><td>30</td><td>F</td><td>50</td><td>Fail</td></tr><tr><td>Raghav</td><td>Maths</td><td>null</td><td>NA</td><td>70</td><td>Absentee</td></tr></tbody></table></div>"
      ]
     },
     "metadata": {
      "application/vnd.databricks.v1+output": {
       "addedWidgets": {},
       "aggData": [],
       "aggError": "",
       "aggOverflow": false,
       "aggSchema": [],
       "aggSeriesLimitReached": false,
       "aggType": "",
       "arguments": {},
       "columnCustomDisplayInfos": {},
       "data": [
        [
         "Raja",
         "Science",
         80,
         "P",
         90,
         "Pass"
        ],
        [
         "Rakesh",
         "Maths",
         90,
         "P",
         70,
         "Pass"
        ],
        [
         "Rama",
         "English",
         20,
         "F",
         80,
         "Fail"
        ],
        [
         "Ramesh",
         "Science",
         45,
         "F",
         75,
         "Fail"
        ],
        [
         "Rajesh",
         "Maths",
         30,
         "F",
         50,
         "Fail"
        ],
        [
         "Raghav",
         "Maths",
         null,
         "NA",
         70,
         "Absentee"
        ]
       ],
       "datasetInfos": [],
       "dbfsResultPath": null,
       "isJsonSchema": true,
       "metadata": {},
       "overflow": false,
       "plotOptions": {
        "customPlotOptions": {},
        "displayType": "table",
        "pivotAggregation": null,
        "pivotColumns": null,
        "xColumns": null,
        "yColumns": null
       },
       "removedWidgets": [],
       "schema": [
        {
         "metadata": "{}",
         "name": "Name",
         "type": "\"string\""
        },
        {
         "metadata": "{}",
         "name": "Subject",
         "type": "\"string\""
        },
        {
         "metadata": "{}",
         "name": "Mark",
         "type": "\"long\""
        },
        {
         "metadata": "{}",
         "name": "Status",
         "type": "\"string\""
        },
        {
         "metadata": "{}",
         "name": "Attendance",
         "type": "\"long\""
        },
        {
         "metadata": "{}",
         "name": "New Status",
         "type": "\"string\""
        }
       ],
       "type": "table"
      }
     },
     "output_type": "display_data"
    }
   ],
   "source": [
    "from pyspark.sql.functions import expr\n",
    "\n",
    "df3 = df.withColumn(\"New Status\", expr(\"case when Mark >= 50 then 'Pass' \" +\n",
    "                                             \"when Mark < 50 then 'Fail' \" +\n",
    "                                             \"else 'Absentee' end \"))\n",
    "\n",
    "display(df3)"
   ]
  },
  {
   "cell_type": "code",
   "execution_count": 0,
   "metadata": {
    "application/vnd.databricks.v1+cell": {
     "cellMetadata": {
      "byteLimit": 2048000,
      "rowLimit": 10000
     },
     "inputWidgets": {},
     "nuid": "b78bc8b4-b60a-4979-915f-9c7d0ce4853b",
     "showTitle": true,
     "title": "Multi-conditions using AND and OR Operators"
    }
   },
   "outputs": [
    {
     "output_type": "display_data",
     "data": {
      "text/html": [
       "<style scoped>\n",
       "  .table-result-container {\n",
       "    max-height: 300px;\n",
       "    overflow: auto;\n",
       "  }\n",
       "  table, th, td {\n",
       "    border: 1px solid black;\n",
       "    border-collapse: collapse;\n",
       "  }\n",
       "  th, td {\n",
       "    padding: 5px;\n",
       "  }\n",
       "  th {\n",
       "    text-align: left;\n",
       "  }\n",
       "</style><div class='table-result-container'><table class='table-result'><thead style='background-color: white'><tr><th>Name</th><th>Subject</th><th>Mark</th><th>Status</th><th>Attendance</th><th>Grade_AND</th></tr></thead><tbody><tr><td>Raja</td><td>Science</td><td>80</td><td>P</td><td>90</td><td>Distinction</td></tr><tr><td>Rakesh</td><td>Maths</td><td>90</td><td>P</td><td>70</td><td>Good</td></tr><tr><td>Rama</td><td>English</td><td>20</td><td>F</td><td>80</td><td>Average</td></tr><tr><td>Ramesh</td><td>Science</td><td>45</td><td>F</td><td>75</td><td>Average</td></tr><tr><td>Rajesh</td><td>Maths</td><td>30</td><td>F</td><td>50</td><td>Average</td></tr><tr><td>Raghav</td><td>Maths</td><td>null</td><td>NA</td><td>70</td><td>Average</td></tr></tbody></table></div>"
      ]
     },
     "metadata": {
      "application/vnd.databricks.v1+output": {
       "addedWidgets": {},
       "aggData": [],
       "aggError": "",
       "aggOverflow": false,
       "aggSchema": [],
       "aggSeriesLimitReached": false,
       "aggType": "",
       "arguments": {},
       "columnCustomDisplayInfos": {},
       "data": [
        [
         "Raja",
         "Science",
         80,
         "P",
         90,
         "Distinction"
        ],
        [
         "Rakesh",
         "Maths",
         90,
         "P",
         70,
         "Good"
        ],
        [
         "Rama",
         "English",
         20,
         "F",
         80,
         "Average"
        ],
        [
         "Ramesh",
         "Science",
         45,
         "F",
         75,
         "Average"
        ],
        [
         "Rajesh",
         "Maths",
         30,
         "F",
         50,
         "Average"
        ],
        [
         "Raghav",
         "Maths",
         null,
         "NA",
         70,
         "Average"
        ]
       ],
       "datasetInfos": [],
       "dbfsResultPath": null,
       "isJsonSchema": true,
       "metadata": {},
       "overflow": false,
       "plotOptions": {
        "customPlotOptions": {},
        "displayType": "table",
        "pivotAggregation": null,
        "pivotColumns": null,
        "xColumns": null,
        "yColumns": null
       },
       "removedWidgets": [],
       "schema": [
        {
         "metadata": "{}",
         "name": "Name",
         "type": "\"string\""
        },
        {
         "metadata": "{}",
         "name": "Subject",
         "type": "\"string\""
        },
        {
         "metadata": "{}",
         "name": "Mark",
         "type": "\"long\""
        },
        {
         "metadata": "{}",
         "name": "Status",
         "type": "\"string\""
        },
        {
         "metadata": "{}",
         "name": "Attendance",
         "type": "\"long\""
        },
        {
         "metadata": "{}",
         "name": "Grade_AND",
         "type": "\"string\""
        }
       ],
       "type": "table"
      }
     },
     "output_type": "display_data"
    },
    {
     "output_type": "display_data",
     "data": {
      "text/html": [
       "<style scoped>\n",
       "  .table-result-container {\n",
       "    max-height: 300px;\n",
       "    overflow: auto;\n",
       "  }\n",
       "  table, th, td {\n",
       "    border: 1px solid black;\n",
       "    border-collapse: collapse;\n",
       "  }\n",
       "  th, td {\n",
       "    padding: 5px;\n",
       "  }\n",
       "  th {\n",
       "    text-align: left;\n",
       "  }\n",
       "</style><div class='table-result-container'><table class='table-result'><thead style='background-color: white'><tr><th>Name</th><th>Subject</th><th>Mark</th><th>Status</th><th>Attendance</th><th>Grade_OR</th></tr></thead><tbody><tr><td>Raja</td><td>Science</td><td>80</td><td>P</td><td>90</td><td>Distinction</td></tr><tr><td>Rakesh</td><td>Maths</td><td>90</td><td>P</td><td>70</td><td>Distinction</td></tr><tr><td>Rama</td><td>English</td><td>20</td><td>F</td><td>80</td><td>Distinction</td></tr><tr><td>Ramesh</td><td>Science</td><td>45</td><td>F</td><td>75</td><td>Good</td></tr><tr><td>Rajesh</td><td>Maths</td><td>30</td><td>F</td><td>50</td><td>Good</td></tr><tr><td>Raghav</td><td>Maths</td><td>null</td><td>NA</td><td>70</td><td>Good</td></tr></tbody></table></div>"
      ]
     },
     "metadata": {
      "application/vnd.databricks.v1+output": {
       "addedWidgets": {},
       "aggData": [],
       "aggError": "",
       "aggOverflow": false,
       "aggSchema": [],
       "aggSeriesLimitReached": false,
       "aggType": "",
       "arguments": {},
       "columnCustomDisplayInfos": {},
       "data": [
        [
         "Raja",
         "Science",
         80,
         "P",
         90,
         "Distinction"
        ],
        [
         "Rakesh",
         "Maths",
         90,
         "P",
         70,
         "Distinction"
        ],
        [
         "Rama",
         "English",
         20,
         "F",
         80,
         "Distinction"
        ],
        [
         "Ramesh",
         "Science",
         45,
         "F",
         75,
         "Good"
        ],
        [
         "Rajesh",
         "Maths",
         30,
         "F",
         50,
         "Good"
        ],
        [
         "Raghav",
         "Maths",
         null,
         "NA",
         70,
         "Good"
        ]
       ],
       "datasetInfos": [],
       "dbfsResultPath": null,
       "isJsonSchema": true,
       "metadata": {},
       "overflow": false,
       "plotOptions": {
        "customPlotOptions": {},
        "displayType": "table",
        "pivotAggregation": null,
        "pivotColumns": null,
        "xColumns": null,
        "yColumns": null
       },
       "removedWidgets": [],
       "schema": [
        {
         "metadata": "{}",
         "name": "Name",
         "type": "\"string\""
        },
        {
         "metadata": "{}",
         "name": "Subject",
         "type": "\"string\""
        },
        {
         "metadata": "{}",
         "name": "Mark",
         "type": "\"long\""
        },
        {
         "metadata": "{}",
         "name": "Status",
         "type": "\"string\""
        },
        {
         "metadata": "{}",
         "name": "Attendance",
         "type": "\"long\""
        },
        {
         "metadata": "{}",
         "name": "Grade_OR",
         "type": "\"string\""
        }
       ],
       "type": "table"
      }
     },
     "output_type": "display_data"
    }
   ],
   "source": [
    "from pyspark.sql.functions import when\n",
    "\n",
    "df4 = df.withColumn(\"Grade_AND\", when((df.Mark >= 80) & (df.Attendance >=80),\"Distinction\")\n",
    "                    .when((df.Mark >= 50) & (df.Attendance >=50),\"Good\")\n",
    "                    .otherwise(\"Average\")\n",
    ")\n",
    "\n",
    "display(df4)\n",
    "\n",
    "df5 = df.withColumn(\"Grade_OR\", when((df.Mark >= 80) | (df.Attendance >=80),\"Distinction\")\n",
    "                    .when((df.Mark >= 50) | (df.Attendance >=50),\"Good\")\n",
    "                    .otherwise(\"Average\")\n",
    ")\n",
    "\n",
    "display(df5)"
   ]
  }
 ],
 "metadata": {
  "application/vnd.databricks.v1+notebook": {
   "dashboards": [],
   "environmentMetadata": null,
   "language": "python",
   "notebookMetadata": {
    "pythonIndentUnit": 4
   },
   "notebookName": "07. Case Function (WHEN .. OTHERWISE)",
   "widgets": {}
  }
 },
 "nbformat": 4,
 "nbformat_minor": 0
}
