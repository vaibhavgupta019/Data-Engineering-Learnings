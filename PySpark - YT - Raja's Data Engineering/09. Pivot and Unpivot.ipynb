{
 "cells": [
  {
   "cell_type": "code",
   "execution_count": 0,
   "metadata": {
    "application/vnd.databricks.v1+cell": {
     "cellMetadata": {
      "byteLimit": 2048000,
      "rowLimit": 10000
     },
     "inputWidgets": {},
     "nuid": "68ff0658-69c9-44ec-9bac-6ea6356427f6",
     "showTitle": true,
     "title": "Create a Sample DataFrame"
    }
   },
   "outputs": [
    {
     "output_type": "display_data",
     "data": {
      "text/html": [
       "<style scoped>\n",
       "  .table-result-container {\n",
       "    max-height: 300px;\n",
       "    overflow: auto;\n",
       "  }\n",
       "  table, th, td {\n",
       "    border: 1px solid black;\n",
       "    border-collapse: collapse;\n",
       "  }\n",
       "  th, td {\n",
       "    padding: 5px;\n",
       "  }\n",
       "  th {\n",
       "    text-align: left;\n",
       "  }\n",
       "</style><div class='table-result-container'><table class='table-result'><thead style='background-color: white'><tr><th>Company</th><th>Quarter</th><th>Revenue</th></tr></thead><tbody><tr><td>ABC</td><td>Q1</td><td>2000</td></tr><tr><td>ABC</td><td>Q2</td><td>3000</td></tr><tr><td>ABC</td><td>Q3</td><td>6000</td></tr><tr><td>ABC</td><td>Q4</td><td>1000</td></tr><tr><td>XYZ</td><td>Q1</td><td>5000</td></tr><tr><td>XYZ</td><td>Q2</td><td>4000</td></tr><tr><td>XYZ</td><td>Q3</td><td>1000</td></tr><tr><td>XYZ</td><td>Q4</td><td>2000</td></tr><tr><td>KLM</td><td>Q1</td><td>2000</td></tr><tr><td>KLM</td><td>Q2</td><td>3000</td></tr><tr><td>KLM</td><td>Q3</td><td>1000</td></tr><tr><td>KLM</td><td>Q4</td><td>5000</td></tr></tbody></table></div>"
      ]
     },
     "metadata": {
      "application/vnd.databricks.v1+output": {
       "addedWidgets": {},
       "aggData": [],
       "aggError": "",
       "aggOverflow": false,
       "aggSchema": [],
       "aggSeriesLimitReached": false,
       "aggType": "",
       "arguments": {},
       "columnCustomDisplayInfos": {},
       "data": [
        [
         "ABC",
         "Q1",
         2000
        ],
        [
         "ABC",
         "Q2",
         3000
        ],
        [
         "ABC",
         "Q3",
         6000
        ],
        [
         "ABC",
         "Q4",
         1000
        ],
        [
         "XYZ",
         "Q1",
         5000
        ],
        [
         "XYZ",
         "Q2",
         4000
        ],
        [
         "XYZ",
         "Q3",
         1000
        ],
        [
         "XYZ",
         "Q4",
         2000
        ],
        [
         "KLM",
         "Q1",
         2000
        ],
        [
         "KLM",
         "Q2",
         3000
        ],
        [
         "KLM",
         "Q3",
         1000
        ],
        [
         "KLM",
         "Q4",
         5000
        ]
       ],
       "datasetInfos": [],
       "dbfsResultPath": null,
       "isJsonSchema": true,
       "metadata": {},
       "overflow": false,
       "plotOptions": {
        "customPlotOptions": {},
        "displayType": "table",
        "pivotAggregation": null,
        "pivotColumns": null,
        "xColumns": null,
        "yColumns": null
       },
       "removedWidgets": [],
       "schema": [
        {
         "metadata": "{}",
         "name": "Company",
         "type": "\"string\""
        },
        {
         "metadata": "{}",
         "name": "Quarter",
         "type": "\"string\""
        },
        {
         "metadata": "{}",
         "name": "Revenue",
         "type": "\"long\""
        }
       ],
       "type": "table"
      }
     },
     "output_type": "display_data"
    }
   ],
   "source": [
    "data = [(\"ABC\",\"Q1\",2000),\n",
    "        (\"ABC\",\"Q2\",3000),\n",
    "        (\"ABC\",\"Q3\",6000),\n",
    "        (\"ABC\",\"Q4\",1000),\n",
    "        (\"XYZ\",\"Q1\",5000),\n",
    "        (\"XYZ\",\"Q2\",4000),\n",
    "        (\"XYZ\",\"Q3\",1000),\n",
    "        (\"XYZ\",\"Q4\",2000),\n",
    "        (\"KLM\",\"Q1\",2000),\n",
    "        (\"KLM\",\"Q2\",3000),\n",
    "        (\"KLM\",\"Q3\",1000),\n",
    "        (\"KLM\",\"Q4\",5000)\n",
    "    ]\n",
    "\n",
    "column = [\"Company\",\"Quarter\",\"Revenue\"]\n",
    "\n",
    "DF = spark.createDataFrame(data = data, schema = column)\n",
    "\n",
    "display(DF)"
   ]
  },
  {
   "cell_type": "code",
   "execution_count": 0,
   "metadata": {
    "application/vnd.databricks.v1+cell": {
     "cellMetadata": {
      "byteLimit": 2048000,
      "rowLimit": 10000
     },
     "inputWidgets": {},
     "nuid": "b37c260d-b528-4c11-b4e0-b0370d2bb348",
     "showTitle": true,
     "title": "Pivot a DataFrame"
    }
   },
   "outputs": [
    {
     "output_type": "display_data",
     "data": {
      "text/html": [
       "<style scoped>\n",
       "  .table-result-container {\n",
       "    max-height: 300px;\n",
       "    overflow: auto;\n",
       "  }\n",
       "  table, th, td {\n",
       "    border: 1px solid black;\n",
       "    border-collapse: collapse;\n",
       "  }\n",
       "  th, td {\n",
       "    padding: 5px;\n",
       "  }\n",
       "  th {\n",
       "    text-align: left;\n",
       "  }\n",
       "</style><div class='table-result-container'><table class='table-result'><thead style='background-color: white'><tr><th>Company</th><th>Q1</th><th>Q2</th><th>Q3</th><th>Q4</th></tr></thead><tbody><tr><td>KLM</td><td>2000</td><td>3000</td><td>1000</td><td>5000</td></tr><tr><td>XYZ</td><td>5000</td><td>4000</td><td>1000</td><td>2000</td></tr><tr><td>ABC</td><td>2000</td><td>3000</td><td>6000</td><td>1000</td></tr></tbody></table></div>"
      ]
     },
     "metadata": {
      "application/vnd.databricks.v1+output": {
       "addedWidgets": {},
       "aggData": [],
       "aggError": "",
       "aggOverflow": false,
       "aggSchema": [],
       "aggSeriesLimitReached": false,
       "aggType": "",
       "arguments": {},
       "columnCustomDisplayInfos": {},
       "data": [
        [
         "KLM",
         2000,
         3000,
         1000,
         5000
        ],
        [
         "XYZ",
         5000,
         4000,
         1000,
         2000
        ],
        [
         "ABC",
         2000,
         3000,
         6000,
         1000
        ]
       ],
       "datasetInfos": [],
       "dbfsResultPath": null,
       "isJsonSchema": true,
       "metadata": {},
       "overflow": false,
       "plotOptions": {
        "customPlotOptions": {},
        "displayType": "table",
        "pivotAggregation": null,
        "pivotColumns": null,
        "xColumns": null,
        "yColumns": null
       },
       "removedWidgets": [],
       "schema": [
        {
         "metadata": "{}",
         "name": "Company",
         "type": "\"string\""
        },
        {
         "metadata": "{}",
         "name": "Q1",
         "type": "\"long\""
        },
        {
         "metadata": "{}",
         "name": "Q2",
         "type": "\"long\""
        },
        {
         "metadata": "{}",
         "name": "Q3",
         "type": "\"long\""
        },
        {
         "metadata": "{}",
         "name": "Q4",
         "type": "\"long\""
        }
       ],
       "type": "table"
      }
     },
     "output_type": "display_data"
    }
   ],
   "source": [
    "Pivot_DF = DF.groupBy(\"Company\").pivot(\"Quarter\").sum(\"Revenue\")\n",
    "\n",
    "display(Pivot_DF)"
   ]
  },
  {
   "cell_type": "code",
   "execution_count": 0,
   "metadata": {
    "application/vnd.databricks.v1+cell": {
     "cellMetadata": {
      "byteLimit": 2048000,
      "rowLimit": 10000
     },
     "inputWidgets": {},
     "nuid": "3cfac3e2-9d64-4971-aaea-00fd83a5a8c8",
     "showTitle": true,
     "title": "Unpivot a DataFrame"
    }
   },
   "outputs": [
    {
     "output_type": "display_data",
     "data": {
      "text/html": [
       "<style scoped>\n",
       "  .table-result-container {\n",
       "    max-height: 300px;\n",
       "    overflow: auto;\n",
       "  }\n",
       "  table, th, td {\n",
       "    border: 1px solid black;\n",
       "    border-collapse: collapse;\n",
       "  }\n",
       "  th, td {\n",
       "    padding: 5px;\n",
       "  }\n",
       "  th {\n",
       "    text-align: left;\n",
       "  }\n",
       "</style><div class='table-result-container'><table class='table-result'><thead style='background-color: white'><tr><th>Company</th><th>Quarter</th><th>Revenue</th></tr></thead><tbody><tr><td>KLM</td><td>Q1</td><td>2000</td></tr><tr><td>KLM</td><td>Q2</td><td>3000</td></tr><tr><td>KLM</td><td>Q3</td><td>1000</td></tr><tr><td>KLM</td><td>Q4</td><td>5000</td></tr><tr><td>XYZ</td><td>Q1</td><td>5000</td></tr><tr><td>XYZ</td><td>Q2</td><td>4000</td></tr><tr><td>XYZ</td><td>Q3</td><td>1000</td></tr><tr><td>XYZ</td><td>Q4</td><td>2000</td></tr><tr><td>ABC</td><td>Q1</td><td>2000</td></tr><tr><td>ABC</td><td>Q2</td><td>3000</td></tr><tr><td>ABC</td><td>Q3</td><td>6000</td></tr><tr><td>ABC</td><td>Q4</td><td>1000</td></tr></tbody></table></div>"
      ]
     },
     "metadata": {
      "application/vnd.databricks.v1+output": {
       "addedWidgets": {},
       "aggData": [],
       "aggError": "",
       "aggOverflow": false,
       "aggSchema": [],
       "aggSeriesLimitReached": false,
       "aggType": "",
       "arguments": {},
       "columnCustomDisplayInfos": {},
       "data": [
        [
         "KLM",
         "Q1",
         2000
        ],
        [
         "KLM",
         "Q2",
         3000
        ],
        [
         "KLM",
         "Q3",
         1000
        ],
        [
         "KLM",
         "Q4",
         5000
        ],
        [
         "XYZ",
         "Q1",
         5000
        ],
        [
         "XYZ",
         "Q2",
         4000
        ],
        [
         "XYZ",
         "Q3",
         1000
        ],
        [
         "XYZ",
         "Q4",
         2000
        ],
        [
         "ABC",
         "Q1",
         2000
        ],
        [
         "ABC",
         "Q2",
         3000
        ],
        [
         "ABC",
         "Q3",
         6000
        ],
        [
         "ABC",
         "Q4",
         1000
        ]
       ],
       "datasetInfos": [],
       "dbfsResultPath": null,
       "isJsonSchema": true,
       "metadata": {},
       "overflow": false,
       "plotOptions": {
        "customPlotOptions": {},
        "displayType": "table",
        "pivotAggregation": null,
        "pivotColumns": null,
        "xColumns": null,
        "yColumns": null
       },
       "removedWidgets": [],
       "schema": [
        {
         "metadata": "{}",
         "name": "Company",
         "type": "\"string\""
        },
        {
         "metadata": "{}",
         "name": "Quarter",
         "type": "\"string\""
        },
        {
         "metadata": "{}",
         "name": "Revenue",
         "type": "\"long\""
        }
       ],
       "type": "table"
      }
     },
     "output_type": "display_data"
    }
   ],
   "source": [
    "Unpivot_DF = Pivot_DF.selectExpr(\"Company\",\"stack(4,'Q1',Q1,'Q2',Q2,'Q3',Q3,'Q4',Q4) as (Quarter, Revenue)\")\n",
    "\n",
    "display(Unpivot_DF)"
   ]
  }
 ],
 "metadata": {
  "application/vnd.databricks.v1+notebook": {
   "dashboards": [],
   "environmentMetadata": null,
   "language": "python",
   "notebookMetadata": {
    "pythonIndentUnit": 4
   },
   "notebookName": "09. Pivot and Unpivot",
   "widgets": {}
  }
 },
 "nbformat": 4,
 "nbformat_minor": 0
}
