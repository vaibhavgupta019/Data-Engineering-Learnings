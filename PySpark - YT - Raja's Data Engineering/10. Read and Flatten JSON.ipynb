{
 "cells": [
  {
   "cell_type": "code",
   "execution_count": 0,
   "metadata": {
    "application/vnd.databricks.v1+cell": {
     "cellMetadata": {
      "byteLimit": 2048000,
      "rowLimit": 10000
     },
     "inputWidgets": {},
     "nuid": "5e5a8a3f-e20c-49a3-846b-eb988721025f",
     "showTitle": true,
     "title": "Read Json File"
    }
   },
   "outputs": [
    {
     "output_type": "display_data",
     "data": {
      "text/html": [
       "<style scoped>\n",
       "  .table-result-container {\n",
       "    max-height: 300px;\n",
       "    overflow: auto;\n",
       "  }\n",
       "  table, th, td {\n",
       "    border: 1px solid black;\n",
       "    border-collapse: collapse;\n",
       "  }\n",
       "  th, td {\n",
       "    padding: 5px;\n",
       "  }\n",
       "  th {\n",
       "    text-align: left;\n",
       "  }\n",
       "</style><div class='table-result-container'><table class='table-result'><thead style='background-color: white'><tr><th>EventName</th><th>body</th><th>category</th><th>correlationId</th><th>end</th><th>env_dt_spanId</th><th>env_dt_traceId</th><th>env_name</th><th>env_time</th><th>env_ver</th><th>groupId</th><th>level</th><th>location</th><th>name</th><th>operationName</th><th>pipelineName</th><th>properties</th><th>resourceId</th><th>runId</th><th>severityNumber</th><th>severityText</th><th>start</th><th>status</th><th>tags</th><th>time</th><th>timestamp</th></tr></thead><tbody><tr><td>SynapseDiagnosticsLogs</td><td>System.Collections.Generic.List`1[System.Collections.Generic.KeyValuePair`2[System.String,System.Object]]</td><td>IntegrationPipelineRuns</td><td>5f253516-93be-42dc-a563-293f6412377a</td><td>1601-01-01T00:00:00.0000000Z</td><td>9f8e6872ca93ec9d</td><td>5b87a0ae9dcc7d21ce1b48be3f67772c</td><td>SynapseDiagnosticsLogsSourceSynapse</td><td>2024-03-25T13:00:05.2430190Z</td><td>4.0</td><td>5f253516-93be-42dc-a563-293f6412377a</td><td>Informational</td><td>westus</td><td>SynapseDiagnosticsLogs</td><td>BI_HR_Adhoc_Pipeline - InProgress</td><td>BI_HR_Adhoc_Pipeline</td><td>List(List(), , List(List(08584902352849187542608497116CU135, ScheduleTrigger, BI_HR_Adhoc_Pipeline)), List(2024-03-25T13:00:05.1583905Z, 2024-03-25T13:00:02.7786512+00:00, 0a1a0520-a1e4-4774-843e-c59cf6cf490a, 08584902352849187542608497116CU135))</td><td>/SUBSCRIPTIONS/0A1A0520-A1E4-4774-843E-C59CF6CF490A/RESOURCEGROUPS/UGNX_SYNAPSE-RG/PROVIDERS/MICROSOFT.SYNAPSE/WORKSPACES/UGNX-SYNAPSE-DW</td><td>5f253516-93be-42dc-a563-293f6412377a</td><td>9</td><td>Information</td><td>2024-03-25T13:00:02.0000000Z</td><td>InProgress</td><td>{\"Cost Center\":\"817-Data Management\"}</td><td>2024-03-25T13:00:05.2430190Z</td><td>2024-03-25T13:00:05.0000000Z</td></tr></tbody></table></div>"
      ]
     },
     "metadata": {
      "application/vnd.databricks.v1+output": {
       "addedWidgets": {},
       "aggData": [],
       "aggError": "",
       "aggOverflow": false,
       "aggSchema": [],
       "aggSeriesLimitReached": false,
       "aggType": "",
       "arguments": {},
       "columnCustomDisplayInfos": {},
       "data": [
        [
         "SynapseDiagnosticsLogs",
         "System.Collections.Generic.List`1[System.Collections.Generic.KeyValuePair`2[System.String,System.Object]]",
         "IntegrationPipelineRuns",
         "5f253516-93be-42dc-a563-293f6412377a",
         "1601-01-01T00:00:00.0000000Z",
         "9f8e6872ca93ec9d",
         "5b87a0ae9dcc7d21ce1b48be3f67772c",
         "SynapseDiagnosticsLogsSourceSynapse",
         "2024-03-25T13:00:05.2430190Z",
         "4.0",
         "5f253516-93be-42dc-a563-293f6412377a",
         "Informational",
         "westus",
         "SynapseDiagnosticsLogs",
         "BI_HR_Adhoc_Pipeline - InProgress",
         "BI_HR_Adhoc_Pipeline",
         [
          [],
          "",
          [
           [
            "08584902352849187542608497116CU135",
            "ScheduleTrigger",
            "BI_HR_Adhoc_Pipeline"
           ]
          ],
          [
           "2024-03-25T13:00:05.1583905Z",
           "2024-03-25T13:00:02.7786512+00:00",
           "0a1a0520-a1e4-4774-843e-c59cf6cf490a",
           "08584902352849187542608497116CU135"
          ]
         ],
         "/SUBSCRIPTIONS/0A1A0520-A1E4-4774-843E-C59CF6CF490A/RESOURCEGROUPS/UGNX_SYNAPSE-RG/PROVIDERS/MICROSOFT.SYNAPSE/WORKSPACES/UGNX-SYNAPSE-DW",
         "5f253516-93be-42dc-a563-293f6412377a",
         9,
         "Information",
         "2024-03-25T13:00:02.0000000Z",
         "InProgress",
         "{\"Cost Center\":\"817-Data Management\"}",
         "2024-03-25T13:00:05.2430190Z",
         "2024-03-25T13:00:05.0000000Z"
        ]
       ],
       "datasetInfos": [],
       "dbfsResultPath": null,
       "isJsonSchema": true,
       "metadata": {},
       "overflow": false,
       "plotOptions": {
        "customPlotOptions": {},
        "displayType": "table",
        "pivotAggregation": null,
        "pivotColumns": null,
        "xColumns": null,
        "yColumns": null
       },
       "removedWidgets": [],
       "schema": [
        {
         "metadata": "{}",
         "name": "EventName",
         "type": "\"string\""
        },
        {
         "metadata": "{}",
         "name": "body",
         "type": "\"string\""
        },
        {
         "metadata": "{}",
         "name": "category",
         "type": "\"string\""
        },
        {
         "metadata": "{}",
         "name": "correlationId",
         "type": "\"string\""
        },
        {
         "metadata": "{}",
         "name": "end",
         "type": "\"string\""
        },
        {
         "metadata": "{}",
         "name": "env_dt_spanId",
         "type": "\"string\""
        },
        {
         "metadata": "{}",
         "name": "env_dt_traceId",
         "type": "\"string\""
        },
        {
         "metadata": "{}",
         "name": "env_name",
         "type": "\"string\""
        },
        {
         "metadata": "{}",
         "name": "env_time",
         "type": "\"string\""
        },
        {
         "metadata": "{}",
         "name": "env_ver",
         "type": "\"string\""
        },
        {
         "metadata": "{}",
         "name": "groupId",
         "type": "\"string\""
        },
        {
         "metadata": "{}",
         "name": "level",
         "type": "\"string\""
        },
        {
         "metadata": "{}",
         "name": "location",
         "type": "\"string\""
        },
        {
         "metadata": "{}",
         "name": "name",
         "type": "\"string\""
        },
        {
         "metadata": "{}",
         "name": "operationName",
         "type": "\"string\""
        },
        {
         "metadata": "{}",
         "name": "pipelineName",
         "type": "\"string\""
        },
        {
         "metadata": "{}",
         "name": "properties",
         "type": "{\"type\":\"struct\",\"fields\":[{\"name\":\"Annotations\",\"type\":{\"type\":\"array\",\"elementType\":\"string\",\"containsNull\":true},\"nullable\":true,\"metadata\":{}},{\"name\":\"Message\",\"type\":\"string\",\"nullable\":true,\"metadata\":{}},{\"name\":\"Predecessors\",\"type\":{\"type\":\"array\",\"elementType\":{\"type\":\"struct\",\"fields\":[{\"name\":\"Id\",\"type\":\"string\",\"nullable\":true,\"metadata\":{}},{\"name\":\"InvokedByType\",\"type\":\"string\",\"nullable\":true,\"metadata\":{}},{\"name\":\"Name\",\"type\":\"string\",\"nullable\":true,\"metadata\":{}}]},\"containsNull\":true},\"nullable\":true,\"metadata\":{}},{\"name\":\"SystemParameters\",\"type\":{\"type\":\"struct\",\"fields\":[{\"name\":\"ExecutionStart\",\"type\":\"string\",\"nullable\":true,\"metadata\":{}},{\"name\":\"PipelineRunRequestTime\",\"type\":\"string\",\"nullable\":true,\"metadata\":{}},{\"name\":\"SubscriptionId\",\"type\":\"string\",\"nullable\":true,\"metadata\":{}},{\"name\":\"TriggerId\",\"type\":\"string\",\"nullable\":true,\"metadata\":{}}]},\"nullable\":true,\"metadata\":{}}]}"
        },
        {
         "metadata": "{}",
         "name": "resourceId",
         "type": "\"string\""
        },
        {
         "metadata": "{}",
         "name": "runId",
         "type": "\"string\""
        },
        {
         "metadata": "{}",
         "name": "severityNumber",
         "type": "\"long\""
        },
        {
         "metadata": "{}",
         "name": "severityText",
         "type": "\"string\""
        },
        {
         "metadata": "{}",
         "name": "start",
         "type": "\"string\""
        },
        {
         "metadata": "{}",
         "name": "status",
         "type": "\"string\""
        },
        {
         "metadata": "{}",
         "name": "tags",
         "type": "\"string\""
        },
        {
         "metadata": "{}",
         "name": "time",
         "type": "\"string\""
        },
        {
         "metadata": "{}",
         "name": "timestamp",
         "type": "\"string\""
        }
       ],
       "type": "table"
      }
     },
     "output_type": "display_data"
    }
   ],
   "source": [
    "df = spark.read.option(\"multiline\",\"true\").json(\"/FileStore/Datasets/JSON files/PT1H.json\")\n",
    "\n",
    "display(df)"
   ]
  },
  {
   "cell_type": "code",
   "execution_count": 0,
   "metadata": {
    "application/vnd.databricks.v1+cell": {
     "cellMetadata": {
      "byteLimit": 2048000,
      "rowLimit": 10000
     },
     "inputWidgets": {},
     "nuid": "1d75f6cb-9f3f-46ee-913f-b4f4f7f0d9cc",
     "showTitle": true,
     "title": "Python Function to Flatten Json File"
    }
   },
   "outputs": [],
   "source": [
    "\n",
    "\n",
    "from pyspark.sql.types import *\n",
    "from pyspark.sql.functions import *\n",
    "\n",
    "#Flatten array of structs and structs\n",
    "def flatten(df):\n",
    "   #compute Complex Fields (Lists and Structs) in Schema   \n",
    "   complex_fields = dict([(field.name, field.dataType)\n",
    "                             for field in df.schema.fields\n",
    "                             if type(field.dataType) == ArrayType or  type(field.dataType) == StructType])\n",
    "   while len(complex_fields)!=0:\n",
    "      col_name=list(complex_fields.keys())[0]\n",
    "      print (\"Processing :\"+col_name+\" Type : \"+str(type(complex_fields[col_name])))\n",
    "    \n",
    "      #if StructType then convert all sub element to columns.\n",
    "      #i.e. flatten structs\n",
    "      if (type(complex_fields[col_name]) == StructType):\n",
    "         expanded = [col(col_name+'.'+k).alias(col_name+'_'+k) for k in [ n.name for n in  complex_fields[col_name]]]\n",
    "         df=df.select(\"*\", *expanded).drop(col_name)\n",
    "    \n",
    "      #if ArrayType then add the Array Elements as Rows using the explode function\n",
    "      #i.e. explode Arrays\n",
    "      elif (type(complex_fields[col_name]) == ArrayType):    \n",
    "         df=df.withColumn(col_name,explode_outer(col_name))\n",
    "    \n",
    "      #recompute remaining Complex Fields in Schema       \n",
    "      complex_fields = dict([(field.name, field.dataType)\n",
    "                             for field in df.schema.fields\n",
    "                             if type(field.dataType) == ArrayType or  type(field.dataType) == StructType])\n",
    "   return df"
   ]
  },
  {
   "cell_type": "code",
   "execution_count": 0,
   "metadata": {
    "application/vnd.databricks.v1+cell": {
     "cellMetadata": {
      "byteLimit": 2048000,
      "rowLimit": 10000
     },
     "inputWidgets": {},
     "nuid": "1ddde31e-b0e1-40ed-b5bc-a69ab92d12d1",
     "showTitle": true,
     "title": "Apply Flattening Function and Display Flattened data"
    }
   },
   "outputs": [
    {
     "output_type": "stream",
     "name": "stdout",
     "output_type": "stream",
     "text": [
      "Processing :properties Type : <class 'pyspark.sql.types.StructType'>\nProcessing :properties_Annotations Type : <class 'pyspark.sql.types.ArrayType'>\nProcessing :properties_Predecessors Type : <class 'pyspark.sql.types.ArrayType'>\nProcessing :properties_Predecessors Type : <class 'pyspark.sql.types.StructType'>\nProcessing :properties_SystemParameters Type : <class 'pyspark.sql.types.StructType'>\n"
     ]
    },
    {
     "output_type": "display_data",
     "data": {
      "text/html": [
       "<style scoped>\n",
       "  .table-result-container {\n",
       "    max-height: 300px;\n",
       "    overflow: auto;\n",
       "  }\n",
       "  table, th, td {\n",
       "    border: 1px solid black;\n",
       "    border-collapse: collapse;\n",
       "  }\n",
       "  th, td {\n",
       "    padding: 5px;\n",
       "  }\n",
       "  th {\n",
       "    text-align: left;\n",
       "  }\n",
       "</style><div class='table-result-container'><table class='table-result'><thead style='background-color: white'><tr><th>EventName</th><th>body</th><th>category</th><th>correlationId</th><th>end</th><th>env_dt_spanId</th><th>env_dt_traceId</th><th>env_name</th><th>env_time</th><th>env_ver</th><th>groupId</th><th>level</th><th>location</th><th>name</th><th>operationName</th><th>pipelineName</th><th>resourceId</th><th>runId</th><th>severityNumber</th><th>severityText</th><th>start</th><th>status</th><th>tags</th><th>time</th><th>timestamp</th><th>properties_Annotations</th><th>properties_Message</th><th>properties_Predecessors_Id</th><th>properties_Predecessors_InvokedByType</th><th>properties_Predecessors_Name</th><th>properties_SystemParameters_ExecutionStart</th><th>properties_SystemParameters_PipelineRunRequestTime</th><th>properties_SystemParameters_SubscriptionId</th><th>properties_SystemParameters_TriggerId</th></tr></thead><tbody><tr><td>SynapseDiagnosticsLogs</td><td>System.Collections.Generic.List`1[System.Collections.Generic.KeyValuePair`2[System.String,System.Object]]</td><td>IntegrationPipelineRuns</td><td>5f253516-93be-42dc-a563-293f6412377a</td><td>1601-01-01T00:00:00.0000000Z</td><td>9f8e6872ca93ec9d</td><td>5b87a0ae9dcc7d21ce1b48be3f67772c</td><td>SynapseDiagnosticsLogsSourceSynapse</td><td>2024-03-25T13:00:05.2430190Z</td><td>4.0</td><td>5f253516-93be-42dc-a563-293f6412377a</td><td>Informational</td><td>westus</td><td>SynapseDiagnosticsLogs</td><td>BI_HR_Adhoc_Pipeline - InProgress</td><td>BI_HR_Adhoc_Pipeline</td><td>/SUBSCRIPTIONS/0A1A0520-A1E4-4774-843E-C59CF6CF490A/RESOURCEGROUPS/UGNX_SYNAPSE-RG/PROVIDERS/MICROSOFT.SYNAPSE/WORKSPACES/UGNX-SYNAPSE-DW</td><td>5f253516-93be-42dc-a563-293f6412377a</td><td>9</td><td>Information</td><td>2024-03-25T13:00:02.0000000Z</td><td>InProgress</td><td>{\"Cost Center\":\"817-Data Management\"}</td><td>2024-03-25T13:00:05.2430190Z</td><td>2024-03-25T13:00:05.0000000Z</td><td>null</td><td></td><td>08584902352849187542608497116CU135</td><td>ScheduleTrigger</td><td>BI_HR_Adhoc_Pipeline</td><td>2024-03-25T13:00:05.1583905Z</td><td>2024-03-25T13:00:02.7786512+00:00</td><td>0a1a0520-a1e4-4774-843e-c59cf6cf490a</td><td>08584902352849187542608497116CU135</td></tr></tbody></table></div>"
      ]
     },
     "metadata": {
      "application/vnd.databricks.v1+output": {
       "addedWidgets": {},
       "aggData": [],
       "aggError": "",
       "aggOverflow": false,
       "aggSchema": [],
       "aggSeriesLimitReached": false,
       "aggType": "",
       "arguments": {},
       "columnCustomDisplayInfos": {},
       "data": [
        [
         "SynapseDiagnosticsLogs",
         "System.Collections.Generic.List`1[System.Collections.Generic.KeyValuePair`2[System.String,System.Object]]",
         "IntegrationPipelineRuns",
         "5f253516-93be-42dc-a563-293f6412377a",
         "1601-01-01T00:00:00.0000000Z",
         "9f8e6872ca93ec9d",
         "5b87a0ae9dcc7d21ce1b48be3f67772c",
         "SynapseDiagnosticsLogsSourceSynapse",
         "2024-03-25T13:00:05.2430190Z",
         "4.0",
         "5f253516-93be-42dc-a563-293f6412377a",
         "Informational",
         "westus",
         "SynapseDiagnosticsLogs",
         "BI_HR_Adhoc_Pipeline - InProgress",
         "BI_HR_Adhoc_Pipeline",
         "/SUBSCRIPTIONS/0A1A0520-A1E4-4774-843E-C59CF6CF490A/RESOURCEGROUPS/UGNX_SYNAPSE-RG/PROVIDERS/MICROSOFT.SYNAPSE/WORKSPACES/UGNX-SYNAPSE-DW",
         "5f253516-93be-42dc-a563-293f6412377a",
         9,
         "Information",
         "2024-03-25T13:00:02.0000000Z",
         "InProgress",
         "{\"Cost Center\":\"817-Data Management\"}",
         "2024-03-25T13:00:05.2430190Z",
         "2024-03-25T13:00:05.0000000Z",
         null,
         "",
         "08584902352849187542608497116CU135",
         "ScheduleTrigger",
         "BI_HR_Adhoc_Pipeline",
         "2024-03-25T13:00:05.1583905Z",
         "2024-03-25T13:00:02.7786512+00:00",
         "0a1a0520-a1e4-4774-843e-c59cf6cf490a",
         "08584902352849187542608497116CU135"
        ]
       ],
       "datasetInfos": [],
       "dbfsResultPath": null,
       "isJsonSchema": true,
       "metadata": {},
       "overflow": false,
       "plotOptions": {
        "customPlotOptions": {},
        "displayType": "table",
        "pivotAggregation": null,
        "pivotColumns": null,
        "xColumns": null,
        "yColumns": null
       },
       "removedWidgets": [],
       "schema": [
        {
         "metadata": "{}",
         "name": "EventName",
         "type": "\"string\""
        },
        {
         "metadata": "{}",
         "name": "body",
         "type": "\"string\""
        },
        {
         "metadata": "{}",
         "name": "category",
         "type": "\"string\""
        },
        {
         "metadata": "{}",
         "name": "correlationId",
         "type": "\"string\""
        },
        {
         "metadata": "{}",
         "name": "end",
         "type": "\"string\""
        },
        {
         "metadata": "{}",
         "name": "env_dt_spanId",
         "type": "\"string\""
        },
        {
         "metadata": "{}",
         "name": "env_dt_traceId",
         "type": "\"string\""
        },
        {
         "metadata": "{}",
         "name": "env_name",
         "type": "\"string\""
        },
        {
         "metadata": "{}",
         "name": "env_time",
         "type": "\"string\""
        },
        {
         "metadata": "{}",
         "name": "env_ver",
         "type": "\"string\""
        },
        {
         "metadata": "{}",
         "name": "groupId",
         "type": "\"string\""
        },
        {
         "metadata": "{}",
         "name": "level",
         "type": "\"string\""
        },
        {
         "metadata": "{}",
         "name": "location",
         "type": "\"string\""
        },
        {
         "metadata": "{}",
         "name": "name",
         "type": "\"string\""
        },
        {
         "metadata": "{}",
         "name": "operationName",
         "type": "\"string\""
        },
        {
         "metadata": "{}",
         "name": "pipelineName",
         "type": "\"string\""
        },
        {
         "metadata": "{}",
         "name": "resourceId",
         "type": "\"string\""
        },
        {
         "metadata": "{}",
         "name": "runId",
         "type": "\"string\""
        },
        {
         "metadata": "{}",
         "name": "severityNumber",
         "type": "\"long\""
        },
        {
         "metadata": "{}",
         "name": "severityText",
         "type": "\"string\""
        },
        {
         "metadata": "{}",
         "name": "start",
         "type": "\"string\""
        },
        {
         "metadata": "{}",
         "name": "status",
         "type": "\"string\""
        },
        {
         "metadata": "{}",
         "name": "tags",
         "type": "\"string\""
        },
        {
         "metadata": "{}",
         "name": "time",
         "type": "\"string\""
        },
        {
         "metadata": "{}",
         "name": "timestamp",
         "type": "\"string\""
        },
        {
         "metadata": "{}",
         "name": "properties_Annotations",
         "type": "\"string\""
        },
        {
         "metadata": "{}",
         "name": "properties_Message",
         "type": "\"string\""
        },
        {
         "metadata": "{}",
         "name": "properties_Predecessors_Id",
         "type": "\"string\""
        },
        {
         "metadata": "{}",
         "name": "properties_Predecessors_InvokedByType",
         "type": "\"string\""
        },
        {
         "metadata": "{}",
         "name": "properties_Predecessors_Name",
         "type": "\"string\""
        },
        {
         "metadata": "{}",
         "name": "properties_SystemParameters_ExecutionStart",
         "type": "\"string\""
        },
        {
         "metadata": "{}",
         "name": "properties_SystemParameters_PipelineRunRequestTime",
         "type": "\"string\""
        },
        {
         "metadata": "{}",
         "name": "properties_SystemParameters_SubscriptionId",
         "type": "\"string\""
        },
        {
         "metadata": "{}",
         "name": "properties_SystemParameters_TriggerId",
         "type": "\"string\""
        }
       ],
       "type": "table"
      }
     },
     "output_type": "display_data"
    }
   ],
   "source": [
    "df_flatten = flatten(df)\n",
    "\n",
    "display(df_flatten)"
   ]
  }
 ],
 "metadata": {
  "application/vnd.databricks.v1+notebook": {
   "dashboards": [],
   "environmentMetadata": null,
   "language": "python",
   "notebookMetadata": {
    "pythonIndentUnit": 4
   },
   "notebookName": "10. Read and Flatten JSON",
   "widgets": {}
  }
 },
 "nbformat": 4,
 "nbformat_minor": 0
}
