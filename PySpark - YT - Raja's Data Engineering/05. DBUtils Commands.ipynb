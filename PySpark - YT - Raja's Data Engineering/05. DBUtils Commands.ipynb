{
 "cells": [
  {
   "cell_type": "code",
   "execution_count": 0,
   "metadata": {
    "application/vnd.databricks.v1+cell": {
     "cellMetadata": {
      "byteLimit": 2048000,
      "rowLimit": 10000
     },
     "inputWidgets": {},
     "nuid": "fc1f5d89-91fd-456d-880e-545721a0e3c4",
     "showTitle": true,
     "title": "DBUtils fs Help"
    }
   },
   "outputs": [
    {
     "output_type": "display_data",
     "data": {
      "text/html": [
       "<div class = \"ansiout\"><b>dbutils.fs</b> provides utilities for working with FileSystems. Most methods in\n",
       "this package can take either a DBFS path (e.g., \"/foo\" or \"dbfs:/foo\"), or\n",
       "another FileSystem URI.\n",
       "\n",
       "For more info about a method, use <b>dbutils.fs.help(\"methodName\")</b>.\n",
       "\n",
       "In notebooks, you can also use the %fs shorthand to access DBFS. The %fs shorthand maps\n",
       "straightforwardly onto dbutils calls. For example, \"%fs head --maxBytes=10000 /file/path\"\n",
       "translates into \"dbutils.fs.head(\"/file/path\", maxBytes = 10000)\".\n",
       "    <h3>mount</h3><b>mount(source: String, mountPoint: String, encryptionType: String = \"\", owner: String = null, extraConfigs: Map = Map.empty[String, String]): boolean</b> -> Mounts the given source directory into DBFS at the given mount point<br /><b>mounts: Seq</b> -> Displays information about what is mounted within DBFS<br /><b>refreshMounts: boolean</b> -> Forces all machines in this cluster to refresh their mount cache, ensuring they receive the most recent information<br /><b>unmount(mountPoint: String): boolean</b> -> Deletes a DBFS mount point<br /><b>updateMount(source: String, mountPoint: String, encryptionType: String = \"\", owner: String = null, extraConfigs: Map = Map.empty[String, String]): boolean</b> -> Similar to mount(), but updates an existing mount point (if present) instead of creating a new one<br /><br /><h3>fsutils</h3><b>cp(from: String, to: String, recurse: boolean = false): boolean</b> -> Copies a file or directory, possibly across FileSystems<br /><b>head(file: String, maxBytes: int = 65536): String</b> -> Returns up to the first 'maxBytes' bytes of the given file as a String encoded in UTF-8<br /><b>ls(dir: String): Seq</b> -> Lists the contents of a directory<br /><b>mkdirs(dir: String): boolean</b> -> Creates the given directory if it does not exist, also creating any necessary parent directories<br /><b>mv(from: String, to: String, recurse: boolean = false): boolean</b> -> Moves a file or directory, possibly across FileSystems<br /><b>put(file: String, contents: String, overwrite: boolean = false): boolean</b> -> Writes the given String out to a file, encoded in UTF-8<br /><b>rm(dir: String, recurse: boolean = false): boolean</b> -> Removes a file or directory<br /><br /></div>"
      ]
     },
     "metadata": {},
     "output_type": "display_data"
    }
   ],
   "source": [
    "dbutils.fs.help()"
   ]
  },
  {
   "cell_type": "code",
   "execution_count": 0,
   "metadata": {
    "application/vnd.databricks.v1+cell": {
     "cellMetadata": {
      "byteLimit": 2048000,
      "rowLimit": 10000
     },
     "inputWidgets": {},
     "nuid": "4fe12cee-78db-433b-914a-4966982a4289",
     "showTitle": false,
     "title": ""
    }
   },
   "outputs": [
    {
     "output_type": "display_data",
     "data": {
      "text/html": [
       "<div class = \"ansiout\">/**<br /> * Copies a file or directory, possibly across FileSystems..<br /> * <br /> * Example: cp(\"/mnt/my-folder/a\", \"s3n://bucket/b\")<br /> * <br /> * @param from FileSystem URI of the source file or directory<br /> * @param to FileSystem URI of the destination file or directory<br /> * @param recurse if true, all files and directories will be recursively copied<br /> * @return true if all files were successfully copied<br /> */<br /><b>cp(from: java.lang.String, to: java.lang.String, recurse: boolean = false): boolean</b></div><br />"
      ]
     },
     "metadata": {},
     "output_type": "display_data"
    }
   ],
   "source": [
    "dbutils.fs.help(\"cp\")"
   ]
  },
  {
   "cell_type": "code",
   "execution_count": 0,
   "metadata": {
    "application/vnd.databricks.v1+cell": {
     "cellMetadata": {
      "byteLimit": 2048000,
      "rowLimit": 10000
     },
     "inputWidgets": {},
     "nuid": "95dde5b6-d110-4052-85cc-1b5bd09ea261",
     "showTitle": true,
     "title": "DBUtils Notebook Help"
    }
   },
   "outputs": [
    {
     "output_type": "display_data",
     "data": {
      "text/html": [
       "<div class = \"ansiout\">\n",
       "The notebook module.\n",
       "  <h3></h3><b>exit(value: String): void</b> -> This method lets you exit a notebook with a value<br /><b>run(path: String, timeoutSeconds: int, arguments: Map): String</b> -> This method runs a notebook and returns its exit value<br /><br /></div>"
      ]
     },
     "metadata": {},
     "output_type": "display_data"
    }
   ],
   "source": [
    "dbutils.notebook.help()"
   ]
  },
  {
   "cell_type": "code",
   "execution_count": 0,
   "metadata": {
    "application/vnd.databricks.v1+cell": {
     "cellMetadata": {
      "byteLimit": 2048000,
      "rowLimit": 10000
     },
     "inputWidgets": {},
     "nuid": "e7fc32c0-32d8-48c8-992f-641efde2423c",
     "showTitle": false,
     "title": ""
    }
   },
   "outputs": [
    {
     "output_type": "display_data",
     "data": {
      "text/html": [
       "<div class = \"ansiout\">/**<br /> * This method lets you exit a notebook with a value.<br /> * <br /> * @param value the value to return when exiting<br /> */<br /><b>exit(value: java.lang.String): void</b></div><br />"
      ]
     },
     "metadata": {},
     "output_type": "display_data"
    }
   ],
   "source": [
    "dbutils.notebook.help(\"exit\")"
   ]
  },
  {
   "cell_type": "code",
   "execution_count": 0,
   "metadata": {
    "application/vnd.databricks.v1+cell": {
     "cellMetadata": {
      "byteLimit": 2048000,
      "rowLimit": 10000
     },
     "inputWidgets": {},
     "nuid": "9868c251-e3b4-4353-83a3-28d0b7024720",
     "showTitle": true,
     "title": "DBUtils Widgets Help"
    }
   },
   "outputs": [
    {
     "output_type": "display_data",
     "data": {
      "text/html": [
       "<div class = \"ansiout\"><b>dbutils.widgets</b> provides utilities for working with notebook widgets. You can create\n",
       "different types of widgets and get their bound value.\n",
       "\n",
       "For more info about a method, use <b>dbutils.widgets.help(\"methodName\")</b>.\n",
       "    <h3></h3><b>combobox(name: String, defaultValue: String, choices: Seq, label: String): void</b> -> Creates a combobox input widget with a given name, default value and choices<br /><b>dropdown(name: String, defaultValue: String, choices: Seq, label: String): void</b> -> Creates a dropdown input widget a with given name, default value and choices<br /><b>get(name: String): String</b> -> Retrieves current value of an input widget<br /><b>getAll: Map</b> -> Retrieves a mapping of all current values of the input widgets<br /><b>getArgument(name: String, optional: String): String</b> -> (DEPRECATED) Equivalent to get<br /><b>multiselect(name: String, defaultValue: String, choices: Seq, label: String): void</b> -> Creates a multiselect input widget with a given name, default value and choices<br /><b>remove(name: String): void</b> -> Removes an input widget from the notebook<br /><b>removeAll: void</b> -> Removes all widgets in the notebook<br /><b>text(name: String, defaultValue: String, label: String): void</b> -> Creates a text input widget with a given name and default value<br /><br /></div>"
      ]
     },
     "metadata": {},
     "output_type": "display_data"
    }
   ],
   "source": [
    "dbutils.widgets.help()"
   ]
  },
  {
   "cell_type": "code",
   "execution_count": 0,
   "metadata": {
    "application/vnd.databricks.v1+cell": {
     "cellMetadata": {
      "byteLimit": 2048000,
      "rowLimit": 10000
     },
     "inputWidgets": {},
     "nuid": "1c25955b-80f6-492a-823c-fd52c909a7c7",
     "showTitle": true,
     "title": "DBUtils SecretsHelp"
    }
   },
   "outputs": [
    {
     "output_type": "display_data",
     "data": {
      "text/html": [
       "<div class = \"ansiout\">\n",
       "Provides utilities for leveraging secrets within notebooks.\n",
       "Databricks documentation for more info.\n",
       "    <h3></h3><b>get(scope: String, key: String): String</b> -> Gets the string representation of a secret value with scope and key<br /><b>getBytes(scope: String, key: String): byte[]</b> -> Gets the bytes representation of a secret value with scope and key<br /><b>list(scope: String): Seq</b> -> Lists secret metadata for secrets within a scope<br /><b>listScopes: Seq</b> -> Lists secret scopes<br /><br /></div>"
      ]
     },
     "metadata": {},
     "output_type": "display_data"
    }
   ],
   "source": [
    "dbutils.secrets.help()"
   ]
  },
  {
   "cell_type": "code",
   "execution_count": 0,
   "metadata": {
    "application/vnd.databricks.v1+cell": {
     "cellMetadata": {
      "byteLimit": 2048000,
      "rowLimit": 10000
     },
     "inputWidgets": {},
     "nuid": "437ac0d5-aee1-4825-870e-2306a07cb422",
     "showTitle": false,
     "title": ""
    }
   },
   "outputs": [
    {
     "output_type": "display_data",
     "data": {
      "text/html": [
       "<div class = \"ansiout\">/**<br /> * Gets the string representation of a secret value with scope and key.<br /> * This API assumes the secret is encoded as UTF-8 bytes. This will<br /> * always be the case if you use the `string_value` write API.<br /> * <br /> * Example: dbutils.secrets.get(\"scope1\", \"key1\")<br /> * <br /> * @param scope Scope in which the secret was created<br /> * @param key Key with which the secret was created<br /> */<br /><b>get(scope: java.lang.String, key: java.lang.String): java.lang.String</b></div><br />"
      ]
     },
     "metadata": {},
     "output_type": "display_data"
    }
   ],
   "source": [
    "dbutils.secrets.help(\"get\")"
   ]
  },
  {
   "cell_type": "markdown",
   "metadata": {
    "application/vnd.databricks.v1+cell": {
     "cellMetadata": {},
     "inputWidgets": {},
     "nuid": "4c7fecfa-5be8-481d-9db2-e93a7159595b",
     "showTitle": false,
     "title": ""
    }
   },
   "source": [
    "DBUtils File System Commands"
   ]
  },
  {
   "cell_type": "code",
   "execution_count": 0,
   "metadata": {
    "application/vnd.databricks.v1+cell": {
     "cellMetadata": {
      "byteLimit": 2048000,
      "rowLimit": 10000
     },
     "inputWidgets": {},
     "nuid": "034eaae6-f2d1-4051-b741-62c0aede4161",
     "showTitle": false,
     "title": ""
    }
   },
   "outputs": [
    {
     "output_type": "display_data",
     "data": {
      "text/html": [
       "<div class = \"ansiout\">/**<br /> * Removes all widgets in the notebook.<br /> * <br /> * Example: dbutils.widgets.removeAll()<br /> */<br /><b>removeAll: void</b></div><br />"
      ]
     },
     "metadata": {},
     "output_type": "display_data"
    }
   ],
   "source": [
    "dbutils.widgets.help(\"removeall\")"
   ]
  },
  {
   "cell_type": "code",
   "execution_count": 0,
   "metadata": {
    "application/vnd.databricks.v1+cell": {
     "cellMetadata": {
      "byteLimit": 2048000,
      "rowLimit": 10000
     },
     "inputWidgets": {},
     "nuid": "c960c6be-e005-4b0d-899f-9bc1a0ee7d05",
     "showTitle": false,
     "title": ""
    }
   },
   "outputs": [
    {
     "output_type": "execute_result",
     "data": {
      "text/plain": [
       "[FileInfo(path='dbfs:/FileStore/tables/US Baby Names/NationalNames.csv', name='NationalNames.csv', size=44350518, modificationTime=1717917910000),\n",
       " FileInfo(path='dbfs:/FileStore/tables/US Baby Names/StateNames.csv', name='StateNames.csv', size=154696208, modificationTime=1717917992000)]"
      ]
     },
     "execution_count": 2,
     "metadata": {},
     "output_type": "execute_result"
    }
   ],
   "source": [
    "dbutils.fs.ls(\"/FileStore/tables/US Baby Names\")"
   ]
  },
  {
   "cell_type": "code",
   "execution_count": 0,
   "metadata": {
    "application/vnd.databricks.v1+cell": {
     "cellMetadata": {
      "byteLimit": 2048000,
      "rowLimit": 10000
     },
     "inputWidgets": {},
     "nuid": "7b3f790b-00a1-4d4e-bc30-f8e27c3bdb39",
     "showTitle": false,
     "title": ""
    }
   },
   "outputs": [
    {
     "output_type": "stream",
     "name": "stdout",
     "output_type": "stream",
     "text": [
      "[Truncated to first 65536 bytes]\n"
     ]
    },
    {
     "output_type": "execute_result",
     "data": {
      "text/plain": [
       "'Id,Name,Year,Gender,Count\\n1,Mary,1880,F,7065\\n2,Anna,1880,F,2604\\n3,Emma,1880,F,2003\\n4,Elizabeth,1880,F,1939\\n5,Minnie,1880,F,1746\\n6,Margaret,1880,F,1578\\n7,Ida,1880,F,1472\\n8,Alice,1880,F,1414\\n9,Bertha,1880,F,1320\\n10,Sarah,1880,F,1288\\n11,Annie,1880,F,1258\\n12,Clara,1880,F,1226\\n13,Ella,1880,F,1156\\n14,Florence,1880,F,1063\\n15,Cora,1880,F,1045\\n16,Martha,1880,F,1040\\n17,Laura,1880,F,1012\\n18,Nellie,1880,F,995\\n19,Grace,1880,F,982\\n20,Carrie,1880,F,949\\n21,Maude,1880,F,858\\n22,Mabel,1880,F,808\\n23,Bessie,1880,F,796\\n24,Jennie,1880,F,793\\n25,Gertrude,1880,F,787\\n26,Julia,1880,F,783\\n27,Hattie,1880,F,769\\n28,Edith,1880,F,768\\n29,Mattie,1880,F,704\\n30,Rose,1880,F,700\\n31,Catherine,1880,F,688\\n32,Lillian,1880,F,672\\n33,Ada,1880,F,652\\n34,Lillie,1880,F,647\\n35,Helen,1880,F,636\\n36,Jessie,1880,F,635\\n37,Louise,1880,F,635\\n38,Ethel,1880,F,633\\n39,Lula,1880,F,621\\n40,Myrtle,1880,F,615\\n41,Eva,1880,F,614\\n42,Frances,1880,F,605\\n43,Lena,1880,F,603\\n44,Lucy,1880,F,590\\n45,Edna,1880,F,588\\n46,Maggie,1880,F,582\\n47,Pearl,1880,F,569\\n48,Daisy,1880,F,564\\n49,Fannie,1880,F,560\\n50,Josephine,1880,F,544\\n51,Dora,1880,F,524\\n52,Rosa,1880,F,507\\n53,Katherine,1880,F,502\\n54,Agnes,1880,F,473\\n55,Marie,1880,F,471\\n56,Nora,1880,F,471\\n57,May,1880,F,462\\n58,Mamie,1880,F,436\\n59,Blanche,1880,F,427\\n60,Stella,1880,F,414\\n61,Ellen,1880,F,411\\n62,Nancy,1880,F,411\\n63,Effie,1880,F,406\\n64,Sallie,1880,F,404\\n65,Nettie,1880,F,403\\n66,Della,1880,F,391\\n67,Lizzie,1880,F,388\\n68,Flora,1880,F,365\\n69,Susie,1880,F,361\\n70,Maud,1880,F,345\\n71,Mae,1880,F,344\\n72,Etta,1880,F,323\\n73,Harriet,1880,F,319\\n74,Sadie,1880,F,317\\n75,Caroline,1880,F,306\\n76,Katie,1880,F,303\\n77,Lydia,1880,F,302\\n78,Elsie,1880,F,301\\n79,Kate,1880,F,299\\n80,Susan,1880,F,286\\n81,Mollie,1880,F,283\\n82,Alma,1880,F,277\\n83,Addie,1880,F,274\\n84,Georgia,1880,F,259\\n85,Eliza,1880,F,252\\n86,Lulu,1880,F,249\\n87,Nannie,1880,F,248\\n88,Lottie,1880,F,245\\n89,Amanda,1880,F,241\\n90,Belle,1880,F,238\\n91,Charlotte,1880,F,237\\n92,Rebecca,1880,F,236\\n93,Ruth,1880,F,234\\n94,Viola,1880,F,229\\n95,Olive,1880,F,224\\n96,Amelia,1880,F,221\\n97,Hannah,1880,F,221\\n98,Jane,1880,F,215\\n99,Virginia,1880,F,213\\n100,Emily,1880,F,210\\n101,Matilda,1880,F,210\\n102,Irene,1880,F,204\\n103,Kathryn,1880,F,204\\n104,Esther,1880,F,198\\n105,Willie,1880,F,192\\n106,Henrietta,1880,F,191\\n107,Ollie,1880,F,183\\n108,Amy,1880,F,167\\n109,Rachel,1880,F,166\\n110,Sara,1880,F,165\\n111,Estella,1880,F,162\\n112,Theresa,1880,F,153\\n113,Augusta,1880,F,151\\n114,Ora,1880,F,149\\n115,Pauline,1880,F,144\\n116,Josie,1880,F,141\\n117,Lola,1880,F,138\\n118,Sophia,1880,F,138\\n119,Leona,1880,F,137\\n120,Anne,1880,F,136\\n121,Mildred,1880,F,132\\n122,Ann,1880,F,131\\n123,Beulah,1880,F,131\\n124,Callie,1880,F,131\\n125,Lou,1880,F,131\\n126,Delia,1880,F,129\\n127,Eleanor,1880,F,129\\n128,Barbara,1880,F,127\\n129,Iva,1880,F,127\\n130,Louisa,1880,F,126\\n131,Maria,1880,F,125\\n132,Mayme,1880,F,124\\n133,Evelyn,1880,F,122\\n134,Estelle,1880,F,119\\n135,Nina,1880,F,119\\n136,Betty,1880,F,117\\n137,Marion,1880,F,115\\n138,Bettie,1880,F,113\\n139,Dorothy,1880,F,112\\n140,Luella,1880,F,111\\n141,Inez,1880,F,106\\n142,Lela,1880,F,106\\n143,Rosie,1880,F,106\\n144,Allie,1880,F,105\\n145,Millie,1880,F,105\\n146,Janie,1880,F,96\\n147,Cornelia,1880,F,94\\n148,Victoria,1880,F,93\\n149,Ruby,1880,F,92\\n150,Winifred,1880,F,92\\n151,Alta,1880,F,91\\n152,Celia,1880,F,90\\n153,Christine,1880,F,89\\n154,Beatrice,1880,F,87\\n155,Birdie,1880,F,85\\n156,Harriett,1880,F,83\\n157,Mable,1880,F,83\\n158,Myra,1880,F,83\\n159,Sophie,1880,F,83\\n160,Tillie,1880,F,83\\n161,Isabel,1880,F,81\\n162,Sylvia,1880,F,81\\n163,Carolyn,1880,F,80\\n164,Isabelle,1880,F,80\\n165,Leila,1880,F,80\\n166,Sally,1880,F,80\\n167,Ina,1880,F,79\\n168,Essie,1880,F,78\\n169,Bertie,1880,F,77\\n170,Nell,1880,F,77\\n171,Alberta,1880,F,76\\n172,Katharine,1880,F,76\\n173,Lora,1880,F,74\\n174,Rena,1880,F,74\\n175,Mina,1880,F,73\\n176,Rhoda,1880,F,73\\n177,Mathilda,1880,F,72\\n178,Abbie,1880,F,71\\n179,Eula,1880,F,70\\n180,Dollie,1880,F,69\\n181,Hettie,1880,F,69\\n182,Eunice,1880,F,67\\n183,Fanny,1880,F,67\\n184,Ola,1880,F,67\\n185,Lenora,1880,F,66\\n186,Adelaide,1880,F,65\\n187,Christina,1880,F,65\\n188,Lelia,1880,F,65\\n189,Nelle,1880,F,65\\n190,Sue,1880,F,65\\n191,Johanna,1880,F,64\\n192,Lilly,1880,F,64\\n193,Lucinda,1880,F,63\\n194,Minerva,1880,F,63\\n195,Lettie,1880,F,62\\n196,Roxie,1880,F,62\\n197,Cynthia,1880,F,61\\n198,Helena,1880,F,60\\n199,Hilda,1880,F,60\\n200,Hulda,1880,F,60\\n201,Bernice,1880,F,59\\n202,Genevieve,1880,F,59\\n203,Jean,1880,F,59\\n204,Cordelia,1880,F,58\\n205,Marian,1880,F,56\\n206,Francis,1880,F,55\\n207,Jeanette,1880,F,55\\n208,Adeline,1880,F,54\\n209,Gussie,1880,F,54\\n210,Leah,1880,F,54\\n211,Lois,1880,F,53\\n212,Lura,1880,F,53\\n213,Mittie,1880,F,53\\n214,Hallie,1880,F,51\\n215,Isabella,1880,F,50\\n216,Olga,1880,F,50\\n217,Phoebe,1880,F,50\\n218,Teresa,1880,F,50\\n219,Hester,1880,F,49\\n220,Lida,1880,F,49\\n221,Lina,1880,F,49\\n222,Winnie,1880,F,49\\n223,Claudia,1880,F,48\\n224,Marguerite,1880,F,48\\n225,Vera,1880,F,48\\n226,Cecelia,1880,F,47\\n227,Bess,1880,F,46\\n228,Emilie,1880,F,46\\n229,John,1880,F,46\\n230,Rosetta,1880,F,46\\n231,Verna,1880,F,46\\n232,Myrtie,1880,F,45\\n233,Cecilia,1880,F,44\\n234,Elva,1880,F,44\\n235,Olivia,1880,F,44\\n236,Ophelia,1880,F,44\\n237,Georgie,1880,F,43\\n238,Elnora,1880,F,42\\n239,Violet,1880,F,42\\n240,Adele,1880,F,41\\n241,Lily,1880,F,41\\n242,Linnie,1880,F,41\\n243,Loretta,1880,F,41\\n244,Madge,1880,F,41\\n245,Polly,1880,F,41\\n246,Virgie,1880,F,41\\n247,Eugenia,1880,F,40\\n248,Lucile,1880,F,40\\n249,Lucille,1880,F,40\\n250,Mabelle,1880,F,39\\n251,Rosalie,1880,F,39\\n252,Kittie,1880,F,38\\n253,Meta,1880,F,37\\n254,Angie,1880,F,36\\n255,Dessie,1880,F,36\\n256,Georgiana,1880,F,36\\n257,Lila,1880,F,36\\n258,Regina,1880,F,36\\n259,Selma,1880,F,36\\n260,Wilhelmina,1880,F,36\\n261,Bridget,1880,F,35\\n262,Lilla,1880,F,35\\n263,Malinda,1880,F,35\\n264,Vina,1880,F,35\\n265,Freda,1880,F,34\\n266,Gertie,1880,F,34\\n267,Jeannette,1880,F,34\\n268,Louella,1880,F,34\\n269,Mandy,1880,F,34\\n270,Roberta,1880,F,34\\n271,Cassie,1880,F,33\\n272,Corinne,1880,F,33\\n273,Ivy,1880,F,33\\n274,Melissa,1880,F,33\\n275,Lyda,1880,F,32\\n276,Naomi,1880,F,32\\n277,Norma,1880,F,32\\n278,Bell,1880,F,31\\n279,Margie,1880,F,31\\n280,Nona,1880,F,31\\n281,Zella,1880,F,31\\n282,Dovie,1880,F,30\\n283,Elvira,1880,F,30\\n284,Erma,1880,F,30\\n285,Irma,1880,F,30\\n286,Leota,1880,F,30\\n287,William,1880,F,30\\n288,Artie,1880,F,29\\n289,Blanch,1880,F,29\\n290,Charity,1880,F,29\\n291,Lorena,1880,F,29\\n292,Lucretia,1880,F,29\\n293,Orpha,1880,F,29\\n294,Alvina,1880,F,28\\n295,Annette,1880,F,28\\n296,Catharine,1880,F,28\\n297,Elma,1880,F,28\\n298,Geneva,1880,F,28\\n299,Janet,1880,F,28\\n300,Lee,1880,F,28\\n301,Leora,1880,F,28\\n302,Lona,1880,F,28\\n303,Miriam,1880,F,28\\n304,Zora,1880,F,28\\n305,Linda,1880,F,27\\n306,Octavia,1880,F,27\\n307,Sudie,1880,F,27\\n308,Zula,1880,F,27\\n309,Adella,1880,F,26\\n310,Alpha,1880,F,26\\n311,Frieda,1880,F,26\\n312,George,1880,F,26\\n313,Joanna,1880,F,26\\n314,Leonora,1880,F,26\\n315,Priscilla,1880,F,26\\n316,Tennie,1880,F,26\\n317,Angeline,1880,F,25\\n318,Docia,1880,F,25\\n319,Ettie,1880,F,25\\n320,Flossie,1880,F,25\\n321,Hanna,1880,F,25\\n322,Letha,1880,F,25\\n323,Minta,1880,F,25\\n324,Retta,1880,F,25\\n325,Rosella,1880,F,25\\n326,Adah,1880,F,24\\n327,Berta,1880,F,24\\n328,Elisabeth,1880,F,24\\n329,Elise,1880,F,24\\n330,Goldie,1880,F,24\\n331,Leola,1880,F,24\\n332,Margret,1880,F,24\\n333,Adaline,1880,F,23\\n334,Floy,1880,F,23\\n335,Idella,1880,F,23\\n336,Juanita,1880,F,23\\n337,Lenna,1880,F,23\\n338,Lucie,1880,F,23\\n339,Missouri,1880,F,23\\n340,Nola,1880,F,23\\n341,Zoe,1880,F,23\\n342,Eda,1880,F,22\\n343,Isabell,1880,F,22\\n344,James,1880,F,22\\n345,Julie,1880,F,22\\n346,Letitia,1880,F,22\\n347,Madeline,1880,F,22\\n348,Malissa,1880,F,22\\n349,Mariah,1880,F,22\\n350,Pattie,1880,F,22\\n351,Vivian,1880,F,22\\n352,Almeda,1880,F,21\\n353,Aurelia,1880,F,21\\n354,Claire,1880,F,21\\n355,Dolly,1880,F,21\\n356,Hazel,1880,F,21\\n357,Jannie,1880,F,21\\n358,Kathleen,1880,F,21\\n359,Kathrine,1880,F,21\\n360,Lavinia,1880,F,21\\n361,Marietta,1880,F,21\\n362,Melvina,1880,F,21\\n363,Ona,1880,F,21\\n364,Pinkie,1880,F,21\\n365,Samantha,1880,F,21\\n366,Susanna,1880,F,21\\n367,Chloe,1880,F,20\\n368,Donnie,1880,F,20\\n369,Elsa,1880,F,20\\n370,Gladys,1880,F,20\\n371,Matie,1880,F,20\\n372,Pearle,1880,F,20\\n373,Vesta,1880,F,20\\n374,Vinnie,1880,F,20\\n375,Antoinette,1880,F,19\\n376,Clementine,1880,F,19\\n377,Edythe,1880,F,19\\n378,Harriette,1880,F,19\\n379,Libbie,1880,F,19\\n380,Lilian,1880,F,19\\n381,Lue,1880,F,19\\n382,Lutie,1880,F,19\\n383,Magdalena,1880,F,19\\n384,Meda,1880,F,19\\n385,Rita,1880,F,19\\n386,Tena,1880,F,19\\n387,Zelma,1880,F,19\\n388,Adelia,1880,F,18\\n389,Annetta,1880,F,18\\n390,Antonia,1880,F,18\\n391,Dona,1880,F,18\\n392,Elizebeth,1880,F,18\\n393,Georgianna,1880,F,18\\n394,Gracie,1880,F,18\\n395,Iona,1880,F,18\\n396,Lessie,1880,F,18\\n397,Leta,1880,F,18\\n398,Liza,1880,F,18\\n399,Mertie,1880,F,18\\n400,Molly,1880,F,18\\n401,Neva,1880,F,18\\n402,Oma,1880,F,18\\n403,Alida,1880,F,17\\n404,Alva,1880,F,17\\n405,Cecile,1880,F,17\\n406,Cleo,1880,F,17\\n407,Donna,1880,F,17\\n408,Ellie,1880,F,17\\n409,Ernestine,1880,F,17\\n410,Evie,1880,F,17\\n411,Frankie,1880,F,17\\n412,Helene,1880,F,17\\n413,Minna,1880,F,17\\n414,Myrta,1880,F,17\\n415,Prudence,1880,F,17\\n416,Queen,1880,F,17\\n417,Rilla,1880,F,17\\n418,Savannah,1880,F,17\\n419,Tessie,1880,F,17\\n420,Tina,1880,F,17\\n421,Agatha,1880,F,16\\n422,America,1880,F,16\\n423,Anita,1880,F,16\\n424,Arminta,1880,F,16\\n425,Dorothea,1880,F,16\\n426,Ira,1880,F,16\\n427,Luvenia,1880,F,16\\n428,Marjorie,1880,F,16\\n429,Maybelle,1880,F,16\\n430,Mellie,1880,F,16\\n431,Nan,1880,F,16\\n432,Pearlie,1880,F,16\\n433,Sidney,1880,F,16\\n434,Velma,1880,F,16\\n435,Clare,1880,F,15\\n436,Constance,1880,F,15\\n437,Dixie,1880,F,15\\n438,Ila,1880,F,15\\n439,Iola,1880,F,15\\n440,Jimmie,1880,F,15\\n441,Louvenia,1880,F,15\\n442,Lucia,1880,F,15\\n443,Ludie,1880,F,15\\n444,Luna,1880,F,15\\n445,Metta,1880,F,15\\n446,Patsy,1880,F,15\\n447,Phebe,1880,F,15\\n448,Sophronia,1880,F,15\\n449,Adda,1880,F,14\\n450,Avis,1880,F,14\\n451,Betsy,1880,F,14\\n452,Bonnie,1880,F,14\\n453,Cecil,1880,F,14\\n454,Cordie,1880,F,14\\n455,Emmaline,1880,F,14\\n456,Ethelyn,1880,F,14\\n457,Hortense,1880,F,14\\n458,June,1880,F,14\\n459,Louie,1880,F,14\\n460,Lovie,1880,F,14\\n461,Marcella,1880,F,14\\n462,Melinda,1880,F,14\\n463,Mona,1880,F,14\\n464,Odessa,1880,F,14\\n465,Veronica,1880,F,14\\n466,Aimee,1880,F,13\\n467,Annabel,1880,F,13\\n468,Ava,1880,F,13\\n469,Bella,1880,F,13\\n470,Carolina,1880,F,13\\n471,Cathrine,1880,F,13\\n472,Christena,1880,F,13\\n473,Clyde,1880,F,13\\n474,Dena,1880,F,13\\n475,Dolores,1880,F,13\\n476,Eleanore,1880,F,13\\n477,Elmira,1880,F,13\\n478,Fay,1880,F,13\\n479,Frank,1880,F,13\\n480,Jenny,1880,F,13\\n481,Kizzie,1880,F,13\\n482,Lonnie,1880,F,13\\n483,Loula,1880,F,13\\n484,Magdalene,1880,F,13\\n485,Mettie,1880,F,13\\n486,Mintie,1880,F,13\\n487,Peggy,1880,F,13\\n488,Reba,1880,F,13\\n489,Serena,1880,F,13\\n490,Vida,1880,F,13\\n491,Zada,1880,F,13\\n492,Abigail,1880,F,12\\n493,Celestine,1880,F,12\\n494,Celina,1880,F,12\\n495,Claudie,1880,F,12\\n496,Clemmie,1880,F,12\\n497,Connie,1880,F,12\\n498,Daisie,1880,F,12\\n499,Deborah,1880,F,12\\n500,Dessa,1880,F,12\\n501,Easter,1880,F,12\\n502,Eddie,1880,F,12\\n503,Emelia,1880,F,12\\n504,Emmie,1880,F,12\\n505,Imogene,1880,F,12\\n506,India,1880,F,12\\n507,Jeanne,1880,F,12\\n508,Joan,1880,F,12\\n509,Lenore,1880,F,12\\n510,Liddie,1880,F,12\\n511,Lotta,1880,F,12\\n512,Mame,1880,F,12\\n513,Nevada,1880,F,12\\n514,Rachael,1880,F,12\\n515,Sina,1880,F,12\\n516,Willa,1880,F,12\\n517,Aline,1880,F,11\\n518,Beryl,1880,F,11\\n519,Charles,1880,F,11\\n520,Daisey,1880,F,11\\n521,Dorcas,1880,F,11\\n522,Edmonia,1880,F,11\\n523,Effa,1880,F,11\\n524,Eldora,1880,F,11\\n525,Eloise,1880,F,11\\n526,Emmer,1880,F,11\\n527,Era,1880,F,11\\n528,Gena,1880,F,11\\n529,Henry,1880,F,11\\n530,Iris,1880,F,11\\n531,Izora,1880,F,11\\n532,Lennie,1880,F,11\\n533,Lissie,1880,F,11\\n534,Mallie,1880,F,11\\n535,Malvina,1880,F,11\\n536,Mathilde,1880,F,11\\n537,Mazie,1880,F,11\\n538,Queenie,1880,F,11\\n539,Robert,1880,F,11\\n540,Rosina,1880,F,11\\n541,Salome,1880,F,11\\n542,Theodora,1880,F,11\\n543,Therese,1880,F,11\\n544,Vena,1880,F,11\\n545,Wanda,1880,F,11\\n546,Wilda,1880,F,11\\n547,Altha,1880,F,10\\n548,Anastasia,1880,F,10\\n549,Besse,1880,F,10\\n550,Bird,1880,F,10\\n551,Birtie,1880,F,10\\n552,Clarissa,1880,F,10\\n553,Claude,1880,F,10\\n554,Delilah,1880,F,10\\n555,Diana,1880,F,10\\n556,Emelie,1880,F,10\\n557,Erna,1880,F,10\\n558,Fern,1880,F,10\\n559,Florida,1880,F,10\\n560,Frona,1880,F,10\\n561,Hilma,1880,F,10\\n562,Joseph,1880,F,10\\n563,Juliet,1880,F,10\\n564,Leonie,1880,F,10\\n565,Lugenia,1880,F,10\\n566,Mammie,1880,F,10\\n567,Manda,1880,F,10\\n568,Manerva,1880,F,10\\n569,Manie,1880,F,10\\n570,Nella,1880,F,10\\n571,Paulina,1880,F,10\\n572,Philomena,1880,F,10\\n573,Rae,1880,F,10\\n574,Selina,1880,F,10\\n575,Sena,1880,F,10\\n576,Theodosia,1880,F,10\\n577,Tommie,1880,F,10\\n578,Una,1880,F,10\\n579,Vernie,1880,F,10\\n580,Adela,1880,F,9\\n581,Althea,1880,F,9\\n582,Amalia,1880,F,9\\n583,Amber,1880,F,9\\n584,Angelina,1880,F,9\\n585,Annabelle,1880,F,9\\n586,Anner,1880,F,9\\n587,Arie,1880,F,9\\n588,Clarice,1880,F,9\\n589,Corda,1880,F,9\\n590,Corrie,1880,F,9\\n591,Dell,1880,F,9\\n592,Dellar,1880,F,9\\n593,Donie,1880,F,9\\n594,Doris,1880,F,9\\n595,Elda,1880,F,9\\n596,Elinor,1880,F,9\\n597,Emeline,1880,F,9\\n598,Emilia,1880,F,9\\n599,Esta,1880,F,9\\n600,Estell,1880,F,9\\n601,Etha,1880,F,9\\n602,Fred,1880,F,9\\n603,Hope,1880,F,9\\n604,Indiana,1880,F,9\\n605,Ione,1880,F,9\\n606,Jettie,1880,F,9\\n607,Johnnie,1880,F,9\\n608,Josiephine,1880,F,9\\n609,Kitty,1880,F,9\\n610,Lavina,1880,F,9\\n611,Leda,1880,F,9\\n612,Letta,1880,F,9\\n613,Mahala,1880,F,9\\n614,Marcia,1880,F,9\\n615,Margarette,1880,F,9\\n616,Maudie,1880,F,9\\n617,Maye,1880,F,9\\n618,Norah,1880,F,9\\n619,Oda,1880,F,9\\n620,Patty,1880,F,9\\n621,Paula,1880,F,9\\n622,Permelia,1880,F,9\\n623,Rosalia,1880,F,9\\n624,Roxanna,1880,F,9\\n625,Sula,1880,F,9\\n626,Vada,1880,F,9\\n627,Winnifred,1880,F,9\\n628,Adline,1880,F,8\\n629,Almira,1880,F,8\\n630,Alvena,1880,F,8\\n631,Arizona,1880,F,8\\n632,Becky,1880,F,8\\n633,Bennie,1880,F,8\\n634,Bernadette,1880,F,8\\n635,Camille,1880,F,8\\n636,Cordia,1880,F,8\\n637,Corine,1880,F,8\\n638,Dicie,1880,F,8\\n639,Dove,1880,F,8\\n640,Drusilla,1880,F,8\\n641,Elena,1880,F,8\\n642,Elenora,1880,F,8\\n643,Elmina,1880,F,8\\n644,Ethyl,1880,F,8\\n645,Evalyn,1880,F,8\\n646,Evelina,1880,F,8\\n647,Faye,1880,F,8\\n648,Huldah,1880,F,8\\n649,Idell,1880,F,8\\n650,Inga,1880,F,8\\n651,Irena,1880,F,8\\n652,Jewell,1880,F,8\\n653,Kattie,1880,F,8\\n654,Lavenia,1880,F,8\\n655,Leslie,1880,F,8\\n656,Lovina,1880,F,8\\n657,Lulie,1880,F,8\\n658,Magnolia,1880,F,8\\n659,Margeret,1880,F,8\\n660,Margery,1880,F,8\\n661,Media,1880,F,8\\n662,Millicent,1880,F,8\\n663,Nena,1880,F,8\\n664,Ocie,1880,F,8\\n665,Orilla,1880,F,8\\n666,Osie,1880,F,8\\n667,Pansy,1880,F,8\\n668,Ray,1880,F,8\\n669,Rosia,1880,F,8\\n670,Rowena,1880,F,8\\n671,Shirley,1880,F,8\\n672,Tabitha,1880,F,8\\n673,Thomas,1880,F,8\\n674,Verdie,1880,F,8\\n675,Walter,1880,F,8\\n676,Zetta,1880,F,8\\n677,Zoa,1880,F,8\\n678,Zona,1880,F,8\\n679,Albertina,1880,F,7\\n680,Albina,1880,F,7\\n681,Alyce,1880,F,7\\n682,Amie,1880,F,7\\n683,Angela,1880,F,7\\n684,Annis,1880,F,7\\n685,Carol,1880,F,7\\n686,Carra,1880,F,7\\n687,Clarence,1880,F,7\\n688,Clarinda,1880,F,7\\n689,Delphia,1880,F,7\\n690,Dillie,1880,F,7\\n691,Doshie,1880,F,7\\n692,Drucilla,1880,F,7\\n693,Etna,1880,F,7\\n694,Eugenie,1880,F,7\\n695,Eulalia,1880,F,7\\n696,Eve,1880,F,7\\n697,Felicia,1880,F,7\\n698,Florance,1880,F,7\\n699,Fronie,1880,F,7\\n700,Geraldine,1880,F,7\\n701,Gina,1880,F,7\\n702,Glenna,1880,F,7\\n703,Grayce,1880,F,7\\n704,Hedwig,1880,F,7\\n705,Jessica,1880,F,7\\n706,Jossie,1880,F,7\\n707,Katheryn,1880,F,7\\n708,Katy,1880,F,7\\n709,Lea,1880,F,7\\n710,Leanna,1880,F,7\\n711,Leitha,1880,F,7\\n712,Leone,1880,F,7\\n713,Lidie,1880,F,7\\n714,Loma,1880,F,7\\n715,Lular,1880,F,7\\n716,Magdalen,1880,F,7\\n717,Maymie,1880,F,7\\n718,Minervia,1880,F,7\\n719,Muriel,1880,F,7\\n720,Neppie,1880,F,7\\n721,Olie,1880,F,7\\n722,Onie,1880,F,7\\n723,Osa,1880,F,7\\n724,Otelia,1880,F,7\\n725,Paralee,1880,F,7\\n726,Patience,1880,F,7\\n727,Rella,1880,F,7\\n728,Rillie,1880,F,7\\n729,Rosanna,1880,F,7\\n730,Theo,1880,F,7\\n731,Tilda,1880,F,7\\n732,Tishie,1880,F,7\\n733,Tressa,1880,F,7\\n734,Viva,1880,F,7\\n735,Yetta,1880,F,7\\n736,Zena,1880,F,7\\n737,Zola,1880,F,7\\n738,Abby,1880,F,6\\n739,Aileen,1880,F,6\\n740,Alba,1880,F,6\\n741,Alda,1880,F,6\\n742,Alla,1880,F,6\\n743,Alverta,1880,F,6\\n744,Ara,1880,F,6\\n745,Ardelia,1880,F,6\\n746,Ardella,1880,F,6\\n747,Arrie,1880,F,6\\n748,Arvilla,1880,F,6\\n749,Augustine,1880,F,6\\n750,Aurora,1880,F,6\\n751,Bama,1880,F,6\\n752,Bena,1880,F,6\\n753,Byrd,1880,F,6\\n754,Calla,1880,F,6\\n755,Camilla,1880,F,6\\n756,Carey,1880,F,6\\n757,Carlotta,1880,F,6\\n758,Celestia,1880,F,6\\n759,Cherry,1880,F,6\\n760,Cinda,1880,F,6\\n761,Classie,1880,F,6\\n762,Claudine,1880,F,6\\n763,Clemie,1880,F,6\\n764,Clifford,1880,F,6\\n765,Clyda,1880,F,6\\n766,Creola,1880,F,6\\n767,Debbie,1880,F,6\\n768,Dee,1880,F,6\\n769,Dinah,1880,F,6\\n770,Doshia,1880,F,6\\n771,Ednah,1880,F,6\\n772,Edyth,1880,F,6\\n773,Eleanora,1880,F,6\\n774,Electa,1880,F,6\\n775,Eola,1880,F,6\\n776,Erie,1880,F,6\\n777,Eudora,1880,F,6\\n778,Euphemia,1880,F,6\\n779,Evalena,1880,F,6\\n780,Evaline,1880,F,6\\n781,Faith,1880,F,6\\n782,Fidelia,1880,F,6\\n783,Freddie,1880,F,6\\n784,Golda,1880,F,6\\n785,Harry,1880,F,6\\n786,Helma,1880,F,6\\n787,Hermine,1880,F,6\\n788,Hessie,1880,F,6\\n789,Ivah,1880,F,6\\n790,Janette,1880,F,6\\n791,Jennette,1880,F,6\\n792,Joella,1880,F,6\\n793,Kathryne,1880,F,6\\n794,Lacy,1880,F,6\\n795,Lanie,1880,F,6\\n796,Lauretta,1880,F,6\\n797,Leana,1880,F,6\\n798,Leatha,1880,F,6\\n799,Leo,1880,F,6\\n800,Liller,1880,F,6\\n801,Lillis,1880,F,6\\n802,Louetta,1880,F,6\\n803,Madie,1880,F,6\\n804,Mai,1880,F,6\\n805,Martina,1880,F,6\\n806,Maryann,1880,F,6\\n807,Melva,1880,F,6\\n808,Mena,1880,F,6\\n809,Mercedes,1880,F,6\\n810,Merle,1880,F,6\\n811,Mima,1880,F,6\\n812,Minda,1880,F,6\\n813,Monica,1880,F,6\\n814,Nealie,1880,F,6\\n815,Netta,1880,F,6\\n816,Nolia,1880,F,6\\n817,Nonie,1880,F,6\\n818,Odelia,1880,F,6\\n819,Ottilie,1880,F,6\\n820,Phyllis,1880,F,6\\n821,Robbie,1880,F,6\\n822,Sabina,1880,F,6\\n823,Sada,1880,F,6\\n824,Sammie,1880,F,6\\n825,Suzanne,1880,F,6\\n826,Sybilla,1880,F,6\\n827,Thea,1880,F,6\\n828,Tressie,1880,F,6\\n829,Vallie,1880,F,6\\n830,Venie,1880,F,6\\n831,Viney,1880,F,6\\n832,Wilhelmine,1880,F,6\\n833,Winona,1880,F,6\\n834,Zelda,1880,F,6\\n835,Zilpha,1880,F,6\\n836,Adelle,1880,F,5\\n837,Adina,1880,F,5\\n838,Adrienne,1880,F,5\\n839,Albertine,1880,F,5\\n840,Alys,1880,F,5\\n841,Ana,1880,F,5\\n842,Araminta,1880,F,5\\n843,Arthur,1880,F,5\\n844,Birtha,1880,F,5\\n845,Bulah,1880,F,5\\n846,Caddie,1880,F,5\\n847,Celie,1880,F,5\\n848,Charlotta,1880,F,5\\n849,Clair,1880,F,5\\n850,Concepcion,1880,F,5\\n851,Cordella,1880,F,5\\n852,Corrine,1880,F,5\\n853,Delila,1880,F,5\\n854,Delphine,1880,F,5\\n855,Dosha,1880,F,5\\n856,Edgar,1880,F,5\\n857,Elaine,1880,F,5\\n858,Elisa,1880,F,5\\n859,Ellar,1880,F,5\\n860,Elmire,1880,F,5\\n861,Elvina,1880,F,5\\n862,Ena,1880,F,5\\n863,Estie,1880,F,5\\n864,Etter,1880,F,5\\n865,Fronnie,1880,F,5\\n866,Genie,1880,F,5\\n867,Georgina,1880,F,5\\n868,Glenn,1880,F,5\\n869,Gracia,1880,F,5\\n870,Guadalupe,1880,F,5\\n871,Gwendolyn,1880,F,5\\n872,Hassie,1880,F,5\\n873,Honora,1880,F,5\\n874,Icy,1880,F,5\\n875,Isa,1880,F,5\\n876,Isadora,1880,F,5\\n877,Jesse,1880,F,5\\n878,Jewel,1880,F,5\\n879,Joe,1880,F,5\\n880,Johannah,1880,F,5\\n881,Juana,1880,F,5\\n882,Judith,1880,F,5\\n883,Judy,1880,F,5\\n884,Junie,1880,F,5\\n885,Lavonia,1880,F,5\\n886,Lella,1880,F,5\\n887,Lemma,1880,F,5\\n888,Letty,1880,F,5\\n889,Linna,1880,F,5\\n890,Littie,1880,F,5\\n891,Lollie,1880,F,5\\n892,Lorene,1880,F,5\\n893,Louis,1880,F,5\\n894,Love,1880,F,5\\n895,Lovisa,1880,F,5\\n896,Lucina,1880,F,5\\n897,Lynn,1880,F,5\\n898,Madora,1880,F,5\\n899,Mahalia,1880,F,5\\n900,Manervia,1880,F,5\\n901,Manuela,1880,F,5\\n902,Margarett,1880,F,5\\n903,Margaretta,1880,F,5\\n904,Margarita,1880,F,5\\n905,Marilla,1880,F,5\\n906,Mignon,1880,F,5\\n907,Mozella,1880,F,5\\n908,Natalie,1880,F,5\\n909,Nelia,1880,F,5\\n910,Nolie,1880,F,5\\n911,Omie,1880,F,5\\n912,Opal,1880,F,5\\n913,Ossie,1880,F,5\\n914,Ottie,1880,F,5\\n915,Ottilia,1880,F,5\\n916,Parthenia,1880,F,5\\n917,Penelope,1880,F,5\\n918,Pinkey,1880,F,5\\n919,Pollie,1880,F,5\\n920,Rennie,1880,F,5\\n921,Reta,1880,F,5\\n922,Roena,1880,F,5\\n923,Rosalee,1880,F,5\\n924,Roseanna,1880,F,5\\n925,Ruthie,1880,F,5\\n926,Sabra,1880,F,5\\n927,Sannie,1880,F,5\\n928,Selena,1880,F,5\\n929,Sibyl,1880,F,5\\n930,Tella,1880,F,5\\n931,Tempie,1880,F,5\\n932,Tennessee,1880,F,5\\n933,Teressa,1880,F,5\\n934,Texas,1880,F,5\\n935,Theda,1880,F,5\\n936,Thelma,1880,F,5\\n937,Thursa,1880,F,5\\n938,Ula,1880,F,5\\n939,Vannie,1880,F,5\\n940,Verona,1880,F,5\\n941,Vertie,1880,F,5\\n942,Wilma,1880,F,5\\n943,John,1880,M,9655\\n944,William,1880,M,9532\\n945,James,1880,M,5927\\n946,Charles,1880,M,5348\\n947,George,1880,M,5126\\n948,Frank,1880,M,3242\\n949,Joseph,1880,M,2632\\n950,Thomas,1880,M,2534\\n951,Henry,1880,M,2444\\n952,Robert,1880,M,2415\\n953,Edward,1880,M,2364\\n954,Harry,1880,M,2152\\n955,Walter,1880,M,1755\\n956,Arthur,1880,M,1599\\n957,Fred,1880,M,1569\\n958,Albert,1880,M,1493\\n959,Samuel,1880,M,1024\\n960,David,1880,M,869\\n961,Louis,1880,M,828\\n962,Joe,1880,M,731\\n963,Charlie,1880,M,730\\n964,Clarence,1880,M,730\\n965,Richard,1880,M,728\\n966,Andrew,1880,M,644\\n967,Daniel,1880,M,643\\n968,Ernest,1880,M,615\\n969,Will,1880,M,588\\n970,Jesse,1880,M,569\\n971,Oscar,1880,M,544\\n972,Lewis,1880,M,517\\n973,Peter,1880,M,496\\n974,Benjamin,1880,M,490\\n975,Frederick,1880,M,483\\n976,Willie,1880,M,476\\n977,Alfred,1880,M,469\\n978,Sam,1880,M,457\\n979,Roy,1880,M,440\\n980,Herbert,1880,M,424\\n981,Jacob,1880,M,404\\n982,Tom,1880,M,399\\n983,Elmer,1880,M,373\\n984,Carl,1880,M,372\\n985,Lee,1880,M,361\\n986,Howard,1880,M,357\\n987,Martin,1880,M,357\\n988,Michael,1880,M,354\\n989,Bert,1880,M,348\\n990,Herman,1880,M,347\\n991,Jim,1880,M,345\\n992,Francis,1880,M,344\\n993,Harvey,1880,M,344\\n994,Earl,1880,M,335\\n995,Eugene,1880,M,328\\n996,Ralph,1880,M,317\\n997,Ed,1880,M,310\\n998,Claude,1880,M,309\\n999,Edwin,1880,M,309\\n1000,Ben,1880,M,305\\n1001,Charley,1880,M,305\\n1002,Paul,1880,M,301\\n1003,Edgar,1880,M,283\\n1004,Isaac,1880,M,274\\n1005,Otto,1880,M,271\\n1006,Luther,1880,M,260\\n1007,Lawrence,1880,M,257\\n1008,Ira,1880,M,249\\n1009,Patrick,1880,M,248\\n1010,Guy,1880,M,239\\n1011,Oliver,1880,M,234\\n1012,Theodore,1880,M,232\\n1013,Hugh,1880,M,224\\n1014,Clyde,1880,M,221\\n1015,Alexander,1880,M,211\\n1016,August,1880,M,210\\n1017,Floyd,1880,M,206\\n1018,Homer,1880,M,205\\n1019,Jack,1880,M,204\\n1020,Leonard,1880,M,200\\n1021,Horace,1880,M,199\\n1022,Marion,1880,M,189\\n1023,Philip,1880,M,186\\n1024,Allen,1880,M,184\\n1025,Archie,1880,M,183\\n1026,Stephen,1880,M,176\\n1027,Chester,1880,M,168\\n1028,Willis,1880,M,166\\n1029,Raymond,1880,M,165\\n1030,Rufus,1880,M,163\\n1031,Warren,1880,M,158\\n1032,Jessie,1880,M,154\\n1033,Milton,1880,M,149\\n1034,Alex,1880,M,147\\n1035,Leo,1880,M,147\\n1036,Julius,1880,M,143\\n1037,Ray,1880,M,142\\n1038,Sidney,1880,M,142\\n1039,Bernard,1880,M,140\\n1040,Dan,1880,M,140\\n1041,Jerry,1880,M,136\\n1042,Calvin,1880,M,134\\n1043,Perry,1880,M,134\\n1044,Dave,1880,M,131\\n1045,Anthony,1880,M,130\\n1046,Eddie,1880,M,129\\n1047,Amos,1880,M,128\\n1048,Dennis,1880,M,128\\n1049,Clifford,1880,M,127\\n1050,Leroy,1880,M,124\\n1051,Wesley,1880,M,123\\n1052,Alonzo,1880,M,122\\n1053,Garfield,1880,M,122\\n1054,Franklin,1880,M,120\\n1055,Emil,1880,M,119\\n1056,Leon,1880,M,118\\n1057,Nathan,1880,M,114\\n1058,Harold,1880,M,113\\n1059,Matthew,1880,M,113\\n1060,Levi,1880,M,112\\n1061,Moses,1880,M,111\\n1062,Everett,1880,M,110\\n1063,Lester,1880,M,109\\n1064,Winfield,1880,M,108\\n1065,Adam,1880,M,104\\n1066,Lloyd,1880,M,104\\n1067,Mack,1880,M,104\\n1068,Fredrick,1880,M,103\\n1069,Jay,1880,M,103\\n1070,Jess,1880,M,103\\n1071,Melvin,1880,M,103\\n1072,Noah,1880,M,103\\n1073,Aaron,1880,M,102\\n1074,Alvin,1880,M,102\\n1075,Norman,1880,M,102\\n1076,Gilbert,1880,M,101\\n1077,Elijah,1880,M,100\\n1078,Victor,1880,M,100\\n1079,Gus,1880,M,99\\n1080,Nelson,1880,M,99\\n1081,Jasper,1880,M,98\\n1082,Silas,1880,M,98\\n1083,Jake,1880,M,96\\n1084,Christopher,1880,M,95\\n1085,Mike,1880,M,95\\n1086,Percy,1880,M,94\\n1087,Adolph,1880,M,93\\n1088,Maurice,1880,M,93\\n1089,Cornelius,1880,M,92\\n1090,Felix,1880,M,92\\n1091,Reuben,1880,M,92\\n1092,Wallace,1880,M,91\\n1093,Claud,1880,M,90\\n1094,Roscoe,1880,M,90\\n1095,Sylvester,1880,M,89\\n1096,Earnest,1880,M,88\\n1097,Hiram,1880,M,88\\n1098,Otis,1880,M,88\\n1099,Simon,1880,M,88\\n1100,Willard,1880,M,88\\n1101,Irvin,1880,M,86\\n1102,Mark,1880,M,85\\n1103,Jose,1880,M,84\\n1104,Wilbur,1880,M,82\\n1105,Abraham,1880,M,81\\n1106,Virgil,1880,M,81\\n1107,Clinton,1880,M,79\\n1108,Elbert,1880,M,79\\n1109,Leslie,1880,M,79\\n1110,Marshall,1880,M,78\\n1111,Owen,1880,M,78\\n1112,Wiley,1880,M,78\\n1113,Anton,1880,M,77\\n1114,Morris,1880,M,77\\n1115,Manuel,1880,M,75\\n1116,Phillip,1880,M,75\\n1117,Augustus,1880,M,74\\n1118,Emmett,1880,M,74\\n1119,Eli,1880,M,73\\n1120,Nicholas,1880,M,73\\n1121,Wilson,1880,M,72\\n1122,Alva,1880,M,70\\n1123,Harley,1880,M,70\\n1124,Newton,1880,M,70\\n1125,Timothy,1880,M,70\\n1126,Marvin,1880,M,69\\n1127,Ross,1880,M,69\\n1128,Curtis,1880,M,68\\n1129,Edmund,1880,M,67\\n1130,Jeff,1880,M,66\\n1131,Elias,1880,M,65\\n1132,Harrison,1880,M,65\\n1133,Stanley,1880,M,65\\n1134,Columbus,1880,M,64\\n1135,Lon,1880,M,64\\n1136,Ora,1880,M,64\\n1137,Ollie,1880,M,63\\n1138,Pearl,1880,M,62\\n1139,Russell,1880,M,62\\n1140,Solomon,1880,M,62\\n1141,Arch,1880,M,61\\n1142,Asa,1880,M,60\\n1143,Clayton,1880,M,60\\n1144,Enoch,1880,M,60\\n1145,Irving,1880,M,60\\n1146,Mathew,1880,M,60\\n1147,Nathaniel,1880,M,60\\n1148,Scott,1880,M,60\\n1149,Hubert,1880,M,59\\n1150,Lemuel,1880,M,59\\n1151,Andy,1880,M,58\\n1152,Ellis,1880,M,58\\n1153,Emanuel,1880,M,57\\n1154,Joshua,1880,M,57\\n1155,Millard,1880,M,56\\n1156,Vernon,1880,M,56\\n1157,Wade,1880,M,56\\n1158,Cyrus,1880,M,54\\n1159,Miles,1880,M,54\\n1160,Rudolph,1880,M,54\\n1161,Sherman,1880,M,54\\n1162,Austin,1880,M,53\\n1163,Bill,1880,M,53\\n1164,Chas,1880,M,53\\n1165,Lonnie,1880,M,53\\n1166,Monroe,1880,M,53\\n1167,Byron,1880,M,52\\n1168,Edd,1880,M,52\\n1169,Emery,1880,M,52\\n1170,Grant,1880,M,52\\n1171,Jerome,1880,M,52\\n1172,Max,1880,M,52\\n1173,Mose,1880,M,52\\n1174,Steve,1880,M,52\\n1175,Gordon,1880,M,51\\n1176,Abe,1880,M,50\\n1177,Pete,1880,M,50\\n1178,Chris,1880,M,49\\n1179,Clark,1880,M,49\\n1180,Gustave,1880,M,49\\n1181,Orville,1880,M,49\\n1182,Lorenzo,1880,M,48\\n1183,Bruce,1880,M,47\\n1184,Marcus,1880,M,47\\n1185,Preston,1880,M,47\\n1186,Bob,1880,M,46\\n1187,Dock,1880,M,46\\n1188,Donald,1880,M,46\\n1189,Jackson,1880,M,46\\n1190,Cecil,1880,M,45\\n1191,Barney,1880,M,44\\n1192,Delbert,1880,M,44\\n1193,Edmond,1880,M,44\\n1194,Anderson,1880,M,43\\n1195,Christian,1880,M,43\\n1196,Glenn,1880,M,43\\n1197,Jefferson,1880,M,43\\n1198,Luke,1880,M,43\\n1199,Neal,1880,M,43\\n1200,Burt,1880,M,42\\n1201,Ike,1880,M,42\\n1202,Myron,1880,M,42\\n1203,Tony,1880,M,42\\n1204,Conrad,1880,M,41\\n1205,Joel,1880,M,41\\n1206,Matt,1880,M,41\\n1207,Riley,1880,M,41\\n1208,Vincent,1880,M,41\\n1209,Emory,1880,M,40\\n1210,Isaiah,1880,M,40\\n1211,Nick,1880,M,40\\n1212,Ezra,1880,M,39\\n1213,Green,1880,M,39\\n1214,Juan,1880,M,39\\n1215,Clifton,1880,M,38\\n1216,Lucius,1880,M,38\\n1217,Porter,1880,M,38\\n1218,Arnold,1880,M,37\\n1219,Bud,1880,M,37\\n1220,Jeremiah,1880,M,37\\n1221,Taylor,1880,M,37\\n1222,Forrest,1880,M,36\\n1223,Roland,1880,M,36\\n1224,Spencer,1880,M,35\\n1225,Burton,1880,M,34\\n1226,Don,1880,M,34\\n1227,Emmet,1880,M,34\\n1228,Gustav,1880,M,33\\n1229,Louie,1880,M,33\\n1230,Morgan,1880,M,33\\n1231,Ned,1880,M,33\\n1232,Van,1880,M,33\\n1233,Ambrose,1880,M,32\\n1234,Chauncey,1880,M,32\\n1235,Elisha,1880,M,32\\n1236,Ferdinand,1880,M,32\\n1237,General,1880,M,32\\n1238,Julian,1880,M,32\\n1239,Kenneth,1880,M,32\\n1240,Mitchell,1880,M,32\\n1241,Allie,1880,M,31\\n1242,Josh,1880,M,31\\n1243,Judson,1880,M,31\\n1244,Lyman,1880,M,31\\n1245,Napoleon,1880,M,31\\n1246,Pedro,1880,M,31\\n1247,Berry,1880,M,30\\n1248,Dewitt,1880,M,30\\n1249,Ervin,1880,M,30\\n1250,Forest,1880,M,30\\n1251,Lynn,1880,M,30\\n1252,Pink,1880,M,30\\n1253,Ruben,1880,M,30\\n1254,Sanford,1880,M,30\\n1255,Ward,1880,M,30\\n1256,Douglas,1880,M,29\\n1257,Ole,1880,M,29\\n1258,Omer,1880,M,29\\n1259,Ulysses,1880,M,29\\n1260,Walker,1880,M,29\\n1261,Wilbert,1880,M,29\\n1262,Adelbert,1880,M,28\\n1263,Benjiman,1880,M,28\\n1264,Ivan,1880,M,28\\n1265,Jonas,1880,M,28\\n1266,Major,1880,M,28\\n1267,Abner,1880,M,27\\n1268,Archibald,1880,M,27\\n1269,Caleb,1880,M,27\\n1270,Clint,1880,M,27\\n1271,Dudley,1880,M,27\\n1272,Granville,1880,M,27\\n1273,King,1880,M,27\\n1274,Mary,1880,M,27\\n1275,Merton,1880,M,27\\n1276,Antonio,1880,M,26\\n1277,Bennie,1880,M,26\\n1278,Carroll,1880,M,26\\n1279,Freeman,1880,M,26\\n1280,Josiah,1880,M,26\\n1281,Milo,1880,M,26\\n1282,Royal,1880,M,26\\n1283,Dick,1880,M,25\\n1284,Earle,1880,M,25\\n1285,Elza,1880,M,25\\n1286,Emerson,1880,M,25\\n1287,Fletcher,1880,M,25\\n1288,Judge,1880,M,25\\n1289,Laurence,1880,M,25\\n1290,Neil,1880,M,25\\n1291,Roger,1880,M,25\\n1292,Seth,1880,M,25\\n1293,Glen,1880,M,24\\n1294,Hugo,1880,M,24\\n1295,Jimmie,1880,M,24\\n1296,Johnnie,1880,M,24\\n1297,Washington,1880,M,24\\n1298,Elwood,1880,M,23\\n1299,Gust,1880,M,23\\n1300,Harmon,1880,M,23\\n1301,Jordan,1880,M,23\\n1302,Simeon,1880,M,23\\n1303,Wayne,1880,M,23\\n1304,Wilber,1880,M,23\\n1305,Clem,1880,M,22\\n1306,Evan,1880,M,22\\n1307,Frederic,1880,M,22\\n1308,Irwin,1880,M,22\\n1309,Junius,1880,M,22\\n1310,Lafayette,1880,M,22\\n1311,Loren,1880,M,22\\n1312,Madison,1880,M,22\\n1313,Mason,1880,M,22\\n1314,Orval,1880,M,22\\n1315,Abram,1880,M,21\\n1316,Aubrey,1880,M,21\\n1317,Elliott,1880,M,21\\n1318,Hans,1880,M,21\\n1319,Karl,1880,M,21\\n1320,Minor,1880,M,21\\n1321,Wash,1880,M,21\\n1322,Wilfred,1880,M,21\\n1323,Allan,1880,M,20\\n1324,Alphonse,1880,M,20\\n1325,Dallas,1880,M,20\\n1326,Dee,1880,M,20\\n1327,Isiah,1880,M,20\\n1328,Jason,1880,M,20\\n1329,Johnny,1880,M,20\\n1330,Lawson,1880,M,20\\n1331,Lew,1880,M,20\\n1332,Micheal,1880,M,20\\n1333,Orin,1880,M,20\\n1334,Addison,1880,M,19\\n1335,Cal,1880,M,19\\n1336,Erastus,1880,M,19\\n1337,Francisco,1880,M,19\\n1338,Hardy,1880,M,19\\n1339,Lucien,1880,M,19\\n1340,Randolph,1880,M,19\\n1341,Stewart,1880,M,19\\n1342,Vern,1880,M,19\\n1343,Wilmer,1880,M,19\\n1344,Zack,1880,M,19\\n1345,Adrian,1880,M,18\\n1346,Alvah,1880,M,18\\n1347,Bertram,1880,M,18\\n1348,Clay,1880,M,18\\n1349,Ephraim,1880,M,18\\n1350,Fritz,1880,M,18\\n1351,Giles,1880,M,18\\n1352,Grover,1880,M,18\\n1353,Harris,1880,M,18\\n1354,Isom,1880,M,18\\n1355,Jesus,1880,M,18\\n1356,Johnie,1880,M,18\\n1357,Jonathan,1880,M,18\\n1358,Lucian,1880,M,18\\n1359,Malcolm,1880,M,18\\n1360,Merritt,1880,M,18\\n1361,Otho,1880,M,18\\n1362,Perley,1880,M,18\\n1363,Rolla,1880,M,18\\n1364,Sandy,1880,M,18\\n1365,Tomas,1880,M,18\\n1366,Wilford,1880,M,18\\n1367,Adolphus,1880,M,17\\n1368,Angus,1880,M,17\\n1369,Arther,1880,M,17\\n1370,Carlos,1880,M,17\\n1371,Cary,1880,M,17\\n1372,Cassius,1880,M,17\\n1373,Davis,1880,M,17\\n1374,Hamilton,1880,M,17\\n1375,Harve,1880,M,17\\n1376,Israel,1880,M,17\\n1377,Leander,1880,M,17\\n1378,Melville,1880,M,17\\n1379,Merle,1880,M,17\\n1380,Murray,1880,M,17\\n1381,Pleasant,1880,M,17\\n1382,Sterling,1880,M,17\\n1383,Steven,1880,M,17\\n1384,Axel,1880,M,16\\n1385,Boyd,1880,M,16\\n1386,Bryant,1880,M,16\\n1387,Clement,1880,M,16\\n1388,Erwin,1880,M,16\\n1389,Ezekiel,1880,M,16\\n1390,Foster,1880,M,16\\n1391,Frances,1880,M,16\\n1392,Geo,1880,M,16\\n1393,Houston,1880,M,16\\n1394,Issac,1880,M,16\\n1395,Jules,1880,M,16\\n1396,Larkin,1880,M,16\\n1397,Mat,1880,M,16\\n1398,Morton,1880,M,16\\n1399,Orlando,1880,M,16\\n1400,Pierce,1880,M,16\\n1401,Prince,1880,M,16\\n1402,Rollie,1880,M,16\\n1403,Rollin,1880,M,16\\n1404,Sim,1880,M,16\\n1405,Stuart,1880,M,16\\n1406,Wilburn,1880,M,16\\n1407,Bennett,1880,M,15\\n1408,Casper,1880,M,15\\n1409,Christ,1880,M,15\\n1410,Dell,1880,M,15\\n1411,Egbert,1880,M,15\\n1412,Elmo,1880,M,15\\n1413,Fay,1880,M,15\\n1414,Gabriel,1880,M,15\\n1415,Hector,1880,M,15\\n1416,Horatio,1880,M,15\\n1417,Lige,1880,M,15\\n1418,Saul,1880,M,15\\n1419,Smith,1880,M,15\\n1420,Squire,1880,M,15\\n1421,Tobe,1880,M,15\\n1422,Tommie,1880,M,15\\n1423,Wyatt,1880,M,15\\n1424,Alford,1880,M,14\\n1425,Alma,1880,M,14\\n1426,Alton,1880,M,14\\n1427,Andres,1880,M,14\\n1428,Burl,1880,M,14\\n1429,Cicero,1880,M,14\\n1430,Dean,1880,M,14\\n1431,Dorsey,1880,M,14\\n1432,Enos,1880,M,14\\n1433,Howell,1880,M,14\\n1434,Lou,1880,M,14\\n1435,Loyd,1880,M,14\\n1436,Mahlon,1880,M,14\\n1437,Nat,1880,M,14\\n1438,Omar,1880,M,14\\n1439,Oran,1880,M,14\\n1440,Parker,1880,M,14\\n1441,Raleigh,1880,M,14\\n1442,Reginald,1880,M,14\\n1443,Rubin,1880,M,14\\n1444,Seymour,1880,M,14\\n1445,Wm,1880,M,14\\n1446,Young,1880,M,14\\n1447,Benjamine,1880,M,13\\n1448,Carey,1880,M,13\\n1449,Carlton,1880,M,13\\n1450,Eldridge,1880,M,13\\n1451,Elzie,1880,M,13\\n1452,Garrett,1880,M,13\\n1453,Isham,1880,M,13\\n1454,Johnson,1880,M,13\\n1455,Larry,1880,M,13\\n1456,Logan,1880,M,13\\n1457,Merrill,1880,M,13\\n1458,Mont,1880,M,13\\n1459,Oren,1880,M,13\\n1460,Pierre,1880,M,13\\n1461,Rex,1880,M,13\\n1462,Rodney,1880,M,13\\n1463,Ted,1880,M,13\\n1464,Webster,1880,M,13\\n1465,West,1880,M,13\\n1466,Wheeler,1880,M,13\\n1467,Willam,1880,M,13\\n1468,Al,1880,M,12\\n1469,Aloysius,1880,M,12\\n1470,Alvie,1880,M,12\\n1471,Anna,1880,M,12\\n1472,Art,1880,M,12\\n1473,Augustine,1880,M,12\\n1474,Bailey,1880,M,12\\n1475,Benjaman,1880,M,12\\n1476,Beverly,1880,M,12\\n1477,Bishop,1880,M,12\\n1478,Clair,1880,M,12\\n1479,Cloyd,1880,M,12\\n1480,Coleman,1880,M,12\\n1481,Dana,1880,M,12\\n1482,Duncan,1880,M,12\\n1483,Dwight,1880,M,12\\n1484,Emile,1880,M,12\\n1485,Evert,1880,M,12\\n1486,Henderson,1880,M,12\\n1487,Hunter,1880,M,12\\n1488,Jean,1880,M,12\\n1489,Lem,1880,M,12\\n1490,Luis,1880,M,12\\n1491,Mathias,1880,M,12\\n1492,Maynard,1880,M,12\\n1493,Miguel,1880,M,12\\n1494,Mortimer,1880,M,12\\n1495,Nels,1880,M,12\\n1496,Norris,1880,M,12\\n1497,Pat,1880,M,12\\n1498,Phil,1880,M,12\\n1499,Rush,1880,M,12\\n1500,Santiago,1880,M,12\\n1501,Sol,1880,M,12\\n1502,Sydney,1880,M,12\\n1503,Thaddeus,1880,M,12\\n1504,Thornton,1880,M,12\\n1505,Tim,1880,M,12\\n1506,Travis,1880,M,12\\n1507,Truman,1880,M,12\\n1508,Watson,1880,M,12\\n1509,Webb,1880,M,12\\n1510,Wellington,1880,M,12\\n1511,Winfred,1880,M,12\\n1512,Wylie,1880,M,12\\n1513,Alec,1880,M,11\\n1514,Basil,1880,M,11\\n1515,Baxter,1880,M,11\\n1516,Bertrand,1880,M,11\\n1517,Buford,1880,M,11\\n1518,Burr,1880,M,11\\n1519,Cleveland,1880,M,11\\n1520,Colonel,1880,M,11\\n1521,Dempsey,1880,M,11\\n1522,Early,1880,M,11\\n1523,Ellsworth,1880,M,11\\n1524,Fate,1880,M,11\\n1525,Finley,1880,M,11\\n1526,Gabe,1880,M,11\\n1527,Garland,1880,M,11\\n1528,Gerald,1880,M,11\\n1529,Herschel,1880,M,11\\n1530,Hezekiah,1880,M,11\\n1531,Justus,1880,M,11\\n1532,Lindsey,1880,M,11\\n1533,Marcellus,1880,M,11\\n1534,Olaf,1880,M,11\\n1535,Olin,1880,M,11\\n1536,Pablo,1880,M,11\\n1537,Rolland,1880,M,11\\n1538,Turner,1880,M,11\\n1539,Verne,1880,M,11\\n1540,Volney,1880,M,11\\n1541,Williams,1880,M,11\\n1542,Almon,1880,M,10\\n1543,Alois,1880,M,10\\n1544,Alonza,1880,M,10\\n1545,Anson,1880,M,10\\n1546,Authur,1880,M,10\\n1547,Benton,1880,M,10\\n1548,Billie,1880,M,10\\n1549,Cornelious,1880,M,10\\n1550,Darius,1880,M,10\\n1551,Denis,1880,M,10\\n1552,Dillard,1880,M,10\\n1553,Doctor,1880,M,10\\n1554,Elvin,1880,M,10\\n1555,Emma,1880,M,10\\n1556,Eric,1880,M,10\\n1557,Evans,1880,M,10\\n1558,Gideon,1880,M,10\\n1559,Haywood,1880,M,10\\n1560,Hilliard,1880,M,10\\n1561,Hosea,1880,M,10\\n1562,Lincoln,1880,M,10\\n1563,Lonzo,1880,M,10\\n1564,Lucious,1880,M,10\\n1565,Lum,1880,M,10\\n1566,Malachi,1880,M,10\\n1567,Newt,1880,M,10\\n1568,Noel,1880,M,10\\n1569,Orie,1880,M,10\\n1570,Palmer,1880,M,10\\n1571,Pinkney,1880,M,10\\n1572,Shirley,1880,M,10\\n1573,Sumner,1880,M,10\\n1574,Terry,1880,M,10\\n1575,Urban,1880,M,10\\n1576,Uriah,1880,M,10\\n1577,Valentine,1880,M,10\\n1578,Waldo,1880,M,10\\n1579,Warner,1880,M,10\\n1580,Wong,1880,M,10\\n1581,Zeb,1880,M,10\\n1582,Abel,1880,M,9\\n1583,Alden,1880,M,9\\n1584,Archer,1880,M,9\\n1585,Avery,1880,M,9\\n1586,Carson,1880,M,9\\n1587,Cullen,1880,M,9\\n1588,Doc,1880,M,9\\n1589,Eben,1880,M,9\\n1590,Elige,1880,M,9\\n1591,Elizabeth,1880,M,9\\n1592,Elmore,1880,M,9\\n1593,Ernst,1880,M,9\\n1594,Finis,1880,M,9\\n1595,Freddie,1880,M,9\\n1596,Godfrey,1880,M,9\\n1597,Guss,1880,M,9\\n1598,Hamp,1880,M,9\\n1599,Hermann,1880,M,9\\n1600,Isadore,1880,M,9\\n1601,Isreal,1880,M,9\\n1602,Jones,1880,M,9\\n1603,June,1880,M,9\\n1604,Lacy,1880,M,9\\n1605,Lafe,1880,M,9\\n1606,Leland,1880,M,9\\n1607,Llewellyn,1880,M,9\\n1608,Ludwig,1880,M,9\\n1609,Manford,1880,M,9\\n1610,Maxwell,1880,M,9\\n1611,Minnie,1880,M,9\\n1612,Obie,1880,M,9\\n1613,Octave,1880,M,9\\n1614,Orrin,1880,M,9\\n1615,Ossie,1880,M,9\\n1616,Oswald,1880,M,9\\n1617,Park,1880,M,9\\n1618,Parley,1880,M,9\\n1619,Ramon,1880,M,9\\n1620,Rice,1880,M,9\\n1621,Stonewall,1880,M,9\\n1622,Theo,1880,M,9\\n1623,Tillman,1880,M,9\\n1624,Addie,1880,M,8\\n1625,Aron,1880,M,8\\n1626,Ashley,1880,M,8\\n1627,Bernhard,1880,M,8\\n1628,Bertie,1880,M,8\\n1629,Berton,1880,M,8\\n1630,Buster,1880,M,8\\n1631,Butler,1880,M,8\\n1632,Carleton,1880,M,8\\n1633,Carrie,1880,M,8\\n1634,Clara,1880,M,8\\n1635,Clarance,1880,M,8\\n1636,Clare,1880,M,8\\n1637,Crawford,1880,M,8\\n1638,Danial,1880,M,8\\n1639,Dayton,1880,M,8\\n1640,Dolphus,1880,M,8\\n1641,Elder,1880,M,8\\n1642,Ephriam,1880,M,8\\n1643,Fayette,1880,M,8\\n1644,Felipe,1880,M,8\\n1645,Fernando,1880,M,8\\n1646,Flem,1880,M,8\\n1647,Florence,1880,M,8\\n1648,Ford,1880,M,8\\n1649,Harlan,1880,M,8\\n1650,Hayes,1880,M,8\\n1651,Henery,1880,M,8\\n1652,Hoy,1880,M,8\\n1653,Huston,1880,M,8\\n1654,Ida,1880,M,8\\n1655,Ivory,1880,M,8\\n1656,Jonah,1880,M,8\\n1657,Justin,1880,M,8\\n1658,Lenard,1880,M,8\\n1659,Leopold,1880,M,8\\n1660,Lionel,1880,M,8\\n1661,Manley,1880,M,8\\n1662,Marquis,1880,M,8\\n1663,Marshal,1880,M,8\\n1664,Mart,1880,M,8\\n1665,Odie,1880,M,8\\n1666,Olen,1880,M,8\\n1667,Oral,1880,M,8\\n1668,Orley,1880,M,8\\n1669,Otha,1880,M,8\\n1670,Press,1880,M,8\\n1671,Price,1880,M,8\\n1672,Quincy,1880,M,8\\n1673,Randall,1880,M,8\\n1674,Rich,1880,M,8\\n1675,Richmond,1880,M,8\\n1676,Romeo,1880,M,8\\n1677,Russel,1880,M,8\\n1678,Rutherford,1880,M,8\\n1679,Shade,1880,M,8\\n1680,Shelby,1880,M,8\\n1681,Solon,1880,M,8\\n1682,Thurman,1880,M,8\\n1683,Tilden,1880,M,8\\n1684,Troy,1880,M,8\\n1685,Woodson,1880,M,8\\n1686,Worth,1880,M,8\\n1687,Aden,1880,M,7\\n1688,Alcide,1880,M,7\\n1689,Alf,1880,M,7\\n1690,Algie,1880,M,7\\n1691,Arlie,1880,M,7\\n1692,Bart,1880,M,7\\n1693,Bedford,1880,M,7\\n1694,Benito,1880,M,7\\n1695,Billy,1880,M,7\\n1696,Bird,1880,M,7\\n1697,Birt,1880,M,7\\n1698,Bruno,1880,M,7\\n1699,Burley,1880,M,7\\n1700,Chancy,1880,M,7\\n1701,Claus,1880,M,7\\n1702,Cliff,1880,M,7\\n1703,Clovis,1880,M,7\\n1704,Connie,1880,M,7\\n1705,Creed,1880,M,7\\n1706,Delos,1880,M,7\\n1707,Duke,1880,M,7\\n1708,Eber,1880,M,7\\n1709,Eligah,1880,M,7\\n1710,Elliot,1880,M,7\\n1711,Elton,1880,M,7\\n1712,Emmitt,1880,M,7\\n1713,Gene,1880,M,7\\n1714,Golden,1880,M,7\\n1715,Hal,1880,M,7\\n1716,Hardin,1880,M,7\\n1717,Harman,1880,M,7\\n1718,Hervey,1880,M,7\\n1719,Hollis,1880,M,7\\n1720,Ivey,1880,M,7\\n1721,Jennie,1880,M,7\\n1722,Len,1880,M,7\\n1723,Lindsay,1880,M,7\\n1724,Lonie,1880,M,7\\n1725,Lyle,1880,M,7\\n1726,Mac,1880,M,7\\n1727,Mal,1880,M,7\\n1728,Math,1880,M,7\\n1729,Miller,1880,M,7\\n1730,Orson,1880,M,7\\n1731,Osborne,1880,M,7\\n1732,Percival,1880,M,7\\n1733,Pleas,1880,M,7\\n1734,Ples,1880,M,7\\n1735,Rafael,1880,M,7\\n1736,Raoul,1880,M,7\\n1737,Roderick,1880,M,7\\n1738,Rose,1880,M,7\\n1739,Shelton,1880,M,7\\n1740,Sid,1880,M,7\\n1741,Theron,1880,M,7\\n1742,Tobias,1880,M,7\\n1743,Toney,1880,M,7\\n1744,Tyler,1880,M,7\\n1745,Vance,1880,M,7\\n1746,Vivian,1880,M,7\\n1747,Walton,1880,M,7\\n1748,Watt,1880,M,7\\n1749,Weaver,1880,M,7\\n1750,Wilton,1880,M,7\\n1751,Adolf,1880,M,6\\n1752,Albin,1880,M,6\\n1753,Albion,1880,M,6\\n1754,Allison,1880,M,6\\n1755,Alpha,1880,M,6\\n1756,Alpheus,1880,M,6\\n1757,Anastacio,1880,M,6\\n1758,Andre,1880,M,6\\n1759,Annie,1880,M,6\\n1760,Arlington,1880,M,6\\n1761,Armand,1880,M,6\\n1762,Asberry,1880,M,6\\n1763,Asbury,1880,M,6\\n1764,Asher,1880,M,6\\n1765,Augustin,1880,M,6\\n1766,Auther,1880,M,6\\n1767,Author,1880,M,6\\n1768,Ballard,1880,M,6\\n1769,Blas,1880,M,6\\n1770,Caesar,1880,M,6\\n1771,Candido,1880,M,6\\n1772,Cato,1880,M,6\\n1773,Clarke,1880,M,6\\n1774,Clemente,1880,M,6\\n1775,Colin,1880,M,6\\n1776,Commodore,1880,M,6\\n1777,Cora,1880,M,6\\n1778,Coy,1880,M,6\\n1779,Cruz,1880,M,6\\n1780,Curt,1880,M,6\\n1781,Damon,1880,M,6\\n1782,Davie,1880,M,6\\n1783,Delmar,1880,M,6\\n1784,Dexter,1880,M,6\\n1785,Dora,1880,M,6\\n1786,Doss,1880,M,6\\n1787,Drew,1880,M,6\\n1788,Edson,1880,M,6\\n1789,Elam,1880,M,6\\n1790,Elihu,1880,M,6\\n1791,Eliza,1880,M,6\\n1792,Elsie,1880,M,6\\n1793,Erie,1880,M,6\\n1794,Ernie,1880,M,6\\n1795,Ethel,1880,M,6\\n1796,Ferd,1880,M,6\\n1797,Friend,1880,M,6\\n1798,Garry,1880,M,6\\n1799,Gary,1880,M,6\\n1800,Grace,1880,M,6\\n1801,Gustaf,1880,M,6\\n1802,Hallie,1880,M,6\\n1803,Hampton,1880,M,6\\n1804,Harrie,1880,M,6\\n1805,Hattie,1880,M,6\\n1806,Hence,1880,M,6\\n1807,Hillard,1880,M,6\\n1808,Hollie,1880,M,6\\n1809,Holmes,1880,M,6\\n1810,Hope,1880,M,6\\n1811,Hyman,1880,M,6\\n1812,Ishmael,1880,M,6\\n1813,Jarrett,1880,M,6\\n1814,Jessee,1880,M,6\\n1815,Joeseph,1880,M,6\\n1816,Junious,1880,M,6\\n1817,Kirk,1880,M,6\\n1818,Levy,1880,M,6\\n1819,Mervin,1880,M,6\\n1820,Michel,1880,M,6\\n1821,Milford,1880,M,6\\n1822,Mitchel,1880,M,6\\n1823,Nellie,1880,M,6\\n1824,Noble,1880,M,6\\n1825,Obed,1880,M,6\\n1826,Oda,1880,M,6\\n1827,Orren,1880,M,6\\n1828,Ottis,1880,M,6\\n1829,Rafe,1880,M,6\\n1830,Redden,1880,M,6\\n1831,Reese,1880,M,6\\n1832,Rube,1880,M,6\\n1833,Ruby,1880,M,6\\n1834,Rupert,1880,M,6\\n1835,Salomon,1880,M,6\\n1836,Sammie,1880,M,6\\n1837,Sanders,1880,M,6\\n1838,Soloman,1880,M,6\\n1839,Stacy,1880,M,6\\n1840,Stanford,1880,M,6\\n1841,Stanton,1880,M,6\\n1842,Thad,1880,M,6\\n1843,Titus,1880,M,6\\n1844,Tracy,1880,M,6\\n1845,Vernie,1880,M,6\\n1846,Wendell,1880,M,6\\n1847,Wilhelm,1880,M,6\\n1848,Willian,1880,M,6\\n1849,Yee,1880,M,6\\n1850,Zeke,1880,M,6\\n1851,Ab,1880,M,5\\n1852,Abbott,1880,M,5\\n1853,Agustus,1880,M,5\\n1854,Albertus,1880,M,5\\n1855,Almer,1880,M,5\\n1856,Alphonso,1880,M,5\\n1857,Alvia,1880,M,5\\n1858,Artie,1880,M,5\\n1859,Arvid,1880,M,5\\n1860,Ashby,1880,M,5\\n1861,Augusta,1880,M,5\\n1862,Aurthur,1880,M,5\\n1863,Babe,1880,M,5\\n1864,Baldwin,1880,M,5\\n1865,Barnett,1880,M,5\\n1866,Bartholomew,1880,M,5\\n1867,Barton,1880,M,5\\n1868,Bernie,1880,M,5\\n1869,Blaine,1880,M,5\\n1870,Boston,1880,M,5\\n1871,Brad,1880,M,5\\n1872,Bradford,1880,M,5\\n1873,Bradley,1880,M,5\\n1874,Brooks,1880,M,5\\n1875,Buck,1880,M,5\\n1876,Budd,1880,M,5\\n1877,Ceylon,1880,M,5\\n1878,Chalmers,1880,M,5\\n1879,Chesley,1880,M,5\\n1880,Chin,1880,M,5\\n1881,Cleo,1880,M,5\\n1882,Crockett,1880,M,5\\n1883,Cyril,1880,M,5\\n1884,Daisy,1880,M,5\\n1885,Denver,1880,M,5\\n1886,Dow,1880,M,5\\n1887,Duff,1880,M,5\\n1888,Edie,1880,M,5\\n1889,Edith,1880,M,5\\n1890,Elick,1880,M,5\\n1891,Elie,1880,M,5\\n1892,Eliga,1880,M,5\\n1893,Eliseo,1880,M,5\\n1894,Elroy,1880,M,5\\n1895,Ely,1880,M,5\\n1896,Ennis,1880,M,5\\n1897,Enrique,1880,M,5\\n1898,Erasmus,1880,M,5\\n1899,Esau,1880,M,5\\n1900,Everette,1880,M,5\\n1901,Firman,1880,M,5\\n1902,Fleming,1880,M,5\\n1903,Flora,1880,M,5\\n1904,Gardner,1880,M,5\\n1905,Gee,1880,M,5\\n1906,Gorge,1880,M,5\\n1907,Gottlieb,1880,M,5\\n1908,Gregorio,1880,M,5\\n1909,Gregory,1880,M,5\\n1910,Gustavus,1880,M,5\\n1911,Halsey,1880,M,5\\n1912,Handy,1880,M,5\\n1913,Hardie,1880,M,5\\n1914,Harl,1880,M,5\\n1915,Hayden,1880,M,5\\n1916,Hays,1880,M,5\\n1917,Hermon,1880,M,5\\n1918,Hershel,1880,M,5\\n1919,Holly,1880,M,5\\n1920,Hosteen,1880,M,5\\n1921,Hoyt,1880,M,5\\n1922,Hudson,1880,M,5\\n1923,Huey,1880,M,5\\n1924,Humphrey,1880,M,5\\n1925,Hunt,1880,M,5\\n1926,Hyrum,1880,M,5\\n1927,Irven,1880,M,5\\n1928,Isam,1880,M,5\\n1929,Ivy,1880,M,5\\n1930,Jabez,1880,M,5\\n1931,Jewel,1880,M,5\\n1932,Jodie,1880,M,5\\n1933,Judd,1880,M,5\\n1934,Julious,1880,M,5\\n1935,Justice,1880,M,5\\n1936,Katherine,1880,M,5\\n1937,Kelly,1880,M,5\\n1938,Kit,1880,M,5\\n1939,Knute,1880,M,5\\n1940,Lavern,1880,M,5\\n1941,Lawyer,1880,M,5\\n1942,Layton,1880,M,5\\n1943,Leonidas,1880,M,5\\n1944,Lewie,1880,M,5\\n1945,Lillie,1880,M,5\\n1946,Linwood,1880,M,5\\n1947,Loran,1880,M,5\\n1948,Lorin,1880,M,5\\n1949,Mace,1880,M,5\\n1950,Malcom,1880,M,5\\n1951,Manly,1880,M,5\\n1952,Manson,1880,M,5\\n1953,Matthias,1880,M,5\\n1954,Mattie,1880,M,5\\n1955,Merida,1880,M,5\\n1956,Miner,1880,M,5\\n1957,Montgomery,1880,M,5\\n1958,Moroni,1880,M,5\\n1959,Murdock,1880,M,5\\n1960,Myrtle,1880,M,5\\n1961,Nate,1880,M,5\\n1962,Nathanial,1880,M,5\\n1963,Nimrod,1880,M,5\\n1964,Nora,1880,M,5\\n1965,Norval,1880,M,5\\n1966,Nova,1880,M,5\\n1967,Orion,1880,M,5\\n1968,Orla,1880,M,5\\n1969,Orrie,1880,M,5\\n1970,Payton,1880,M,5\\n1971,Philo,1880,M,5\\n1972,Phineas,1880,M,5\\n1973,Presley,1880,M,5\\n1974,Ransom,1880,M,5\\n1975,Reece,1880,M,5\\n1976,Rene,1880,M,5\\n1977,Roswell,1880,M,5\\n1978,Rowland,1880,M,5\\n1979,Sampson,1880,M,5\\n1980,Samual,1880,M,5\\n1981,Santos,1880,M,5\\n1982,Schuyler,1880,M,5\\n1983,Sheppard,1880,M,5\\n1984,Spurgeon,1880,M,5\\n1985,Starling,1880,M,5\\n1986,Sylvanus,1880,M,5\\n1987,Theadore,1880,M,5\\n1988,Theophile,1880,M,5\\n1989,Tilmon,1880,M,5\\n1990,Tommy,1880,M,5\\n1991,Unknown,1880,M,5\\n1992,Vann,1880,M,5\\n1993,Wes,1880,M,5\\n1994,Winston,1880,M,5\\n1995,Wood,1880,M,5\\n1996,Woodie,1880,M,5\\n1997,Worthy,1880,M,5\\n1998,Wright,1880,M,5\\n1999,York,1880,M,5\\n2000,Zachariah,1880,M,5\\n2001,Mary,1881,F,6919\\n2002,Anna,1881,F,2698\\n2003,Emma,1881,F,2034\\n2004,Elizabeth,1881,F,1852\\n2005,Margaret,1881,F,1658\\n2006,Minnie,1881,F,1653\\n2007,Ida,1881,F,1439\\n2008,Annie,1881,F,1326\\n2009,Bertha,1881,F,1324\\n2010,Alice,1881,F,1308\\n2011,Clara,1881,F,1242\\n2012,Sarah,1881,F,1226\\n2013,Ella,1881,F,1148\\n2014,Nellie,1881,F,1096\\n2015,Grace,1881,F,1089\\n2016,Florence,1881,F,1046\\n2017,Martha,1881,F,1044\\n2018,Cora,1881,F,969\\n2019,Laura,1881,F,962\\n2020,Carrie,1881,F,958\\n2021,Maude,1881,F,923\\n2022,Bessie,1881,F,903\\n2023,Mabel,1881,F,893\\n2024,Gertrude,1881,F,791\\n2025,Ethel,1881,F,788\\n2026,Jennie,1881,F,784\\n2027,Edith,1881,F,778\\n2028,Hattie,1881,F,775\\n2029,Mattie,1881,F,754\\n2030,Julia,1881,F,737\\n2031,Rose,1881,F,734\\n2032,Lillian,1881,F,723\\n2033,Lillie,1881,F,678\\n2034,Eva,1881,F,661\\n2035,Jessie,1881,F,661\\n2036,Lula,1881,F,655\\n2037,Myrtle,1881,F,643\\n2038,Pearl,1881,F,641\\n2039,Edna,1881,F,637\\n2040,Catherine,1881,F,635\\n2041,Ada,1881,F,628\\n2042,Louise,1881,F,617\\n2043,Helen,1881,F,612\\n2044,Lucy,1881,F,611\\n2045,Frances,1881,F,586\\n2046,Dora,1881,F,585\\n2047,Fannie,1881,F,565\\n2048,Josephine,1881,F,563\\n2049,Daisy,1881,F,562\\n2050,Lena,1881,F,555\\n2051,Maggie,1881,F,532\\n2052,Katherine,1881,F,504\\n2053,Rosa,1881,F,500\\n2054,Marie,1881,F,499\\n2055,Nora,1881,F,498\\n2056,Effie,1881,F,463\\n2057,Blanche,1881,F,456\\n2058,May,1881,F,451\\n2059,Nancy,1881,F,429\\n2060,Della,1881,F,428\\n2061,Agnes,1881,F,424\\n2062,Nettie,1881,F,419\\n2063,Sallie,1881,F,416\\n2064,Stella,1881,F,416\\n2065,Ellen,1881,F,413\\n2066,Mamie,1881,F,412\\n2067,Lizzie,1881,F,396\\n2068,Susie,1881,F,367\\n2069,Sadie,1881,F,366\\n2070,Elsie,1881,F,344\\n2071,Maud,1881,F,328\\n2072,Flora,1881,F,317\\n2073,Caroline,1881,F,316\\n2074,Etta,1881,F,316\\n2075,Mae,1881,F,314\\n2076,Lulu,1881,F,313\\n2077,Lydia,1881,F,299\\n2078,Alma,1881,F,293\\n2079,Susan,1881,F,292\\n2080,Lottie,1881,F,289\\n2081,Addie,1881,F,287\\n2082,Mollie,1881,F,281\\n2083,Katie,1881,F,279\\n2084,Ruth,1881,F,275\\n2085,Harriet,1881,F,270\\n2086,Kate,1881,F,267\\n2087,Amanda,1881,F,263\\n2088,Nannie,1881,F,258\\n2089,Georgia,1881,F,256\\n2090,Emily,1881,F,244\\n2091,Eliza,1881,F,238\\n2092,Viola,1881,F,237\\n2093,Amelia,1881,F,235\\n2094,Willie,1881,F,229\\n2095,Charlotte,1881,F,227\\n2096,Rebecca,1881,F,226\\n2097,Belle,1881,F,219\\n2098,Kathryn,1881,F,218\\n2099,Jane,1881,F,216\\n2100,Olive,1881,F,211\\n2101,Virginia,1881,F,210\\n2102,Irene,1881,F,206\\n2103,Hannah,1881,F,196\\n2104,Ora,1881,F,191\\n2105,Esther,1881,F,189\\n2106,Matilda,1881,F,187\\n2107,Henrietta,1881,F,181\\n2108,Theresa,1881,F,173\\n2109,Ollie,1881,F,169\\n2110,Pauline,1881,F,166\\n2111,Estella,1881,F,163\\n2112,Beulah,1881,F,162\\n2113,Augusta,1881,F,157\\n2114,Rachel,1881,F,157\\n2115,Mildred,1881,F,154\\n2116,Josie,1881,F,149\\n2117,Sara,1881,F,147\\n2118,Amy,1881,F,145\\n2119,Louisa,1881,F,142\\n2120,Luella,1881,F,141\\n2121,Leona,1881,F,138\\n2122,Anne,1881,F,131\\n2123,Ann,1881,F,130\\n2124,Barbara,1881,F,130\\n2125,Lola,1881,F,129\\n2126,Estelle,1881,F,127\\n2127,Lela,1881,F,125\\n2128,Millie,1881,F,124\\n2129,Nina,1881,F,123\\n2130,Iva,1881,F,122\\n2131,Sophia,1881,F,122\\n2132,Maria,1881,F,120\\n2133,Ruby,1881,F,119\\n2134,Victoria,1881,F,117\\n2135,Evelyn,1881,F,116\\n2136,Mayme,1881,F,115\\n2137,Alta,1881,F,114\\n2138,Lou,1881,F,114\\n2139,Janie,1881,F,113\\n2140,Betty,1881,F,112\\n2141,Delia,1881,F,111\\n2142,Eleanor,1881,F,110\\n2143,Marion,1881,F,110\\n2144,Dorothy,1881,F,109\\n2145,Ina,1881,F,108\\n2146,Celia,1881,F,107\\n2147,Callie,1881,F,104\\n2148,Bettie,1881,F,103\\n2149,Allie,1881,F,98\\n2150,Inez,1881,F,95\\n2151,Dollie,1881,F,90\\n2152,Ola,1881,F,90\\n2153,Lucinda,1881,F,88\\n2154,Mable,1881,F,88\\n2155,Rena,1881,F,88\\n2156,Beatrice,1881,F,87\\n2157,Harriett,1881,F,86\\n2158,Rosie,1881,F,85\\n2159,Birdie,1881,F,84\\n2160,Eula,1881,F,84\\n2161,Rhoda,1881,F,84\\n2162,Winnie,1881,F,84\\n2163,Christina,1881,F,82\\n2164,Isabelle,1881,F,82\\n2165,Tillie,1881,F,82\\n2166,Abbie,1881,F,81\\n2167,Winifred,1881,F,81\\n2168,Essie,1881,F,80\\n2169,Lora,1881,F,80\\n2170,Sally,1881,F,79\\n2171,Sophie,1881,F,78\\n2172,Eunice,1881,F,77\\n2173,Leila,1881,F,77\\n2174,Isabel,1881,F,76\\n2175,Nell,1881,F,75\\n2176,Lelia,1881,F,74\\n2177,Myra,1881,F,72\\n2178,Nelle,1881,F,72\\n2179,Roxie,1881,F,72\\n2180,Mathilda,1881,F,69\\n2181,Bertie,1881,F,68\\n2182,Katharine,1881,F,68\\n2183,Lenora,1881,F,68\\n2184,Lettie,1881,F,68\\n2185,Christine,1881,F,67\\n2186,Sue,1881,F,67\\n2187,Sylvia,1881,F,67\\n2188,Cornelia,1881,F,66\\n2189,Linnie,1881,F,65\\n2190,Alberta,1881,F,64\\n2191,Hettie,1881,F,64\\n2192,Adelaide,1881,F,62\\n2193,Mina,1881,F,62\\n2194,Helena,1881,F,61\\n2195,Carolyn,1881,F,60\\n2196,Adeline,1881,F,58\\n2197,Genevieve,1881,F,58\\n2198,Johanna,1881,F,58\\n2199,Loretta,1881,F,58\\n2200,Lida,1881,F,57\\n2201,Fanny,1881,F,55\\n2202,Hester,1881,F,55\\n2203,Lilly,1881,F,55\\n2204,Naomi,1881,F,55\\n2205,Lois,1881,F,53\\n2206,Minerva,1881,F,53\\n2207,Mittie,1881,F,53\\n2208,Bess,1881,F,52\\n2209,Claudia,1881,F,52\\n2210,Leah,1881,F,52\\n2211,Lucretia,1881,F,52\\n2212,Marguerite,1881,F,52\\n2213,Cecelia,1881,F,51\\n2214,Elva,1881,F,51\\n2215,Olivia,1881,F,51\\n2216,Gussie,1881,F,50\\n2217,Hazel,1881,F,50\\n2218,Isabella,1881,F,50\\n2219,Cordelia,1881,F,49\\n2220,Rosetta,1881,F,49\\n2221,Wilhelmina,1881,F,49\\n2222,Bernice,1881,F,48\\n2223,Hilda,1881,F,48\\n2224,Lucille,1881,F,48\\n2225,Polly,1881,F,48\\n2226,Vera,1881,F,48\\n2227,Cynthia,1881,F,47\\n2228,Elnora,1881,F,47\\n2229,Francis,1881,F,47\\n2230,Selma,1881,F,47\\n2231,Lily,1881,F,46\\n2232,Lura,1881,F,46\\n2233,Phoebe,1881,F,46\\n2234,Teresa,1881,F,46\\n2235,Angie,1881,F,44\\n2236,Hulda,1881,F,44\\n2237,Jean,1881,F,44\\n2238,Louella,1881,F,44\\n2239,Myrtie,1881,F,44\\n2240,Adele,1881,F,43\\n2241,Jeannette,1881,F,43\\n2242,Lyda,1881,F,43\\n2243,Virgie,1881,F,43\\n2244,Dessie,1881,F,42\\n2245,Lila,1881,F,42\\n2246,Violet,1881,F,42\\n2247,Elma,1881,F,41\\n2248,Madge,1881,F,41\\n2249,Regina,1881,F,41\\n2250,Roberta,1881,F,41\\n2251,Catharine,1881,F,40\\n2252,Eugenia,1881,F,40\\n2253,Gladys,1881,F,40\\n2254,Malinda,1881,F,40\\n2255,Mandy,1881,F,40\\n2256,Melissa,1881,F,40\\n2257,Cecilia,1881,F,39\\n2258,Goldie,1881,F,39\\n2259,Lee,1881,F,39\\n2260,Lina,1881,F,39\\n2261,Marian,1881,F,39\\n2262,Elvira,1881,F,38\\n2263,Emilie,1881,F,38\\n2264,Ivy,1881,F,38\\n2265,Linda,1881,F,38\\n2266,Nona,1881,F,38\\n2267,Zella,1881,F,38\\n2268,Hallie,1881,F,36\\n2269,Irma,1881,F,36\\n2270,Jeanette,1881,F,36\\n2271,Leola,1881,F,36\\n2272,Lucile,1881,F,36\\n2273,Geneva,1881,F,35\\n2274,Gertie,1881,F,35\\n2275,Bridget,1881,F,34\\n2276,Freda,1881,F,34\\n2277,Dolly,1881,F,33\\n2278,Molly,1881,F,33\\n2279,Georgie,1881,F,32\\n2280,Lilla,1881,F,32\\n2281,Margie,1881,F,32\\n2282,Nola,1881,F,32\\n2283,Dovie,1881,F,31\\n2284,Letha,1881,F,31\\n2285,Olga,1881,F,31\\n2286,George,1881,F,30\\n2287,Meta,1881,F,30\\n2288,Verna,1881,F,30\\n2289,William,1881,F,30\\n2290,Adah,1881,F,29\\n2291,Alvina,1881,F,29\\n2292,Antoinette,1881,F,29\\n2293,Bell,1881,F,29\\n2294,Janet,1881,F,29\\n2295,Mabelle,1881,F,29\\n2296,Mertie,1881,F,29\\n2297,Cassie,1881,F,28\\n2298,Erma,1881,F,28\\n2299,Flossie,1881,F,28\\n2300,Louie,1881,F,28\\n2301,Alpha,1881,F,27\\n2302,Blanch,1881,F,27\\n2303,Ellie,1881,F,27\\n2304,Johnnie,1881,F,27\\n2305,Lona,1881,F,27\\n2306,Lorena,1881,F,27\\n2307,Miriam,1881,F,27\\n2308,Ophelia,1881,F,27\\n2309,Priscilla,1881,F,27\\n2310,Sudie,1881,F,27\\n2311,Zula,1881,F,27\\n2312,Annette,1881,F,26\\n2313,John,1881,F,26\\n2314,Norma,1881,F,26\\n2315,Rosalie,1881,F,26\\n2316,Vina,1881,F,26\\n2317,Bonnie,1881,F,25\\n2318,Corinne,1881,F,25\\n2319,Elisabeth,1881,F,25\\n2320,Elsa,1881,F,25\\n2321,Frieda,1881,F,25\\n2322,Juanita,1881,F,25\\n2323,Melvina,1881,F,25\\n2324,Tennie,1881,F,25\\n2325,Bella,1881,F,24\\n2326,Cecile,1881,F,24\\n2327,Dona,1881,F,24\\n2328,Frankie,1881,F,24\\n2329,Gracie,1881,F,24\\n2330,James,1881,F,24\\n2331,Kittie,1881,F,24\\n2332,Leota,1881,F,24\\n2333,Maudie,1881,F,24\\n2334,Orpha,1881,F,24\\n2335,Savannah,1881,F,24\\n2336,Vinnie,1881,F,24\\n2337,Vivian,1881,F,24\\n2338,Anita,1881,F,23\\n2339,Claire,1881,F,23\\n2340,Cleo,1881,F,23\\n2341,Dena,1881,F,23\\n2342,Eda,1881,F,23\\n2343,Leonora,1881,F,23\\n2344,Leora,1881,F,23\\n2345,Liza,1881,F,23\\n2346,Almeda,1881,F,22\\n2347,Artie,1881,F,22\\n2348,Charity,1881,F,22\\n2349,Elise,1881,F,22\\n2350,Georgianna,1881,F,22\\n2351,Harriette,1881,F,22\\n2352,Isabell,1881,F,22\\n2353,Jimmie,1881,F,22\\n2354,Julie,1881,F,22\\n2355,Kitty,1881,F,22\\n2356,Margret,1881,F,22\\n2357,Nan,1881,F,22\\n2358,Pearlie,1881,F,22\\n2359,Zoe,1881,F,22\\n2360,Adelia,1881,F,21\\n2361,Angeline,1881,F,21\\n2362,Dorothea,1881,F,21\\n2363,Ernestine,1881,F,21\\n2364,Joanna,1881,F,21\\n2365,Lennie,1881,F,21\\n2366,Leta,1881,F,21\\n2367,Lue,1881,F,21\\n2368,Marietta,1881,F,21\\n2369,Ona,1881,F,21\\n2370,Pearle,1881,F,21\\n2371,Rilla,1881,F,21\\n2372,Susanna,1881,F,21\\n2373,Zora,1881,F,21\\n2374,Adda,1881,F,20\\n2375,Clare,1881,F,20\\n2376,Georgiana,1881,F,20\\n2377,Helene,1881,F,20\\n2378,Ila,1881,F,20\\n2379,Libbie,1881,F,20\\n2380,Magdalena,1881,F,20\\n2381,Phebe,1881,F,20\\n2382,Rita,1881,F,20\\n2383,Vesta,1881,F,20\\n2384,Edythe,1881,F,19\\n2385,Kathrine,1881,F,19\\n2386,Letitia,1881,F,19\\n2387,Nella,1881,F,19\\n2388,Octavia,1881,F,19\\n2389,Oma,1881,F,19\\n2390,Tena,1881,F,19\\n2391,Tina,1881,F,19\\n2392,Velma,1881,F,19\\n2393,Adaline,1881,F,18\\n2394,Ava,1881,F,18\\n2395,Cathrine,1881,F,18\\n2396,Emmie,1881,F,18\\n2397,Ettie,1881,F,18\\n2398,Evie,1881,F,18\\n2399,Fay,1881,F,18\\n2400,Iona,1881,F,18\\n2401,Lavina,1881,F,18\\n2402,Lessie,1881,F,18\\n2403,Luna,1881,F,18\\n2404,Matie,1881,F,18\\n2405,Charles,1881,F,17\\n2406,Clyde,1881,F,17\\n2407,Elmira,1881,F,17\\n2408,Floy,1881,F,17\\n2409,Hanna,1881,F,17\\n2410,Hilma,1881,F,17\\n2411,Isa,1881,F,17\\n2412,Mellie,1881,F,17\\n2413,Missouri,1881,F,17\\n2414,Pinkie,1881,F,17\\n2415,Reba,1881,F,17\\n2416,Retta,1881,F,17\\n2417,Zelma,1881,F,17\\n2418,Adella,1881,F,16\\n2419,Alida,1881,F,16\\n2420,Cecil,1881,F,16\\n2421,Eugenie,1881,F,16\\n2422,India,1881,F,16\\n2423,June,1881,F,16\\n2424,Katheryn,1881,F,16\\n2425,Lilian,1881,F,16\\n2426,Lotta,1881,F,16\\n2427,Lucia,1881,F,16\\n2428,Lutie,1881,F,16\\n2429,Malissa,1881,F,16\\n2430,Maybelle,1881,F,16\\n2431,Sidney,1881,F,16\\n2432,Sophronia,1881,F,16\\n2433,Tilda,1881,F,16\\n2434,Albina,1881,F,15\\n2435,Arvilla,1881,F,15\\n2436,Aurelia,1881,F,15\\n2437,Donna,1881,F,15\\n2438,Inga,1881,F,15\\n2439,Jenny,1881,F,15\\n2440,Lauretta,1881,F,15\\n2441,Marjorie,1881,F,15\\n2442,Neva,1881,F,15\\n2443,Odessa,1881,F,15\\n2444,Pattie,1881,F,15\\n2445,Queen,1881,F,15\\n2446,Veronica,1881,F,15\\n2447,Adell,1881,F,14\\n2448,Berta,1881,F,14\\n2449,Celeste,1881,F,14\\n2450,Chloe,1881,F,14\\n2451,Constance,1881,F,14\\n2452,Deborah,1881,F,14\\n2453,Docia,1881,F,14\\n2454,Donnie,1881,F,14\\n2455,Eloise,1881,F,14\\n2456,Hortense,1881,F,14\\n2457,Imogene,1881,F,14\\n2458,Iola,1881,F,14\\n2459,Lavinia,1881,F,14\\n2460,Loula,1881,F,14\\n2461,Madeline,1881,F,14\\n2462,Magdalene,1881,F,14\\n2463,Mame,1881,F,14\\n2464,Manda,1881,F,14\\n2465,Mazie,1881,F,14\\n2466,Mona,1881,F,14\\n2467,Opal,1881,F,14\\n2468,Una,1881,F,14\\n2469,Vida,1881,F,14\\n2470,Alva,1881,F,13\\n2471,Annabelle,1881,F,13\\n2472,Antonia,1881,F,13\\n2473,Betsy,1881,F,13\\n2474,Florida,1881,F,13\\n2475,Henry,1881,F,13\\n2476,Idella,1881,F,13\\n2477,Kathleen,1881,F,13\\n2478,Lenna,1881,F,13\\n2479,Ludie,1881,F,13\\n2480,Mahala,1881,F,13\\n2481,Malvina,1881,F,13\\n2482,Marcia,1881,F,13\\n2483,Mariah,1881,F,13\\n2484,Myrta,1881,F,13\\n2485,Norah,1881,F,13\\n2486,Paralee,1881,F,13\\n2487,Serena,1881,F,13\\n2488,Sina,1881,F,13\\n2489,Tressie,1881,F,13\\n2490,Vernie,1881,F,13\\n2491,Camille,1881,F,12\\n2492,Connie,1881,F,12\\n2493,Dell,1881,F,12\\n2494,Faye,1881,F,12\\n2495,Magnolia,1881,F,12\\n2496,Minta,1881,F,12\\n2497,Natalie,1881,F,12\\n2498,Patsy,1881,F,12\\n2499,Permelia,1881,F,12\\n2500,Rosella,1881,F,12\\n2501,Samantha,1881,F,12\\n2502,Tessie,1881,F,12\\n2503,Aimee,1881,F,11\\n2504,Alda,1881,F,11\\n2505,Aline,1881,F,11\\n2506,Altha,1881,F,11\\n2507,Amalia,1881,F,11\\n2508,America,1881,F,11\\n2509,Anastasia,1881,F,11\\n2510,Annetta,1881,F,11\\n2511,Audrey,1881,F,11\\n2512,Camilla,1881,F,11\\n2513,Carol,1881,F,11\\n2514,Celina,1881,F,11\\n2515,Christena,1881,F,11\\n2516,Cordie,1881,F,11\\n2517,Easter,1881,F,11\\n2518,Eddie,1881,F,11\\n2519,Ethelyn,1881,F,11\\n2520,Geraldine,1881,F,11\\n2521,Jeanne,1881,F,11\\n2522,Kattie,1881,F,11\\n2523,Leatha,1881,F,11\\n2524,Leslie,1881,F,11\\n2525,Lonie,1881,F,11\\n2526,Lovina,1881,F,11\\n2527,Mathilde,1881,F,11\\n2528,Melinda,1881,F,11\\n2529,Mettie,1881,F,11\\n2530,Muriel,1881,F,11\\n2531,Ocie,1881,F,11\\n2532,Ottilie,1881,F,11\\n2533,Philomena,1881,F,11\\n2534,Ray,1881,F,11\\n2535,Sena,1881,F,11\\n2536,Thomas,1881,F,11\\n2537,Walter,1881,F,11\\n2538,Winona,1881,F,11\\n2539,Zadie,1881,F,11\\n2540,Agatha,1881,F,10\\n2541,Almira,1881,F,10\\n2542,Arrie,1881,F,10\\n2543,Aura,1881,F,10\\n2544,Carolina,1881,F,10\\n2545,Daisie,1881,F,10\\n2546,Delilah,1881,F,10\\n2547,Dixie,1881,F,10\\n2548,Dolores,1881,F,10\\n2549,Doris,1881,F,10\\n2550,Elta,1881,F,10\\n2551,Emelia,1881,F,10\\n2552,Eve,1881,F,10\\n2553,Eveline,1881,F,10\\n2554,Fern,1881,F,10\\n2555,Glenna,1881,F,10\\n2556,Grayce,1881,F,10\\n2557,Huldah,1881,F,10\\n2558,Ione,1881,F,10\\n2559,Joe,1881,F,10\\n2560,Joseph,1881,F,10\\n2561,Judith,1881,F,10\\n2562,Lelah,1881,F,10\\n2563,Lenore,1881,F,10\\n2564,Leone,1881,F,10\\n2565,Lucie,1881,F,10\\n2566,Mammie,1881,F,10\\n2567,Marcella,1881,F,10\\n2568,Maye,1881,F,10\\n2569,Metta,1881,F,10\\n2570,Minna,1881,F,10\\n2571,Mintie,1881,F,10\\n2572,Monica,1881,F,10\\n2573,Nanie,1881,F,10\\n2574,Petra,1881,F,10\\n2575,Rella,1881,F,10\\n2576,Rosalia,1881,F,10\\n2577,Vada,1881,F,10\\n2578,Vallie,1881,F,10\\n2579,Willa,1881,F,10\\n2580,Wilma,1881,F,10\\n2581,Zola,1881,F,10\\n2582,Amie,1881,F,9\\n2583,Ana,1881,F,9\\n2584,Angela,1881,F,9\\n2585,Becky,1881,F,9\\n2586,Bennie,1881,F,9\\n2587,Claude,1881,F,9\\n2588,Corrie,1881,F,9\\n2589,Corrine,1881,F,9\\n2590,Delphine,1881,F,9\\n2591,Doshia,1881,F,9\\n2592,Elvie,1881,F,9\\n2593,Elvina,1881,F,9\\n2594,Era,1881,F,9\\n2595,Evelina,1881,F,9\\n2596,Frank,1881,F,9\\n2597,Fred,1881,F,9\\n2598,Frona,1881,F,9\\n2599,Genie,1881,F,9\\n2600,Glennie,1881,F,9\\n2601,Honora,1881,F,9\\n2602,Janette,1881,F,9\\n2603,Jannie,1881,F,9\\n2604,Juliet,1881,F,9\\n2605,Juliette,1881,F,9\\n2606,Kizzie,1881,F,9\\n2607,Lovie,1881,F,9\\n2608,Mallie,1881,F,9\\n2609,Mannie,1881,F,9\\n2610,Margaretta,1881,F,9\\n2611,Mercy,1881,F,9\\n2612,Miranda,1881,F,9\\n2613,Nana,1881,F,9\\n2614,Oda,1881,F,9\\n2615,Osa,1881,F,9\\n2616,Paula,1881,F,9\\n2617,Prudence,1881,F,9\\n2618,Robert,1881,F,9\\n2619,Selina,1881,F,9\\n2620,Sibyl,1881,F,9\\n2621,Zilpah,1881,F,9\\n2622,Zona,1881,F,9\\n2623,Abigail,1881,F,8\\n2624,Almedia,1881,F,8\\n2625,Althea,1881,F,8\\n2626,Angelina,1881,F,8\\n2627,Anner,1881,F,8\\n2628,Ara,1881,F,8\\n2629,Berdie,1881,F,8\\n2630,Beryl,1881,F,8\\n2631,Besse,1881,F,8\\n2632,Byrdie,1881,F,8\\n2633,Calla,1881,F,8\\n2634,Carlotta,1881,F,8\\n2635,Claribel,1881,F,8\\n2636,Clarice,1881,F,8\\n2637,Clemmie,1881,F,8\\n2638,Clifford,1881,F,8\\n2639,Coral,1881,F,8\\n2640,Dillie,1881,F,8\\n2641,Edwina,1881,F,8\\n2642,Elinor,1881,F,8\\n2643,Elizebeth,1881,F,8\\n2644,Emmer,1881,F,8\\n2645,Esta,1881,F,8\\n2646,Exie,1881,F,8\\n2647,Felicia,1881,F,8\\n2648,Ira,1881,F,8\\n2649,Iris,1881,F,8\\n2650,Jettie,1881,F,8\\n2651,Juana,1881,F,8\\n2652,Justine,1881,F,8\\n2653,Leanna,1881,F,8\\n2654,Leonie,1881,F,8\\n2655,Louvenia,1881,F,8\\n2656,Malissie,1881,F,8\\n2657,Manie,1881,F,8\\n2658,Margery,1881,F,8\\n2659,Maymie,1881,F,8\\n2660,Meda,1881,F,8\\n2661,Myrtice,1881,F,8\\n2662,Narcissus,1881,F,8\\n2663,Nonie,1881,F,8\\n2664,Onie,1881,F,8\\n2665,Pansy,1881,F,8\\n2666,Paulina,1881,F,8\\n2667,Rachael,1881,F,8\\n2668,Rosamond,1881,F,8\\n2669,Rosanna,1881,F,8\\n2670,Theo,1881,F,8\\n2671,Theresia,1881,F,8\\n2672,Tommie,1881,F,8\\n2673,Valeria,1881,F,8\\n2674,Vessie,1881,F,8\\n2675,Victorine,1881,F,8\\n2676,Wilhelmine,1881,F,8\\n2677,Winnifred,1881,F,8\\n2678,Zada,1881,F,8\\n2679,Abby,1881,F,7\\n2680,Adela,1881,F,7\\n2681,Alfreda,1881,F,7\\n2682,Alicia,1881,F,7\\n2683,Alla,1881,F,7\\n2684,Arabella,1881,F,7\\n2685,Ardella,1881,F,7\\n2686,Arminda,1881,F,7\\n2687,Arminta,1881,F,7\\n2688,Audie,1881,F,7\\n2689,Cammie,1881,F,7\\n2690,Carmen,1881,F,7\\n2691,Claudie,1881,F,7\\n2692,Cordia,1881,F,7\\n2693,Delila,1881,F,7\\n2694,Dessa,1881,F,7\\n2695,Diana,1881,F,7\\n2696,Dicie,1881,F,7\\n2697,Dottie,1881,F,7\\n2698,Dove,1881,F,7\\n2699,Drucilla,1881,F,7\\n2700,Edyth,1881,F,7\\n2701,Effa,1881,F,7\\n2702,Eleanora,1881,F,7\\n2703,Emilia,1881,F,7\\n2704,Etha,1881,F,7\\n2705,Ethyl,1881,F,7\\n2706,Etna,1881,F,7\\n2707,Eulalia,1881,F,7\\n2708,Flo,1881,F,7\\n2709,Fredericka,1881,F,7\\n2710,Gloria,1881,F,7\\n2711,Gusta,1881,F,7\\n2712,Hessie,1881,F,7\\n2713,Hope,1881,F,7\\n2714,Icie,1881,F,7\\n2715,Jessica,1881,F,7\\n2716,Lea,1881,F,7\\n2717,Letta,1881,F,7\\n2718,Liddie,1881,F,7\\n2719,Lillia,1881,F,7\\n2720,Lota,1881,F,7\\n2721,Lulie,1881,F,7\\n2722,Madie,1881,F,7\\n2723,Manuela,1881,F,7\\n2724,Margarita,1881,F,7\\n2725,Nathalie,1881,F,7\\n2726,Nevada,1881,F,7\\n2727,Nita,1881,F,7\\n2728,Ota,1881,F,7\\n2729,Parthenia,1881,F,7\\n2730,Queenie,1881,F,7\\n2731,Rae,1881,F,7\\n2732,Ramona,1881,F,7\\n2733,Rosina,1881,F,7\\n2734,Selena,1881,F,7\\n2735,Tempie,1881,F,7\\n2736,Texie,1881,F,7\\n2737,Will,1881,F,7\\n2738,Zetta,1881,F,7\\n2739,Zillah,1881,F,7\\n2740,Aida,1881,F,6\\n2741,Albertine,1881,F,6\\n2742,Allene,1881,F,6\\n2743,Annabel,1881,F,6\\n2744,Arizona,1881,F,6\\n2745,Arra,1881,F,6\\n2746,Aurora,1881,F,6\\n2747,Belva,1881,F,6\\n2748,Biddie,1881,F,6\\n2749,Bird,1881,F,6\\n2750,Bula,1881,F,6\\n2751,Carry,1881,F,6\\n2752,Clementine,1881,F,6\\n2753,Corine,1881,F,6\\n2754,Courtney,1881,F,6\\n2755,Crete,1881,F,6\\n2756,Daisey,1881,F,6\\n2757,Dee,1881,F,6\\n2758,Dicy,1881,F,6\\n2759,Donie,1881,F,6\\n2760,Dorcas,1881,F,6\\n2761,Dossie,1881,F,6\\n2762,Elda,1881,F,6\\n2763,Eldora,1881,F,6\\n2764,Elenora,1881,F,6\\n2765,Ellar,1881,F,6\\n2766,Emelie,1881,F,6\\n2767,Emeline,1881,F,6\\n2768,Emmaline,1881,F,6\\n2769,Ester,1881,F,6\\n2770,Euphemia,1881,F,6\\n2771,Evaline,1881,F,6\\n2772,Evangeline,1881,F,6\\n2773,Flavia,1881,F,6\\n2774,Fleta,1881,F,6\\n2775,Florance,1881,F,6\\n2776,Fronia,1881,F,6\\n2777,Gillie,1881,F,6\\n2778,Guadalupe,1881,F,6\\n2779,Hassie,1881,F,6\\n2780,Icy,1881,F,6\\n2781,Ivah,1881,F,6\\n2782,Jewel,1881,F,6\\n2783,Jinnie,1881,F,6\\n2784,Joan,1881,F,6\\n2785,Jonnie,1881,F,6\\n2786,Karen,1881,F,6\\n2787,Katharina,1881,F,6\\n2788,Kathryne,1881,F,6\\n2789,Lella,1881,F,6\\n2790,Leo,1881,F,6\\n2791,Luvenia,1881,F,6\\n2792,Mai,1881,F,6\\n2793,Margarett,1881,F,6\\n2794,Mell,1881,F,6\\n2795,Merle,1881,F,6\\n2796,Mirtie,1881,F,6\\n2797,Mora,1881,F,6\\n2798,Nelia,1881,F,6\\n2799,Nena,1881,F,6\\n2800,Ninnie,1881,F,6\\n2801,Odie,1881,F,6\\n2802,Osie,1881,F,6\\n2803,Patience,1881,F,6\\n2804,Pink,1881,F,6\\n2805,Rettie,1881,F,6\\n2806,Rosia,1881,F,6\\n2807,Rowena,1881,F,6\\n2808,Rozella,1881,F,6\\n2809,Ruthie,1881,F,6\\n2810,Salome,1881,F,6\\n2811,Sammie,1881,F,6\\n2812,Sofia,1881,F,6\\n2813,Sula,1881,F,6\\n2814,Suzanne,1881,F,6\\n2815,Sybil,1881,F,6\\n2816,Sylvania,1881,F,6\\n2817,Theodosia,1881,F,6\\n2818,Therese,1881,F,6\\n2819,Tilla,1881,F,6\\n2820,Tressa,1881,F,6\\n2821,Ursula,1881,F,6\\n2822,Veda,1881,F,6\\n2823,Vena,1881,F,6\\n2824,Verdie,1881,F,6\\n2825,Wanda,1881,F,6\\n2826,Zaida,1881,F,6\\n2827,Zena,1881,F,6\\n2828,Zenobia,1881,F,6\\n2829,Zilpha,1881,F,6\\n2830,Aggie,1881,F,5\\n2831,Alba,1881,F,5\\n2832,Aletha,1881,F,5\\n2833,Alvena,1881,F,5\\n2834,Alverta,1881,F,5\\n2835,Amber,1881,F,5\\n2836,Andrea,1881,F,5\\n2837,Andrew,1881,F,5\\n2838,Annis,1881,F,5\\n2839,Ason,1881,F,5\\n2840,Avis,1881,F,5\\n2841,Bama,1881,F,5\\n2842,Bernadette,1881,F,5\\n2843,Bina,1881,F,5\\n2844,Birtie,1881,F,5\\n2845,Byrd,1881,F,5\\n2846,Celesta,1881,F,5\\n2847,Charlie,1881,F,5\\n2848,Cherry,1881,F,5\\n2849,Chloie,1881,F,5\\n2850,Christie,1881,F,5\\n2851,Claudine,1881,F,5\\n2852,Corda,1881,F,5\\n2853,Corean,1881,F,5\\n2854,Corinna,1881,F,5\\n2855,Donia,1881,F,5\\n2856,Doshie,1881,F,5\\n2857,Earl,1881,F,5\\n2858,Eleanore,1881,F,5\\n2859,Elena,1881,F,5\\n2860,Elodie,1881,F,5\\n2861,Ena,1881,F,5\\n2862,Epsie,1881,F,5\\n2863,Erna,1881,F,5\\n2864,Eugene,1881,F,5\\n2865,Eulah,1881,F,5\\n2866,Evalena,1881,F,5\\n2867,Exa,1881,F,5\\n2868,Faith,1881,F,5\\n2869,Gail,1881,F,5\\n2870,Georgine,1881,F,5\\n2871,Glenn,1881,F,5\\n2872,Gretta,1881,F,5\\n2873,Gwendolyn,1881,F,5\\n2874,Hedwig,1881,F,5\\n2875,Henriette,1881,F,5\\n2876,Indiana,1881,F,5\\n2877,Izora,1881,F,5\\n2878,Jeffie,1881,F,5\\n2879,Jemima,1881,F,5\\n2880,Jesse,1881,F,5\\n2881,Jo,1881,F,5\\n2882,Johnie,1881,F,5\\n2883,Josefa,1881,F,5\\n2884,Josiephine,1881,F,5\\n2885,Judy,1881,F,5\\n2886,Juliana,1881,F,5\\n2887,Junie,1881,F,5\\n2888,Katharyn,1881,F,5\\n2889,Lannie,1881,F,5\\n2890,Lavada,1881,F,5\\n2891,Lavenia,1881,F,5\\n2892,Leda,1881,F,5\\n2893,Leonore,1881,F,5\\n2894,Levina,1881,F,5\\n2895,Libby,1881,F,5\\n2896,Lilie,1881,F,5\\n2897,Lissie,1881,F,5\\n2898,Littie,1881,F,5\\n2899,Lollie,1881,F,5\\n2900,Loma,1881,F,5\\n2901,Lonnie,1881,F,5\\n2902,Louanna,1881,F,5\\n2903,Lugenia,1881,F,5\\n2904,Mabell,1881,F,5\\n2905,Madeleine,1881,F,5\\n2906,Mahalia,1881,F,5\\n2907,Margarette,1881,F,5\\n2908,Marinda,1881,F,5\\n2909,Mila,1881,F,5\\n2910,Minda,1881,F,5\\n2911,Nealie,1881,F,5\\n2912,Neta,1881,F,5\\n2913,Netta,1881,F,5\\n2914,Orlena,1881,F,5\\n2915,Ottie,1881,F,5\\n2916,Ottilia,1881,F,5\\n2917,Ova,1881,F,5\\n2918,Ozella,1881,F,5\\n2919,Phyllis,1881,F,5\\n2920,Pollie,1881,F,5\\n2921,Ressie,1881,F,5\\n2922,Rosena,1881,F,5\\n2923,Rosey,1881,F,5\\n2924,Sabina,1881,F,5\\n2925,Senora,1881,F,5\\n2926,Siddie,1881,F,5\\n2927,Susana,1881,F,5\\n2928,Susanne,1881,F,5\\n2929,Texanna,1881,F,5\\n2930,Texas,1881,F,5\\n2931,Thea,1881,F,5\\n2932,Theodora,1881,F,5\\n2933,Tiney,1881,F,5\\n2934,Tinie,1881,F,5\\n2935,Tiny,1881,F,5\\n2936,Vernon,1881,F,5\\n2937,Verona,1881,F,5\\n2938,Viney,1881,F,5\\n2939,John,1881,M,8769\\n2940,William,1881,M,8524\\n2941,James,1881,M,5442\\n2942,George,1881,M,4664\\n2943,Charles,1881,M,4636\\n2944,Frank,1881,M,2834\\n2945,Joseph,1881,M,2456\\n2946,Henry,1881,M,2339\\n2947,Thomas,1881,M,2282\\n2948,Edward,1881,M,2177\\n2949,Robert,1881,M,2140\\n2950,Harry,1881,M,2002\\n2951,Walter,1881,M,1670\\n2952,Arthur,1881,M,1575\\n2953,Fred,1881,M,1418\\n2954,Albert,1881,M,1319\\n2955,Samuel,1881,M,919\\n2956,David,1881,M,750\\n2957,Louis,1881,M,746\\n2958,Charlie,1881,M,668\\n2959,Clarence,1881,M,668\\n2960,Richard,1881,M,641\\n2961,Joe,1881,M,639\\n2962,Andrew,1881,M,588\\n2963,Ernest,1881,M,571\\n2964,Will,1881,M,550\\n2965,Jesse,1881,M,536\\n2966,Oscar,1881,M,530\\n2967,Daniel,1881,M,527\\n2968,Willie,1881,M,498\\n2969,Benjamin,1881,M,481\\n2970,Sam,1881,M,481\\n2971,Alfred,1881,M,466\\n2972,Roy,1881,M,440\\n2973,Lewis,1881,M,439\\n2974,Frederick,1881,M,433\\n2975,Peter,1881,M,428\\n2976,Elmer,1881,M,388\\n2977,Jacob,1881,M,381\\n2978,Herbert,1881,M,369\\n2979,Carl,1881,M,359\\n2980,Howard,1881,M,359\\n2981,Tom,1881,M,349\\n2982,Lee,1881,M,342\\n2983,Ralph,1881,M,329\\n2984,Martin,1881,M,327\\n2985,Jim,1881,M,323\\n2986,Earl,1881,M,314\\n2987,Eugene,1881,M,314\\n2988,Bert,1881,M,312\\n2989,Edgar,1881,M,312\\n2990,Herman,1881,M,304\\n2991,Claude,1881,M,302\\n2992,Michael,1881,M,298\\n2993,Paul,1881,M,291\\n2994,Ben,1881,M,289\\n2995,Ira,1881,M,286\\n2996,Harvey,1881,M,282\\n2997,Chester,1881,M,274\\n2998,Edwin,1881,M,274\\n2999,Ed,1881,M,272\\n3000,Charley,1881,M,266\\n3001,Francis,1881,M,259\\n3002,Isaac,1881,M,258\\n3003,Luther,1881,M,249\\n3004,Lawrence,1881,M,244\\n3005,Oliver,1881,M,238\\n3006,Clyde,1881,M,232\\n3007,Otto,1881,M,221\\n3008,Hugh,1881,M,220\\n3009,Alexander,1881,M,209\\n3010,Leonard,1881,M,206\\n3011,Jack,1881,M,197\\n3012,Raymond,1881,M,195\\n3013,Patrick,1881,M,188\\n3014,Guy,1881,M,186\\n3015,Homer,1881,M,181\\n3016,Floyd,1881,M,178\\n3017,Theodore,1881,M,178\\n3018,Allen,1881,M,172\\n3019,August,1881,M,172\\n3020,Marion,1881,M,162\\n3021,Philip,1881,M,156\\n3022,Warren,1881,M,156\\n3023,Horace,1881,M,152\\n3024,Dan,1881,M,148\\n3025,Ray,1881,M,148\\n3026,Garfield,1881,M,147\\n3027,Stephen,1881,M,147\\n3028,Emil,1881,M,145\\n3029,Jessie,1881,M,143\\n3030,Milton,1881,M,143\\n3031,Willis,1881,M,142\\n3032,Calvin,1881,M,138\\n3033,Dave,1881,M,135\\n3034,Bernard,1881,M,130\\n3035,Julius,1881,M,129\\n3036,Leroy,1881,M,129\\n3037,Sidney,1881,M,129\\n3038,Anthony,1881,M,128\\n3039,Archie,1881,M,125\\n3040,Perry,1881,M,123\\n3041,Leo,1881,M,122\\n3042,Leon,1881,M,121\\n3043,Rufus,1881,M,121\\n3044,Harold,1881,M,120\\n3045,Franklin,1881,M,117\\n3046,Adam,1881,M,116\\n3047,Alex,1881,M,114\\n3048,Alonzo,1881,M,111\\n3049,Everett,1881,M,111\\n3050,Clifford,1881,M,110\\n3051,Victor,1881,M,110\\n3052,Eddie,1881,M,109\\n3053,Alvin,1881,M,105\\n3054,Levi,1881,M,104\\n3055,Amos,1881,M,102\\n3056,Roscoe,1881,M,102\\n3057,Wesley,1881,M,102\\n3058,Dennis,1881,M,99\\n3059,Eli,1881,M,97\\n3060,Jerry,1881,M,97\\n3061,Jay,1881,M,96\\n3062,Hiram,1881,M,95\\n3063,Norman,1881,M,95\\n3064,Percy,1881,M,95\\n3065,Aaron,1881,M,94\\n3066,Gus,1881,M,94\\n3067,Mark,1881,M,94\\n3068,Willard,1881,M,94\\n3069,Moses,1881,M,93\\n3070,Earnest,1881,M,92\\n3071,Gilbert,1881,M,92\\n3072,Jake,1881,M,92\\n3073,Leslie,1881,M,92\\n3074,Nathan,1881,M,91\\n3075,Adolph,1881,M,90\\n3076,Nelson,1881,M,90\\n3077,Otis,1881,M,89\\n3078,Irvin,1881,M,88\\n3079,Wallace,1881,M,88\\n3080,Clinton,1881,M,87\\n3081,Lester,1881,M,87\\n3082,Lloyd,1881,M,87\\n3083,Morris,1881,M,87\\n3084,Abraham,1881,M,86\\n3085,Jess,1881,M,85\\n3086,Elbert,1881,M,84\\n3087,Phillip,1881,M,84\\n3088,Jasper,1881,M,83\\n3089,Ross,1881,M,82\\n3090,Noah,1881,M,81\\n3091,Wilbur,1881,M,81\\n3092,Claud,1881,M,80\\n3093,Cornelius,1881,M,80\\n3094,Mack,1'"
      ]
     },
     "execution_count": 3,
     "metadata": {},
     "output_type": "execute_result"
    }
   ],
   "source": [
    "dbutils.fs.head(\"/FileStore/tables/US Baby Names/NationalNames.csv\")"
   ]
  },
  {
   "cell_type": "code",
   "execution_count": 0,
   "metadata": {
    "application/vnd.databricks.v1+cell": {
     "cellMetadata": {
      "byteLimit": 2048000,
      "rowLimit": 10000
     },
     "inputWidgets": {},
     "nuid": "88666e9d-57ae-45e3-8cd8-ca022469bcc2",
     "showTitle": false,
     "title": ""
    }
   },
   "outputs": [
    {
     "output_type": "execute_result",
     "data": {
      "text/plain": [
       "True"
      ]
     },
     "execution_count": 4,
     "metadata": {},
     "output_type": "execute_result"
    }
   ],
   "source": [
    "dbutils.fs.mkdirs(\"/FileStore/tables/US Baby test/\")"
   ]
  },
  {
   "cell_type": "code",
   "execution_count": 0,
   "metadata": {
    "application/vnd.databricks.v1+cell": {
     "cellMetadata": {
      "byteLimit": 2048000,
      "rowLimit": 10000
     },
     "inputWidgets": {},
     "nuid": "830069b1-70af-4b22-83dc-0b2c9f677e7e",
     "showTitle": false,
     "title": ""
    }
   },
   "outputs": [
    {
     "output_type": "execute_result",
     "data": {
      "text/plain": [
       "True"
      ]
     },
     "execution_count": 1,
     "metadata": {},
     "output_type": "execute_result"
    }
   ],
   "source": [
    "dbutils.fs.cp(\"/FileStore/tables/US Baby Names/NationalNames.csv\",\"/FileStore/tables/US Baby test/\")"
   ]
  },
  {
   "cell_type": "code",
   "execution_count": 0,
   "metadata": {
    "application/vnd.databricks.v1+cell": {
     "cellMetadata": {
      "byteLimit": 2048000,
      "rowLimit": 10000
     },
     "inputWidgets": {},
     "nuid": "42482d88-7462-4f8c-b1cf-43f8c73350c4",
     "showTitle": false,
     "title": ""
    }
   },
   "outputs": [
    {
     "output_type": "execute_result",
     "data": {
      "text/plain": [
       "'Hello World!'"
      ]
     },
     "execution_count": 12,
     "metadata": {},
     "output_type": "execute_result"
    }
   ],
   "source": [
    "dbutils.fs.put(\"/FileStore/tables/US Baby test/test.txt\",\"Hello World!\")\n",
    "\n",
    "dbutils.fs.head(\"/FileStore/tables/US Baby test/test.txt\")"
   ]
  },
  {
   "cell_type": "code",
   "execution_count": 0,
   "metadata": {
    "application/vnd.databricks.v1+cell": {
     "cellMetadata": {
      "byteLimit": 2048000,
      "rowLimit": 10000
     },
     "inputWidgets": {},
     "nuid": "9dcb5ff2-7060-4b47-ae11-c538dd2138f8",
     "showTitle": false,
     "title": ""
    }
   },
   "outputs": [
    {
     "output_type": "execute_result",
     "data": {
      "text/plain": [
       "True"
      ]
     },
     "execution_count": 15,
     "metadata": {},
     "output_type": "execute_result"
    }
   ],
   "source": [
    "#dbutils.fs.rm(\"/FileStore/tables/US Baby test/StateNames.csv\")\n",
    "\n",
    "dbutils.fs.rm(\"/FileStore/tables/US Baby test/\",True)"
   ]
  }
 ],
 "metadata": {
  "application/vnd.databricks.v1+notebook": {
   "dashboards": [],
   "environmentMetadata": null,
   "language": "python",
   "notebookMetadata": {
    "pythonIndentUnit": 4
   },
   "notebookName": "05. DBUtils Commands",
   "widgets": {}
  }
 },
 "nbformat": 4,
 "nbformat_minor": 0
}
