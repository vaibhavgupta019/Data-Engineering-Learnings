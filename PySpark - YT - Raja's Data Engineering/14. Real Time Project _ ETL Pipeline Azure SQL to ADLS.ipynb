{
 "cells": [
  {
   "cell_type": "markdown",
   "metadata": {
    "application/vnd.databricks.v1+cell": {
     "cellMetadata": {},
     "inputWidgets": {},
     "nuid": "2810b79d-b731-49ba-9a9e-94efb4029647",
     "showTitle": false,
     "title": ""
    }
   },
   "source": [
    "#####Requirements:-\n",
    "* Dataset used: AdventureWorks"
   ]
  },
  {
   "cell_type": "markdown",
   "metadata": {
    "application/vnd.databricks.v1+cell": {
     "cellMetadata": {},
     "inputWidgets": {},
     "nuid": "9339fa29-febb-437b-9e37-f266beb8ea70",
     "showTitle": false,
     "title": ""
    }
   },
   "source": [
    "####Step 1: Extract Table from Azure SQL"
   ]
  },
  {
   "cell_type": "code",
   "execution_count": 0,
   "metadata": {
    "application/vnd.databricks.v1+cell": {
     "cellMetadata": {},
     "inputWidgets": {},
     "nuid": "43055385-36d9-4b2b-ab18-0b18f7ae901a",
     "showTitle": true,
     "title": "Define JDBC Connection Parameters"
    }
   },
   "outputs": [],
   "source": [
    "jdbcHostname = \"\"\n",
    "jdbcPort = 1433\n",
    "jdbcDatabase = \"\"\n",
    "jbdcUsername = \"\"\n",
    "jdbcPassword = \"\"\n",
    "jdbcDriver = \"com.microsoft.sqlserver.jdbc.SQLServerDriver\"\n",
    "\n",
    "jdbcUrl = f\"jdbc:sqlserver://{jdbcHostname}:{jdbcPort};databaseName={jdbcDatabase};user={jdbcUsername};password={jdbcPassword}\"\n"
   ]
  },
  {
   "cell_type": "code",
   "execution_count": 0,
   "metadata": {
    "application/vnd.databricks.v1+cell": {
     "cellMetadata": {},
     "inputWidgets": {},
     "nuid": "884783fc-22dd-42ab-880d-d554fca7e61c",
     "showTitle": true,
     "title": "Read Product Table"
    }
   },
   "outputs": [],
   "source": [
    "df_product = spark.read.format(\"jdbc\")\\\n",
    "    .option(\"url\", jdbcUrl)\\\n",
    "    .option(\"dbtable\", \"SalesLT.Product\")\\\n",
    "    .load()\n",
    "\n",
    "display(df_product)"
   ]
  },
  {
   "cell_type": "code",
   "execution_count": 0,
   "metadata": {
    "application/vnd.databricks.v1+cell": {
     "cellMetadata": {},
     "inputWidgets": {},
     "nuid": "afdf4816-a386-454a-b8eb-d92c67c7b234",
     "showTitle": true,
     "title": "Read Sales Table"
    }
   },
   "outputs": [],
   "source": [
    "df_sales = spark.read.format(\"jdbc\")\\\n",
    "    .option(\"url\", jdbcUrl)\\\n",
    "    .option(\"dbtable\", \"SalesLT.SalesOrderDetail\")\\\n",
    "    .load()\n",
    "\n",
    "display(df_sales)"
   ]
  },
  {
   "cell_type": "markdown",
   "metadata": {
    "application/vnd.databricks.v1+cell": {
     "cellMetadata": {},
     "inputWidgets": {},
     "nuid": "28e66465-f531-44b0-a470-620ecf8fed18",
     "showTitle": false,
     "title": ""
    }
   },
   "source": [
    "####Step 2:Transform the data as per Business rules"
   ]
  },
  {
   "cell_type": "code",
   "execution_count": 0,
   "metadata": {
    "application/vnd.databricks.v1+cell": {
     "cellMetadata": {},
     "inputWidgets": {},
     "nuid": "90a453ce-3d13-4bab-9214-290837f636d1",
     "showTitle": true,
     "title": "Cleansing Dimension Dataframe - Relace NULL Values"
    }
   },
   "outputs": [],
   "source": [
    "df_product_cleansed = df_product.na.fill({\"Size\" : \"M\", \"Weight\" : 100})\n",
    "\n",
    "display(df_product_cleansed)"
   ]
  },
  {
   "cell_type": "code",
   "execution_count": 0,
   "metadata": {
    "application/vnd.databricks.v1+cell": {
     "cellMetadata": {},
     "inputWidgets": {},
     "nuid": "b543b7db-2884-44ab-a999-1a1c2c5dad86",
     "showTitle": true,
     "title": "Cleansing Fact Dataframe - Drop Duplicate Records"
    }
   },
   "outputs": [],
   "source": [
    "df_sales_cleansed = df_sales.dropDuplicates()\n",
    "\n",
    "display(df_sales_cleansed)"
   ]
  },
  {
   "cell_type": "code",
   "execution_count": 0,
   "metadata": {
    "application/vnd.databricks.v1+cell": {
     "cellMetadata": {},
     "inputWidgets": {},
     "nuid": "4a7d3e9e-9e82-43e6-8768-d4b3b2c26528",
     "showTitle": true,
     "title": "Join Fact and Dimension Dataframes"
    }
   },
   "outputs": [],
   "source": [
    "df_join = df_sales_cleansed \\\n",
    "    .join(df_product_cleansed, df_sales_cleansed.ProductID == df_product_cleansed.ProductID, \"leftouter\")\\\n",
    "    .select(df_sales_cleansed.ProductID,\n",
    "            df_sales_cleansed.UnitPrice,\n",
    "            df_sales_cleansed.LineTotal,\n",
    "            df_product_cleansed.Name,\n",
    "            df_product_cleansed.Color,\n",
    "            df_product_cleansed.Size,\n",
    "            df_product_cleansed.Weight,\n",
    "        )\n",
    "    \n",
    "display(df_join)"
   ]
  },
  {
   "cell_type": "code",
   "execution_count": 0,
   "metadata": {
    "application/vnd.databricks.v1+cell": {
     "cellMetadata": {},
     "inputWidgets": {},
     "nuid": "9616ccbb-cea5-4759-a307-9d618d494f55",
     "showTitle": true,
     "title": "Aggregation"
    }
   },
   "outputs": [],
   "source": [
    "df_agg = df.join.groupBy([\"ProductID\",\"Name\",\"Color\",\"Size\",\"Weight\"])\\\n",
    "    .sum(\"LineTotal\")\\\n",
    "    .withColumnRenamed(\"sum(LineTotal)\", \"sum_total_sales\")\n",
    "\n",
    "display(df_agg)"
   ]
  },
  {
   "cell_type": "markdown",
   "metadata": {
    "application/vnd.databricks.v1+cell": {
     "cellMetadata": {},
     "inputWidgets": {},
     "nuid": "f8591792-c0eb-4d0a-844c-d94fda9c0322",
     "showTitle": false,
     "title": ""
    }
   },
   "source": [
    "####Step 3: Load Transformed Data into Azure Data Lake Storage (ADLS)"
   ]
  },
  {
   "cell_type": "code",
   "execution_count": 0,
   "metadata": {
    "application/vnd.databricks.v1+cell": {
     "cellMetadata": {},
     "inputWidgets": {},
     "nuid": "c949c9d3-8142-4dae-8357-75907566f632",
     "showTitle": true,
     "title": "Create Mount Point for ADLS Integration"
    }
   },
   "outputs": [],
   "source": [
    "dbutils.fs.mount(\n",
    "    source = \"wasbs://<container name>@<storage account>.blob.core.windows.net\",\n",
    "    mount_point = \"/mnt/<mount name>\",\n",
    "    extra_configs = (\"fs.azure.account.key.<storage account>.blob.core.windows.net\":\"<access key>\")\n",
    ")"
   ]
  },
  {
   "cell_type": "code",
   "execution_count": 0,
   "metadata": {
    "application/vnd.databricks.v1+cell": {
     "cellMetadata": {},
     "inputWidgets": {},
     "nuid": "b951ecbd-c179-4747-9afd-7c0db930f404",
     "showTitle": true,
     "title": "List the Files Under Mount Point"
    }
   },
   "outputs": [],
   "source": [
    "dbutils.fs.ls(\"<mount_point>\")"
   ]
  },
  {
   "cell_type": "code",
   "execution_count": 0,
   "metadata": {
    "application/vnd.databricks.v1+cell": {
     "cellMetadata": {},
     "inputWidgets": {},
     "nuid": "0a328582-4a11-4d47-a55f-05c837ced35d",
     "showTitle": true,
     "title": "Write the Data in Parquet Format"
    }
   },
   "outputs": [],
   "source": [
    "df_agg.write.format(\"parquet\")\\\n",
    "    .save(\"<mount_point>/adv_work_parquet/\")"
   ]
  },
  {
   "cell_type": "code",
   "execution_count": 0,
   "metadata": {
    "application/vnd.databricks.v1+cell": {
     "cellMetadata": {},
     "inputWidgets": {},
     "nuid": "14cc8db7-b78d-4d87-a834-ab4c2e996292",
     "showTitle": true,
     "title": "Write Data in CSV Format"
    }
   },
   "outputs": [],
   "source": [
    "df_agg.write.format(\"parquet\")\\\n",
    "    .save(\"<mount_point>/adv_work_csv/\")"
   ]
  },
  {
   "cell_type": "markdown",
   "metadata": {
    "application/vnd.databricks.v1+cell": {
     "cellMetadata": {},
     "inputWidgets": {},
     "nuid": "72417411-8b29-45a4-ad97-704ec5d71f31",
     "showTitle": false,
     "title": ""
    }
   },
   "source": [
    "####End of Pipeline"
   ]
  }
 ],
 "metadata": {
  "application/vnd.databricks.v1+notebook": {
   "dashboards": [],
   "environmentMetadata": null,
   "language": "python",
   "notebookMetadata": {
    "pythonIndentUnit": 4
   },
   "notebookName": "14. Real Time Project : ETL Pipeline Azure SQL to ADLS",
   "widgets": {}
  }
 },
 "nbformat": 4,
 "nbformat_minor": 0
}
